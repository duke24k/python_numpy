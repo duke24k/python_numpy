{
 "cells": [
  {
   "cell_type": "code",
   "execution_count": null,
   "metadata": {},
   "outputs": [],
   "source": [
    "import numpy as np\n",
    "\n",
    "a = np.array([1,2,3,4])\n",
    "print(np.shape(a))\n",
    "print(np.ndim(a))\n",
    "print(a.strides)\n",
    "print(a.dtype)"
   ]
  },
  {
   "cell_type": "code",
   "execution_count": null,
   "metadata": {},
   "outputs": [],
   "source": [
    "x = [0.0, 1, 2, 3, 4] # Any float makes all float\n",
    "y = np.array(x)\n",
    "print(type(y)) \n",
    "\n",
    "print(y * y) # Element-by-element\n",
    "\n",
    "z = np.asmatrix(x)\n",
    "print(type(z), np.shape(z))\n",
    "\n",
    "print(z * z.T )# dot 연산이 됨\n",
    "\n",
    "print(print(\"aaa\"), \"bbbb\")"
   ]
  },
  {
   "cell_type": "code",
   "execution_count": null,
   "metadata": {},
   "outputs": [],
   "source": [
    "x=np.matrix([[1.0],[2.0],[3.0],[4.0],[5.0]])\n",
    "print(x)\n",
    "print(np.shape(x))"
   ]
  },
  {
   "cell_type": "code",
   "execution_count": null,
   "metadata": {},
   "outputs": [],
   "source": [
    "x1=np.matrix([1.0,2.0,3.0,4.0,5.0])\n",
    "print(x1)\n",
    "print(np.shape(x1))"
   ]
  },
  {
   "cell_type": "code",
   "execution_count": null,
   "metadata": {},
   "outputs": [],
   "source": [
    "xa=np.array([1.0,2.0,3.0,4.0,5.0])\n",
    "print(xa)\n",
    "print(np.shape(xa))\n",
    "print(xa.T)"
   ]
  },
  {
   "cell_type": "code",
   "execution_count": null,
   "metadata": {},
   "outputs": [],
   "source": [
    "xa1=np.array([[1.0],[2.0],[3.0],[4.0],[5.0]])\n",
    "print(xa1)\n",
    "print(np.shape(xa1))\n",
    "print(xa1.T)"
   ]
  },
  {
   "cell_type": "code",
   "execution_count": null,
   "metadata": {},
   "outputs": [],
   "source": [
    "x = np.array([[1.0,2.0],[3.0,4.0]])\n",
    "y = np.array([[5.0,6.0],[7.0,8.0]])\n",
    "z = np.concatenate((x,y),axis = 0)\n",
    "print(z)\n",
    "z = np.concatenate((x,y),axis = 1)\n",
    "print(z)"
   ]
  },
  {
   "cell_type": "code",
   "execution_count": null,
   "metadata": {},
   "outputs": [],
   "source": [
    "x = np.array([1.0,2.0,3.0,4.0,5.0])\n",
    "y = x[:]\n",
    "print(y)\n",
    "\n",
    "y = x[:2]\n",
    "print(y)\n",
    "y = x[1::2]\n",
    "print(y)\n",
    "y[:] = 99\n",
    "print(y)\n",
    "print(x)"
   ]
  },
  {
   "cell_type": "code",
   "execution_count": null,
   "metadata": {},
   "outputs": [],
   "source": [
    "y = np.array([[0.0, 1, 2, 3, 4],[5, 6, 7, 8, 9]])\n",
    "print( y)\n",
    "\n",
    "print( y[:1,:] )# Row 0, all columns\n",
    "\n",
    "print( y[:1]) # Same as y[:1,:]\n",
    "\n",
    "print(y[:,:1])# all rows, column 0\n"
   ]
  },
  {
   "cell_type": "code",
   "execution_count": null,
   "metadata": {},
   "outputs": [],
   "source": [
    "x33 = np.reshape(np.arange(100),(5,20))\n",
    "\n",
    "y22 = np.arange(5)\n",
    "print(x33.shape)\n",
    "print(y22.shape)\n",
    "print(x33.strides)\n",
    "print(y22.strides)\n",
    "\n",
    "if x33.ndim == y22.ndim :\n",
    "    print('exec')\n",
    "    pass\n",
    "else :\n",
    "    if x33.shape[0] == y22.shape[0] :\n",
    "        y22= np.reshape(y22,(x33.shape[0],1))\n",
    "    else :\n",
    "        print(\"col\")\n",
    "        y22= np.reshape(y22,(1,x33.shape[1]))\n",
    "print(x33+y22)"
   ]
  },
  {
   "cell_type": "code",
   "execution_count": null,
   "metadata": {},
   "outputs": [],
   "source": [
    "mx = np.arange(10).reshape(5,2)\n",
    "my = np.arange(3)\n",
    "X,Y = np.meshgrid(mx,my)\n",
    "print(X)\n",
    "print(Y)\n",
    "print(X+Y)\n"
   ]
  },
  {
   "cell_type": "code",
   "execution_count": null,
   "metadata": {},
   "outputs": [],
   "source": [
    "x = np.array([[1,2],[3,4]])\n",
    "z = np.hstack((x,x,x))\n",
    "y = np.vstack((x,x))\n",
    "\n",
    "print(z)\n",
    "print(y)\n"
   ]
  },
  {
   "cell_type": "code",
   "execution_count": null,
   "metadata": {},
   "outputs": [],
   "source": [
    "print(np.tile(x,(2,1)))\n",
    "y = np.vstack((x,x))\n",
    "print(y)\n",
    "print(np.tile(x,(1,3)))\n",
    "z = np.hstack((x,x,x))\n",
    "print(z)"
   ]
  },
  {
   "cell_type": "code",
   "execution_count": null,
   "metadata": {},
   "outputs": [],
   "source": [
    "x = np.ones((1,))\n",
    "print(np.shape(x))\n",
    "print(x)\n",
    "xx = np.tile(x,(5,1,5,1))\n",
    "print(xx)\n",
    "y = xx.squeeze()\n",
    "print(np.shape(y))\n",
    "print(y)\n"
   ]
  },
  {
   "cell_type": "code",
   "execution_count": null,
   "metadata": {},
   "outputs": [],
   "source": [
    "help(np.tile)"
   ]
  },
  {
   "cell_type": "code",
   "execution_count": null,
   "metadata": {},
   "outputs": [],
   "source": [
    "a = np.ones((1,2))\n",
    "print(a)\n",
    "a = np.ones((3,3,2))\n",
    "print(a)\n",
    "print(a[0,:3,:1])\n",
    "print(a[0])"
   ]
  },
  {
   "cell_type": "code",
   "execution_count": null,
   "metadata": {},
   "outputs": [],
   "source": [
    "a = np.array([2,3,4])\n",
    "b = np.array([4,5,6])\n",
    "print(np.dot(a,b))\n",
    "\n",
    "import math\n",
    "\n",
    "a = np.array([4,2,7])\n",
    "\n",
    "print(np.linalg.norm(a))\n",
    "print(math.sqrt(sum([n**2 for n in a])))\n",
    "\n",
    "\n",
    "b = a/np.linalg.norm(a)\n",
    "print(np.linalg.norm(b))"
   ]
  },
  {
   "cell_type": "code",
   "execution_count": null,
   "metadata": {},
   "outputs": [],
   "source": [
    "import math\n",
    "import numpy as np\n",
    "\n",
    "a = np.array([4,2,7])\n",
    "\n",
    "print(np.linalg.norm(a))\n",
    "print(math.sqrt(sum([n**2 for n in a])))\n",
    "\n",
    "b = np.array([0,0,0])\n",
    "print(np.linalg.norm(b))\n",
    "print(math.sqrt(sum([n**2 for n in b])))\n",
    "\n",
    "e = np.array([1,0,0])\n",
    "print(np.linalg.norm(e))\n",
    "print(math.sqrt(sum([n**2 for n in e])))\n"
   ]
  },
  {
   "cell_type": "code",
   "execution_count": 291,
   "metadata": {},
   "outputs": [
    {
     "name": "stdout",
     "output_type": "stream",
     "text": [
      "RangeIndex(start=0, stop=5, step=1) 0\n",
      "Index(['a', 'b', 'c', 'd', 'e'], dtype='object') 0\n"
     ]
    }
   ],
   "source": [
    "import numpy as np\n",
    "import pandas as pd\n",
    "\n",
    "s = pd.Series([0,1,2,3,4])\n",
    "\n",
    "s1 = pd.Series([0,1,2,3,4], index=['a', 'b', 'c', 'd', 'e'])\n",
    "\n",
    "\n",
    "print(s.index, s[0])\n",
    "print(s1.index,s1['a'])\n"
   ]
  },
  {
   "cell_type": "code",
   "execution_count": 292,
   "metadata": {},
   "outputs": [
    {
     "name": "stdout",
     "output_type": "stream",
     "text": [
      "0    0\n",
      "1    1\n",
      "2    2\n",
      "dtype: int64\n",
      "a    0\n",
      "b    1\n",
      "c    2\n",
      "dtype: int64\n"
     ]
    }
   ],
   "source": [
    "import numpy as np\n",
    "import pandas as pd\n",
    "s = pd.Series([0,1,2,3,4])\n",
    "\n",
    "s1 = pd.Series([0,1,2,3,4], index=['a', 'b', 'c', 'd', 'e'])\n",
    "\n",
    "print(s[0:3])\n",
    "print(s1['a':'c'])\n"
   ]
  },
  {
   "cell_type": "code",
   "execution_count": 293,
   "metadata": {},
   "outputs": [
    {
     "name": "stdout",
     "output_type": "stream",
     "text": [
      "4    4\n",
      "3    3\n",
      "1    1\n",
      "dtype: int64\n",
      "d    3\n",
      "a    0\n",
      "c    2\n",
      "dtype: int64\n"
     ]
    }
   ],
   "source": [
    "import numpy as np\n",
    "import pandas as pd\n",
    "s = pd.Series([0,1,2,3,4])\n",
    "\n",
    "s1 = pd.Series([0,1,2,3,4], index=['a', 'b', 'c', 'd', 'e'])\n",
    "\n",
    "print(s[[4,3,1]])\n",
    "print(s1[['d','a','c']])\n"
   ]
  },
  {
   "cell_type": "code",
   "execution_count": 294,
   "metadata": {},
   "outputs": [
    {
     "name": "stdout",
     "output_type": "stream",
     "text": [
      "0    0\n",
      "1    1\n",
      "2    2\n",
      "dtype: int64\n",
      "e    4\n",
      "dtype: int64\n"
     ]
    }
   ],
   "source": [
    "import numpy as np\n",
    "import pandas as pd\n",
    "s = pd.Series([0,1,2,3,4])\n",
    "\n",
    "s1 = pd.Series([0,1,2,3,4], index=['a', 'b', 'c', 'd', 'e'])\n",
    "\n",
    "print(s[s<3])\n",
    "print(s1[s1>3])\n"
   ]
  },
  {
   "cell_type": "code",
   "execution_count": 295,
   "metadata": {},
   "outputs": [
    {
     "name": "stdout",
     "output_type": "stream",
     "text": [
      "indexing \n",
      " sv  0    0\n",
      "1    1\n",
      "dtype: int64\n",
      "0    0\n",
      "1    1\n",
      "dtype: int64\n",
      "  s  0    0\n",
      "1    1\n",
      "2    2\n",
      "3    3\n",
      "4    4\n",
      "dtype: int64\n"
     ]
    }
   ],
   "source": [
    "import pandas as pd\n",
    "\n",
    "s = pd.Series([0,1,2,3,4])\n",
    "sv = s[[0,1]]\n",
    "print(\"indexing \")\n",
    "print(\" sv \", sv)\n",
    "print(s.__getitem__([0,1]))\n",
    "print(\"  s \", s)\n"
   ]
  },
  {
   "cell_type": "code",
   "execution_count": 299,
   "metadata": {},
   "outputs": [
    {
     "name": "stdout",
     "output_type": "stream",
     "text": [
      " sv  0    999\n",
      "1      1\n",
      "dtype: int64\n",
      "  s  0    999\n",
      "1      1\n",
      "2      2\n",
      "3      3\n",
      "4      4\n",
      "dtype: int64\n",
      " ls  [1]\n",
      " ls  [999]\n",
      " l  [1, 2, 3]\n"
     ]
    }
   ],
   "source": [
    "import pandas as pd\n",
    "s = pd.Series([0,1,2,3,4])\n",
    "sv=s[0:2]\n",
    "sv[0] = 999\n",
    "print(\" sv \", sv)\n",
    "print(\"  s \", s)\n",
    "\n",
    "l = [1,2,3]\n",
    "ls = l[0:1]\n",
    "print(\" ls \", ls)\n",
    "ls[0] = 999\n",
    "print(\" ls \", ls)\n",
    "print(\" l \", l)\n"
   ]
  },
  {
   "cell_type": "code",
   "execution_count": 300,
   "metadata": {},
   "outputs": [
    {
     "name": "stdout",
     "output_type": "stream",
     "text": [
      "Rev    0\n",
      "col    0\n",
      "Name: a, dtype: int64\n"
     ]
    }
   ],
   "source": [
    "import pandas as pd\n",
    "\n",
    "# Our small data set\n",
    "d = [0,1,2,3,4,5,6,7,8,9]\n",
    "\n",
    "# Create dataframe\n",
    "df = pd.DataFrame(d)\n",
    "df.columns = ['Rev']\n",
    "df['col'] = df['Rev']\n",
    "i = ['a','b','c','d','e','f','g','h','i','j']\n",
    "df.index = i\n",
    "print(df.loc['a'])\n"
   ]
  },
  {
   "cell_type": "code",
   "execution_count": 301,
   "metadata": {},
   "outputs": [
    {
     "name": "stdout",
     "output_type": "stream",
     "text": [
      "   Rev  col\n",
      "a    0    0\n",
      "b    1    1\n",
      "c    2    2\n"
     ]
    }
   ],
   "source": [
    "import pandas as pd\n",
    "\n",
    "# Our small data set\n",
    "d = [0,1,2,3,4,5,6,7,8,9]\n",
    "\n",
    "# Create dataframe\n",
    "df = pd.DataFrame(d)\n",
    "df.columns = ['Rev']\n",
    "df['col'] = df['Rev']\n",
    "i = ['a','b','c','d','e','f','g','h','i','j']\n",
    "df.index = i\n",
    "print(df.loc['a':'c'])\n"
   ]
  },
  {
   "cell_type": "code",
   "execution_count": 302,
   "metadata": {},
   "outputs": [
    {
     "name": "stdout",
     "output_type": "stream",
     "text": [
      "a    0\n",
      "b    1\n",
      "c    2\n",
      "Name: Rev, dtype: int64\n"
     ]
    }
   ],
   "source": [
    "import pandas as pd\n",
    "\n",
    "# Our small data set\n",
    "d = [0,1,2,3,4,5,6,7,8,9]\n",
    "\n",
    "# Create dataframe\n",
    "df = pd.DataFrame(d)\n",
    "df.columns = ['Rev']\n",
    "df['col'] = df['Rev']\n",
    "i = ['a','b','c','d','e','f','g','h','i','j']\n",
    "df.index = i\n",
    "print(df.ix[0:3,'Rev'])\n"
   ]
  },
  {
   "cell_type": "code",
   "execution_count": 303,
   "metadata": {},
   "outputs": [
    {
     "name": "stdout",
     "output_type": "stream",
     "text": [
      "   col  Rev\n",
      "a    0    0\n",
      "b    1    1\n",
      "c    2    2\n"
     ]
    }
   ],
   "source": [
    "import pandas as pd\n",
    "\n",
    "# Our small data set\n",
    "d = [0,1,2,3,4,5,6,7,8,9]\n",
    "\n",
    "# Create dataframe\n",
    "df = pd.DataFrame(d)\n",
    "df.columns = ['Rev']\n",
    "df['col'] = df['Rev']\n",
    "i = ['a','b','c','d','e','f','g','h','i','j']\n",
    "df.index = i\n",
    "print(df.ix[:3,['col', 'Rev']])\n"
   ]
  },
  {
   "cell_type": "code",
   "execution_count": 305,
   "metadata": {},
   "outputs": [
    {
     "name": "stdout",
     "output_type": "stream",
     "text": [
      ".....      A      B                         C\n",
      "0  one  start  [66, 13, 13, 65, 33, 68]\n",
      "1  one    end  [66, 13, 13, 65, 33, 68]\n",
      ".....      A      B                         C\n",
      "0  one  start  [66, 13, 13, 65, 33, 68]\n"
     ]
    }
   ],
   "source": [
    "\n",
    "import numpy as np\n",
    "import pandas as pd\n",
    "\n",
    "A = np.array(['one', 'one', 'two', 'two', 'three', 'three'])\n",
    "B = np.array(['start', 'end']*3)\n",
    "C = [np.random.randint(10, 99, 6)]*6\n",
    "df = pd.DataFrame(list(zip(A, B, C)), columns=['A', 'B', 'C'])\n",
    "\n",
    "\n",
    "print(\".....\",df.ix[0:1])\n",
    "print(\".....\", df[0:1])\n"
   ]
  },
  {
   "cell_type": "code",
   "execution_count": 306,
   "metadata": {},
   "outputs": [
    {
     "name": "stdout",
     "output_type": "stream",
     "text": [
      "a    0\n",
      "b    1\n",
      "c    2\n",
      "d    3\n",
      "e    4\n",
      "f    5\n",
      "g    6\n",
      "h    7\n",
      "i    8\n",
      "j    9\n",
      "Name: Rev, dtype: int64\n"
     ]
    }
   ],
   "source": [
    "import pandas as pd\n",
    "\n",
    "# Our small data set\n",
    "d = [0,1,2,3,4,5,6,7,8,9]\n",
    "\n",
    "# Create dataframe\n",
    "df = pd.DataFrame(d)\n",
    "df.columns = ['Rev']\n",
    "df['col'] = df['Rev']\n",
    "i = ['a','b','c','d','e','f','g','h','i','j']\n",
    "df.index = i\n",
    "print(df['Rev'])\n"
   ]
  },
  {
   "cell_type": "code",
   "execution_count": 307,
   "metadata": {},
   "outputs": [
    {
     "name": "stdout",
     "output_type": "stream",
     "text": [
      "   Rev  col\n",
      "a    0    0\n",
      "b    1    1\n",
      "c    2    2\n",
      "d    3    3\n",
      "e    4    4\n",
      "f    5    5\n",
      "g    6    6\n",
      "h    7    7\n",
      "i    8    8\n",
      "j    9    9\n"
     ]
    }
   ],
   "source": [
    "import pandas as pd\n",
    "\n",
    "# Our small data set\n",
    "d = [0,1,2,3,4,5,6,7,8,9]\n",
    "\n",
    "# Create dataframe\n",
    "df = pd.DataFrame(d)\n",
    "df.columns = ['Rev']\n",
    "df['col'] = df['Rev']\n",
    "i = ['a','b','c','d','e','f','g','h','i','j']\n",
    "df.index = i\n",
    "print(df[['Rev', 'col']])\n"
   ]
  },
  {
   "cell_type": "code",
   "execution_count": null,
   "metadata": {
    "collapsed": true
   },
   "outputs": [],
   "source": []
  }
 ],
 "metadata": {
  "anaconda-cloud": {},
  "kernelspec": {
   "display_name": "Python 3",
   "language": "python",
   "name": "python3"
  },
  "language_info": {
   "codemirror_mode": {
    "name": "ipython",
    "version": 3
   },
   "file_extension": ".py",
   "mimetype": "text/x-python",
   "name": "python",
   "nbconvert_exporter": "python",
   "pygments_lexer": "ipython3",
   "version": "3.6.1"
  }
 },
 "nbformat": 4,
 "nbformat_minor": 1
}
