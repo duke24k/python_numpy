{
 "cells": [
  {
   "cell_type": "markdown",
   "metadata": {},
   "source": [
    "# 넘파이 기초 알아보기\n",
    "\n"
   ]
  },
  {
   "cell_type": "code",
   "execution_count": 1,
   "metadata": {
    "collapsed": true
   },
   "outputs": [],
   "source": [
    "import numpy as np"
   ]
  },
  {
   "cell_type": "markdown",
   "metadata": {},
   "source": [
    "### 16개 원소를 가지는 배열을 만들고 shape 변경하기 \n",
    "\n",
    "    배열의 원소들이 수가 shape을 전부 곱한 크기와 동일해야 한다.\n",
    "    "
   ]
  },
  {
   "cell_type": "code",
   "execution_count": 18,
   "metadata": {
    "collapsed": false
   },
   "outputs": [
    {
     "name": "stdout",
     "output_type": "stream",
     "text": [
      "[ 0  1  2  3  4  5  6  7  8  9 10 11 12 13 14 15]\n",
      "[[[ 0  1  2  3]\n",
      "  [ 4  5  6  7]]\n",
      "\n",
      " [[ 8  9 10 11]\n",
      "  [12 13 14 15]]]\n"
     ]
    }
   ],
   "source": [
    "arr = np.arange(16).reshape(2*2*4)\n",
    "print(arr)\n",
    "\n",
    "arr1 = np.arange(16).reshape(2,2,4)\n",
    "print(arr1)"
   ]
  },
  {
   "cell_type": "code",
   "execution_count": 19,
   "metadata": {
    "collapsed": false
   },
   "outputs": [
    {
     "data": {
      "text/plain": [
       "array([[0, 1, 2, 3],\n",
       "       [4, 5, 6, 7]])"
      ]
     },
     "execution_count": 19,
     "metadata": {},
     "output_type": "execute_result"
    }
   ],
   "source": [
    "arr1[0]"
   ]
  },
  {
   "cell_type": "code",
   "execution_count": 20,
   "metadata": {
    "collapsed": false
   },
   "outputs": [
    {
     "data": {
      "text/plain": [
       "array([[ 8,  9, 10, 11],\n",
       "       [12, 13, 14, 15]])"
      ]
     },
     "execution_count": 20,
     "metadata": {},
     "output_type": "execute_result"
    }
   ],
   "source": [
    "arr1[1]"
   ]
  },
  {
   "cell_type": "code",
   "execution_count": 22,
   "metadata": {
    "collapsed": false
   },
   "outputs": [
    {
     "data": {
      "text/plain": [
       "array([0, 1, 2, 3])"
      ]
     },
     "execution_count": 22,
     "metadata": {},
     "output_type": "execute_result"
    }
   ],
   "source": [
    "arr1[0][0]"
   ]
  },
  {
   "cell_type": "code",
   "execution_count": 23,
   "metadata": {
    "collapsed": false
   },
   "outputs": [
    {
     "data": {
      "text/plain": [
       "array([ 8,  9, 10, 11])"
      ]
     },
     "execution_count": 23,
     "metadata": {},
     "output_type": "execute_result"
    }
   ],
   "source": [
    "arr1[1][0]"
   ]
  },
  {
   "cell_type": "markdown",
   "metadata": {},
   "source": [
    "### 축을 기준으로 변환하기 \n",
    "\n",
    "    3차원 배열에 대해  축을 기분으로 변환해 보기"
   ]
  },
  {
   "cell_type": "code",
   "execution_count": 14,
   "metadata": {
    "collapsed": false
   },
   "outputs": [
    {
     "name": "stdout",
     "output_type": "stream",
     "text": [
      "(3, 1, 5)\n",
      "(1, 3, 5)\n",
      "[[[ 0  1  2  3  4]\n",
      "  [ 5  6  7  8  9]\n",
      "  [10 11 12 13 14]]]\n"
     ]
    }
   ],
   "source": [
    "arr1 = np.arange(15).reshape(3,1,5)\n",
    "print(arr1.shape)\n",
    "a = arr1.transpose(1,0,2)\n",
    "print(a.shape)\n",
    "print(a)"
   ]
  },
  {
   "cell_type": "code",
   "execution_count": 16,
   "metadata": {
    "collapsed": false
   },
   "outputs": [
    {
     "name": "stdout",
     "output_type": "stream",
     "text": [
      "(3, 1, 5)\n",
      "(5, 1, 3)\n",
      "[[[ 0  5 10]]\n",
      "\n",
      " [[ 1  6 11]]\n",
      "\n",
      " [[ 2  7 12]]\n",
      "\n",
      " [[ 3  8 13]]\n",
      "\n",
      " [[ 4  9 14]]]\n"
     ]
    }
   ],
   "source": [
    "arr1 = np.arange(15).reshape(3,1,5)\n",
    "print(arr1.shape)\n",
    "a = arr1.transpose(2,1,0)\n",
    "print(a.shape)\n",
    "print(a)"
   ]
  },
  {
   "cell_type": "markdown",
   "metadata": {},
   "source": [
    "### 배열에 대한 합산과 평균을 구하기 \n"
   ]
  },
  {
   "cell_type": "code",
   "execution_count": 28,
   "metadata": {
    "collapsed": false
   },
   "outputs": [
    {
     "name": "stdout",
     "output_type": "stream",
     "text": [
      "[[0 1]\n",
      " [2 3]\n",
      " [4 5]]\n",
      "15\n",
      "2.5\n"
     ]
    }
   ],
   "source": [
    "arr = np.arange(6).reshape(3,2)\n",
    "print(arr)\n",
    "\n",
    "print(arr.sum())\n",
    "print(arr.mean())\n"
   ]
  },
  {
   "cell_type": "markdown",
   "metadata": {},
   "source": [
    "### 축을 기준으로 합산 및 평균\n",
    "\n",
    "    axis 0으로 합산하면 수직방향의 원소를 더해서 계산한다.\n",
    "    axis 1로 합산을 하면 수평방향의 원소를 더해서 계산한다.\n",
    "    \n",
    "    "
   ]
  },
  {
   "cell_type": "code",
   "execution_count": 30,
   "metadata": {
    "collapsed": false
   },
   "outputs": [
    {
     "name": "stdout",
     "output_type": "stream",
     "text": [
      "[6 9]\n",
      "[ 2.  3.]\n",
      "[1 5 9]\n"
     ]
    }
   ],
   "source": [
    "print(arr.sum(axis=0))\n",
    "print(arr.mean(axis=0))\n",
    "print(arr.sum(axis=1))"
   ]
  },
  {
   "cell_type": "markdown",
   "metadata": {},
   "source": [
    "###  누적 계산하기 \n",
    "\n",
    "   현재 배열의 원소들이 합을 누적해서 계산하기\n",
    "   "
   ]
  },
  {
   "cell_type": "code",
   "execution_count": 25,
   "metadata": {
    "collapsed": false
   },
   "outputs": [
    {
     "name": "stdout",
     "output_type": "stream",
     "text": [
      "[[0 1]\n",
      " [2 4]\n",
      " [6 9]]\n",
      "[[0 1]\n",
      " [2 5]\n",
      " [4 9]]\n",
      "[[ 0  1]\n",
      " [ 0  3]\n",
      " [ 0 15]]\n",
      "[[ 0  0]\n",
      " [ 2  6]\n",
      " [ 4 20]]\n"
     ]
    }
   ],
   "source": [
    "print(arr.cumsum(0))\n",
    "print(arr.cumsum(1))\n",
    "\n",
    "print(arr.cumprod(0))\n",
    "print(arr.cumprod(1))"
   ]
  },
  {
   "cell_type": "code",
   "execution_count": 31,
   "metadata": {
    "collapsed": false
   },
   "outputs": [
    {
     "name": "stdout",
     "output_type": "stream",
     "text": [
      "[[0 1]\n",
      " [2 3]]\n",
      "[2 4]\n",
      "[1 5]\n"
     ]
    }
   ],
   "source": [
    "a = np.arange(4).reshape(2,2)\n",
    "print(a)\n",
    "print(a.sum(axis=0))\n",
    "print(a.sum(axis=1))"
   ]
  },
  {
   "cell_type": "code",
   "execution_count": null,
   "metadata": {
    "collapsed": true
   },
   "outputs": [],
   "source": []
  }
 ],
 "metadata": {
  "kernelspec": {
   "display_name": "Python [default]",
   "language": "python",
   "name": "python3"
  },
  "language_info": {
   "codemirror_mode": {
    "name": "ipython",
    "version": 3
   },
   "file_extension": ".py",
   "mimetype": "text/x-python",
   "name": "python",
   "nbconvert_exporter": "python",
   "pygments_lexer": "ipython3",
   "version": "3.5.2"
  }
 },
 "nbformat": 4,
 "nbformat_minor": 1
}
