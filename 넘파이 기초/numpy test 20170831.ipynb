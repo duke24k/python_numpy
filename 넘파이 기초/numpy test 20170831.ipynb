{
 "cells": [
  {
   "cell_type": "code",
   "execution_count": null,
   "metadata": {
    "collapsed": false
   },
   "outputs": [],
   "source": [
    "print(type(int), type(float), type(complex))\n"
   ]
  },
  {
   "cell_type": "code",
   "execution_count": null,
   "metadata": {
    "collapsed": false
   },
   "outputs": [],
   "source": [
    "print(type(str), type(bytes), type(bytearray))"
   ]
  },
  {
   "cell_type": "code",
   "execution_count": null,
   "metadata": {
    "collapsed": false
   },
   "outputs": [],
   "source": [
    "print(type(tuple), type(list))"
   ]
  },
  {
   "cell_type": "code",
   "execution_count": null,
   "metadata": {
    "collapsed": false
   },
   "outputs": [],
   "source": [
    "print(type(range))"
   ]
  },
  {
   "cell_type": "code",
   "execution_count": null,
   "metadata": {
    "collapsed": false
   },
   "outputs": [],
   "source": [
    "print(type(dict))"
   ]
  },
  {
   "cell_type": "code",
   "execution_count": null,
   "metadata": {
    "collapsed": false
   },
   "outputs": [],
   "source": [
    "print(type(set),type(frozenset))"
   ]
  },
  {
   "cell_type": "code",
   "execution_count": null,
   "metadata": {
    "collapsed": false
   },
   "outputs": [],
   "source": [
    "import pprint\n",
    "\n",
    "pprint.pprint(dir(object))\n",
    "print(object.__class__)\n",
    "print(object.__str__(object))"
   ]
  },
  {
   "cell_type": "code",
   "execution_count": null,
   "metadata": {
    "collapsed": false
   },
   "outputs": [],
   "source": [
    "import pprint\n",
    "\n",
    "o = object()\n",
    "pprint.pprint(set(dir(object)) - set(dir(o)))"
   ]
  },
  {
   "cell_type": "code",
   "execution_count": null,
   "metadata": {
    "collapsed": false
   },
   "outputs": [],
   "source": [
    "#        12345678901234567\n",
    "print((1.00000000000000009).is_integer())\n",
    "\n",
    "print((1.0000000000000009).is_integer())"
   ]
  },
  {
   "cell_type": "code",
   "execution_count": null,
   "metadata": {
    "collapsed": false
   },
   "outputs": [],
   "source": [
    "import platform\n",
    "dir(platform)"
   ]
  },
  {
   "cell_type": "code",
   "execution_count": null,
   "metadata": {
    "collapsed": false
   },
   "outputs": [],
   "source": [
    "platform.platform()"
   ]
  },
  {
   "cell_type": "code",
   "execution_count": null,
   "metadata": {
    "collapsed": false
   },
   "outputs": [],
   "source": [
    "class Person :\n",
    "    count = 0\n",
    "    def __init__(self, name) :\n",
    "        self.name = name\n",
    "        Person.count += 1\n",
    "    def getName(self) :\n",
    "        return self.name\n",
    "    \n",
    "p = Person(\"dahl\")\n",
    "\n",
    "print(p.__dict__)\n",
    "print(p.count)\n",
    "\n",
    "print(p.name)\n",
    "print(p.getName())\n",
    "\n"
   ]
  },
  {
   "cell_type": "code",
   "execution_count": null,
   "metadata": {
    "collapsed": false
   },
   "outputs": [],
   "source": [
    "d = {1:\"a\",2:\"b\"}\n",
    "\n",
    "print(d[1])"
   ]
  },
  {
   "cell_type": "code",
   "execution_count": null,
   "metadata": {
    "collapsed": false
   },
   "outputs": [],
   "source": [
    "s = \"Hello World\"\n",
    "l = [1,2,3,4]\n",
    "\n",
    "print(s[0])\n",
    "print(l[0])"
   ]
  },
  {
   "cell_type": "code",
   "execution_count": null,
   "metadata": {
    "collapsed": false
   },
   "outputs": [],
   "source": [
    "s = \"Hello World\"\n",
    "l = [1,2,3,4]\n",
    "\n",
    "print(s[-2])\n",
    "print(l[-2])"
   ]
  },
  {
   "cell_type": "code",
   "execution_count": null,
   "metadata": {
    "collapsed": false
   },
   "outputs": [],
   "source": [
    "*s , a = \"Hello World\"\n",
    "print(s,a)\n",
    "\n",
    "*l , b = [1,2,3,4,5]\n",
    "print(l,b)"
   ]
  },
  {
   "cell_type": "code",
   "execution_count": null,
   "metadata": {
    "collapsed": false
   },
   "outputs": [],
   "source": [
    "o = object()\n",
    "\n",
    "print(type(o))"
   ]
  },
  {
   "cell_type": "code",
   "execution_count": null,
   "metadata": {
    "collapsed": false
   },
   "outputs": [],
   "source": [
    "import pprint\n",
    "class A :\n",
    "    __slots__ = (\"name\",)\n",
    "    def __init__(self, name) :\n",
    "        self.name = name\n",
    "        \n",
    "a = A(\"dahl\")\n",
    "pprint.pprint(dir(A))"
   ]
  },
  {
   "cell_type": "code",
   "execution_count": null,
   "metadata": {
    "collapsed": false
   },
   "outputs": [],
   "source": [
    "import pprint\n",
    "\n",
    "class klass_clsmethod :\n",
    "    @classmethod\n",
    "    def cls_method(cls, name) :\n",
    "        cls.name = name\n",
    "        return cls\n",
    "\n",
    "k = klass_clsmethod.cls_method(\"dahl\")\n",
    "print(k)\n",
    "pprint.pprint(k.__dict__)\n",
    "print(k.name)"
   ]
  },
  {
   "cell_type": "code",
   "execution_count": null,
   "metadata": {
    "collapsed": false
   },
   "outputs": [],
   "source": [
    "import io\n",
    "\n",
    "print(io.BufferedIOBase.__bases__)"
   ]
  },
  {
   "cell_type": "code",
   "execution_count": null,
   "metadata": {
    "collapsed": false
   },
   "outputs": [],
   "source": [
    "import io\n",
    "\n",
    "print(io.BufferedRWPair.__bases__)\n",
    "print(io.BufferedReader.__bases__)\n",
    "print(io.BufferedWriter.__bases__)"
   ]
  },
  {
   "cell_type": "code",
   "execution_count": null,
   "metadata": {
    "collapsed": false
   },
   "outputs": [],
   "source": [
    "import io\n",
    "\n",
    "r  = set(dir(io.BufferedReader))\n",
    "\n",
    "count = 0\n",
    "for i in r :\n",
    "    if not i.startswith(\"_\") : \n",
    "        print(i,end=\" \")\n",
    "        count += 1\n",
    "        if count % 5 == 0 :\n",
    "            print()"
   ]
  },
  {
   "cell_type": "code",
   "execution_count": null,
   "metadata": {
    "collapsed": false
   },
   "outputs": [],
   "source": [
    "import io\n",
    "\n",
    "w  = set(dir(io.BufferedWriter))\n",
    "count = 0\n",
    "for i in w :\n",
    "    if not i.startswith(\"_\") : \n",
    "        print(i,end=\" \")\n",
    "        count += 1\n",
    "        if count % 5 == 0 :\n",
    "            print()"
   ]
  },
  {
   "cell_type": "code",
   "execution_count": null,
   "metadata": {
    "collapsed": false
   },
   "outputs": [],
   "source": [
    "import io\n",
    "\n",
    "rw = set(dir(io.BufferedRWPair))\n",
    "count = 0\n",
    "for i in rw :\n",
    "    if not i.startswith(\"_\") : \n",
    "        print(i,end=\" \")\n",
    "        count += 1\n",
    "        if count % 5 == 0 :\n",
    "            print()"
   ]
  },
  {
   "cell_type": "code",
   "execution_count": null,
   "metadata": {
    "collapsed": false
   },
   "outputs": [],
   "source": [
    "f = open(\"data.txt\",\"ab+\")\n",
    "print(f)"
   ]
  },
  {
   "cell_type": "code",
   "execution_count": null,
   "metadata": {
    "collapsed": false
   },
   "outputs": [],
   "source": [
    "n = int(input())\n",
    "\n",
    "print(\" result \")\n",
    "for i in range(n+1) :\n",
    "    \n",
    "    if (i % 2 == 0) &(i != 0) :\n",
    "        print(i)"
   ]
  },
  {
   "cell_type": "code",
   "execution_count": null,
   "metadata": {
    "collapsed": false
   },
   "outputs": [],
   "source": [
    "class Book :\n",
    "    def __init__(self,title, author, date, publisher,page) :\n",
    "        self.title = title\n",
    "        self.author = author\n",
    "        self.date = date\n",
    "        self.publisher = publisher\n",
    "        self.page = page\n",
    "        \n",
    "b1 = Book(\"서시\",\"윤동주\",\"1939-03-21\",\"출판사\",100)\n",
    "b2 = Book(\"파이썬\",\"문동주\",\"2017-06-30\",\"비제이\",300)\n",
    "\n",
    "print(b1.title)\n",
    "print(b2.title)"
   ]
  },
  {
   "cell_type": "code",
   "execution_count": null,
   "metadata": {
    "collapsed": false
   },
   "outputs": [],
   "source": [
    "class BookInv(Book):\n",
    "    def __init__(self,title, author, date, publisher,page,inventno) :\n",
    "        super().__init__(title, author, date, publisher,page)\n",
    "        self.inventno = inventno\n",
    "        \n",
    "b1 = BookInv(\"파이썬\",\"문동주\",\"2017-06-30\",\"비제이\",300,1)\n",
    "b2 = BookInv(\"파이썬\",\"문동주\",\"2017-06-30\",\"비제이\",300,2)\n",
    "\n",
    "print(b1.inventno)\n",
    "print(b2.inventno)"
   ]
  },
  {
   "cell_type": "code",
   "execution_count": null,
   "metadata": {
    "collapsed": false
   },
   "outputs": [],
   "source": [
    "class BookClass(Book) :\n",
    "    def __init__(self,title, author, date, publisher,page,isbn) :\n",
    "        super().__init__(title, author, date, publisher,page)\n",
    "        self.isbn = isbn\n",
    "        \n",
    "b1 = BookClass(\"서시\",\"윤동주\",\"1939-03-21\",\"출판사\",100,\"978-89-1234-456\")\n",
    "b2 = BookClass(\"파이썬\",\"문동주\",\"2017-06-30\",\"비제이\",300,\"978-89-1234-457\")\n",
    "\n",
    "print(b1.title, b1.isbn)\n",
    "print(b2.title, b2.isbn)"
   ]
  },
  {
   "cell_type": "code",
   "execution_count": null,
   "metadata": {
    "collapsed": false
   },
   "outputs": [],
   "source": [
    "class Salary:\n",
    "    def __init__(self,pay):\n",
    "        self.pay=pay\n",
    "\n",
    "    def get_total(self):\n",
    "        return (self.pay*12)\n",
    "\n",
    "class Employee:\n",
    "    def __init__(self,pay,bonus):\n",
    "        self.pay=pay\n",
    "        self.bonus=bonus\n",
    "        self.obj_salary=Salary(self.pay)\n",
    "\n",
    "    def annual_salary(self):\n",
    "        return \"Total: \"  +  str(self.obj_salary.get_total()+self.bonus)\n",
    "\n",
    "\n",
    "oe =Employee(100,10)\n",
    "print(oe.annual_salary())"
   ]
  },
  {
   "cell_type": "code",
   "execution_count": null,
   "metadata": {
    "collapsed": false
   },
   "outputs": [],
   "source": [
    "class Salary:\n",
    "    def __init__(self,pay):\n",
    "        self.pay=pay\n",
    "\n",
    "    def get_total(self):\n",
    "        return (self.pay*12)\n",
    "\n",
    "class Employee:\n",
    "    def __init__(self,pay,bonus):\n",
    "        self.pay=pay\n",
    "        self.bonus=bonus\n",
    "\n",
    "    def annual_salary(self):\n",
    "        return \"Total: \"  +  str(self.pay.get_total()+self.bonus)\n",
    "\n",
    "\n",
    "oe_sal=Salary(100)\n",
    "oe= Employee(obj_sal,10)\n",
    "print (oe.annual_salary())"
   ]
  },
  {
   "cell_type": "code",
   "execution_count": 4,
   "metadata": {
    "collapsed": false
   },
   "outputs": [
    {
     "name": "stdout",
     "output_type": "stream",
     "text": [
      " B \n",
      " A \n"
     ]
    }
   ],
   "source": [
    "class A :\n",
    "    def __init__(self,b=None):\n",
    "        self.b = b\n",
    "    def getA(self) :\n",
    "        return \" A \"\n",
    "        \n",
    "class B :\n",
    "    def __init__(self, a=None):\n",
    "        self.a = a\n",
    "        \n",
    "    def getB(self) :\n",
    "        return \" B \"\n",
    "        \n",
    "a = A()\n",
    "b = B(a)\n",
    "a.b = b\n",
    "\n",
    "print(a.b.getB())\n",
    "print(b.a.getA())\n"
   ]
  },
  {
   "cell_type": "code",
   "execution_count": 5,
   "metadata": {
    "collapsed": false
   },
   "outputs": [
    {
     "name": "stdout",
     "output_type": "stream",
     "text": [
      "1\n",
      "2\n",
      "None None\n"
     ]
    }
   ],
   "source": [
    "print(print(1), print(2))"
   ]
  },
  {
   "cell_type": "code",
   "execution_count": 14,
   "metadata": {
    "collapsed": false
   },
   "outputs": [
    {
     "name": "stdout",
     "output_type": "stream",
     "text": [
      "[[ 1  2  3  4]\n",
      " [ 2  4  6  8]\n",
      " [ 3  6  9 12]\n",
      " [ 4  8 12 16]]\n",
      "[[ 1  2  3  4]\n",
      " [ 2  4  6  8]\n",
      " [ 3  6  9 12]\n",
      " [ 4  8 12 16]]\n"
     ]
    }
   ],
   "source": [
    "import numpy as np\n",
    "\n",
    "vv = np.array([1,2,3,4])\n",
    "vh = np.array([1,2,3,4])\n",
    "\n",
    "v = vv.reshape(4,1)\n",
    "h = vh.reshape(1,4)\n",
    "print(v*h)\n",
    "print(np.dot(v,h))"
   ]
  },
  {
   "cell_type": "code",
   "execution_count": 15,
   "metadata": {
    "collapsed": false
   },
   "outputs": [
    {
     "name": "stdout",
     "output_type": "stream",
     "text": [
      "[[ 1  2  3  4]\n",
      " [ 2  4  6  8]\n",
      " [ 3  6  9 12]\n",
      " [ 4  8 12 16]]\n"
     ]
    },
    {
     "ename": "ValueError",
     "evalue": "shapes (4,1) and (4,) not aligned: 1 (dim 1) != 4 (dim 0)",
     "output_type": "error",
     "traceback": [
      "\u001b[0;31m---------------------------------------------------------------------------\u001b[0m",
      "\u001b[0;31mValueError\u001b[0m                                Traceback (most recent call last)",
      "\u001b[0;32m<ipython-input-15-f892ee8a9f8b>\u001b[0m in \u001b[0;36m<module>\u001b[0;34m()\u001b[0m\n\u001b[1;32m      1\u001b[0m \u001b[0mprint\u001b[0m\u001b[1;33m(\u001b[0m\u001b[0mv\u001b[0m\u001b[1;33m*\u001b[0m\u001b[0mvh\u001b[0m\u001b[1;33m)\u001b[0m\u001b[1;33m\u001b[0m\u001b[0m\n\u001b[0;32m----> 2\u001b[0;31m \u001b[0mprint\u001b[0m\u001b[1;33m(\u001b[0m\u001b[0mnp\u001b[0m\u001b[1;33m.\u001b[0m\u001b[0mdot\u001b[0m\u001b[1;33m(\u001b[0m\u001b[0mv\u001b[0m\u001b[1;33m,\u001b[0m\u001b[0mvh\u001b[0m\u001b[1;33m)\u001b[0m\u001b[1;33m)\u001b[0m\u001b[1;33m\u001b[0m\u001b[0m\n\u001b[0m",
      "\u001b[0;31mValueError\u001b[0m: shapes (4,1) and (4,) not aligned: 1 (dim 1) != 4 (dim 0)"
     ]
    }
   ],
   "source": [
    "print(v*vh)\n",
    "print(np.dot(v,vh))"
   ]
  },
  {
   "cell_type": "code",
   "execution_count": 21,
   "metadata": {
    "collapsed": false
   },
   "outputs": [
    {
     "name": "stdout",
     "output_type": "stream",
     "text": [
      "<class 'numpy.ndarray'>\n",
      "[[ 0.  1.]\n",
      " [ 4.  9.]]\n",
      "<class 'numpy.matrixlib.defmatrix.matrix'>\n",
      "[[  2.   3.]\n",
      " [  6.  11.]]\n"
     ]
    }
   ],
   "source": [
    "import numpy as np\n",
    "\n",
    "x = [0.0, 1, 2, 3] \n",
    "y = np.array(x).reshape(2,2)\n",
    "print(type(y))\n",
    "\n",
    "print(y * y )# Elementbyelement\n",
    "\n",
    "z = np.asmatrix(x).reshape(2,2)\n",
    "\n",
    "print(type(z))\n",
    "\n",
    "print(z * z) "
   ]
  },
  {
   "cell_type": "code",
   "execution_count": 23,
   "metadata": {
    "collapsed": false
   },
   "outputs": [
    {
     "name": "stdout",
     "output_type": "stream",
     "text": [
      "[[ 1.]\n",
      " [ 2.]\n",
      " [ 3.]\n",
      " [ 4.]\n",
      " [ 5.]]\n",
      "[[ 1.]\n",
      " [ 2.]\n",
      " [ 3.]\n",
      " [ 4.]\n",
      " [ 5.]]\n"
     ]
    }
   ],
   "source": [
    "import numpy as np\n",
    "\n",
    "mx = np.matrix([[1.0],[2.0],[3.0],[4.0],[5.0]])\n",
    "print(mx)\n",
    "\n",
    "ax = np.array([[1.0],[2.0],[3.0],[4.0],[5.0]])\n",
    "print(ax)"
   ]
  },
  {
   "cell_type": "code",
   "execution_count": 25,
   "metadata": {
    "collapsed": false
   },
   "outputs": [
    {
     "name": "stdout",
     "output_type": "stream",
     "text": [
      "6.0\n",
      "<class 'numpy.float64'>\n"
     ]
    }
   ],
   "source": [
    "import numpy as np\n",
    "\n",
    "x = np.array([[1.0,2,3],[4,5,6]])\n",
    "print(x[1,2])\n",
    "\n",
    "print(type(x[1,2]))"
   ]
  },
  {
   "cell_type": "code",
   "execution_count": 26,
   "metadata": {
    "collapsed": false
   },
   "outputs": [
    {
     "name": "stdout",
     "output_type": "stream",
     "text": [
      "(1, 3)\n",
      "(3, 1)\n",
      "[[ 1.  2.  3.]\n",
      " [ 1.  2.  3.]\n",
      " [ 1.  2.  3.]]\n"
     ]
    }
   ],
   "source": [
    "import numpy as np\n",
    "\n",
    "x = np.array([[1,2,3.0]])\n",
    "print(x.shape)\n",
    "\n",
    "y = np.array([[0],[0],[0.0]])\n",
    "print(y.shape)\n",
    "\n",
    "print(x + y) # Adding 0 produces broadcast\n"
   ]
  },
  {
   "cell_type": "code",
   "execution_count": 29,
   "metadata": {
    "collapsed": false
   },
   "outputs": [
    {
     "name": "stdout",
     "output_type": "stream",
     "text": [
      "[   1.            4.64158883   21.5443469   100.        ]\n"
     ]
    }
   ],
   "source": [
    "import numpy as np\n",
    "\n",
    "print(np.logspace(0,2,4))"
   ]
  },
  {
   "cell_type": "code",
   "execution_count": 30,
   "metadata": {
    "collapsed": false
   },
   "outputs": [
    {
     "name": "stdout",
     "output_type": "stream",
     "text": [
      "[  0.   1.   2.   3.   4.   5.   6.   7.   8.   9.  10.]\n"
     ]
    }
   ],
   "source": [
    "import numpy as np\n",
    "\n",
    "x = np.linspace(0, 10, 11)\n",
    "\n",
    "print(x)\n"
   ]
  },
  {
   "cell_type": "code",
   "execution_count": 33,
   "metadata": {
    "collapsed": false
   },
   "outputs": [
    {
     "name": "stdout",
     "output_type": "stream",
     "text": [
      "[[1 2 3]\n",
      " [1 2 3]\n",
      " [1 2 3]]\n",
      "[[10 10 10]\n",
      " [20 20 20]\n",
      " [30 30 30]]\n"
     ]
    }
   ],
   "source": [
    "import numpy as np\n",
    "\n",
    "x = np.array([1, 2, 3])\n",
    "y = np.array([10, 20, 30]) \n",
    "XX, YY = np.meshgrid(x, y)\n",
    "print(XX)\n",
    "print(YY)"
   ]
  },
  {
   "cell_type": "code",
   "execution_count": 41,
   "metadata": {
    "collapsed": false
   },
   "outputs": [
    {
     "name": "stdout",
     "output_type": "stream",
     "text": [
      "[[10 10]\n",
      " [20 20]\n",
      " [30 30]]\n",
      "[[1 2]\n",
      " [1 2]\n",
      " [1 2]]\n"
     ]
    }
   ],
   "source": [
    "import numpy as np\n",
    "YY, XX = np.mgrid[10:40:10, 1:3]\n",
    "print(YY)\n",
    "print(XX)"
   ]
  },
  {
   "cell_type": "code",
   "execution_count": 40,
   "metadata": {
    "collapsed": false
   },
   "outputs": [
    {
     "name": "stdout",
     "output_type": "stream",
     "text": [
      "[[10]\n",
      " [20]\n",
      " [30]]\n",
      "[[1 2 3]]\n"
     ]
    }
   ],
   "source": [
    "import numpy as np\n",
    "YY, XX = np.ogrid[10:40:10, 1:4]\n",
    "print(YY)\n",
    "print(XX)"
   ]
  },
  {
   "cell_type": "code",
   "execution_count": 42,
   "metadata": {
    "collapsed": false
   },
   "outputs": [
    {
     "name": "stdout",
     "output_type": "stream",
     "text": [
      "[[10]\n",
      " [20]\n",
      " [30]]\n",
      "[[1 2 3]]\n",
      "[[10 10 10]\n",
      " [20 20 20]\n",
      " [30 30 30]]\n",
      "[[1 2 3]\n",
      " [1 2 3]\n",
      " [1 2 3]]\n"
     ]
    }
   ],
   "source": [
    "import numpy as np\n",
    "\n",
    "a, b = np.ogrid[10:40:10, 1:4]\n",
    "print(a)\n",
    "print(b)\n",
    "x2, y2 = np.broadcast_arrays(a, b)\n",
    "print(x2)\n",
    "print(y2)"
   ]
  },
  {
   "cell_type": "code",
   "execution_count": 43,
   "metadata": {
    "collapsed": false
   },
   "outputs": [
    {
     "name": "stdout",
     "output_type": "stream",
     "text": [
      "[[0 1 2]\n",
      " [3 4 5]]\n",
      "[[1 1 1]\n",
      " [1 1 1]]\n",
      "[[0 0 0]\n",
      " [0 0 0]]\n",
      "[[0 0 0]\n",
      " [0 0 0]]\n"
     ]
    }
   ],
   "source": [
    "import numpy as np\n",
    "\n",
    "x = np.arange(6)\n",
    "x = x.reshape((2, 3))\n",
    "print(x)\n",
    "\n",
    "print(np.ones_like(x))\n",
    "print(np.zeros_like(x))\n",
    "print(np.empty_like(x))"
   ]
  },
  {
   "cell_type": "code",
   "execution_count": 60,
   "metadata": {
    "collapsed": false
   },
   "outputs": [
    {
     "name": "stdout",
     "output_type": "stream",
     "text": [
      "[[0 1 2]\n",
      " [3 4 5]]\n",
      "5\n",
      "None\n",
      "[[ 0  1 20]\n",
      " [ 3  4  5]]\n",
      "[[ 0  1 20]\n",
      " [ 3  4  5]]\n"
     ]
    }
   ],
   "source": [
    "import numpy as np\n",
    "\n",
    "x = np.arange(6).reshape(2,3)\n",
    "print(x)\n",
    "print(x.item(1,2))\n",
    "print(x.itemset(2, 20))\n",
    "print(x)\n",
    "print(x.view())"
   ]
  },
  {
   "cell_type": "code",
   "execution_count": 67,
   "metadata": {
    "collapsed": false
   },
   "outputs": [
    {
     "name": "stdout",
     "output_type": "stream",
     "text": [
      "min max conjugate ndim copy \n",
      "squeeze put size nbytes sort \n",
      "trace argsort nonzero clip var \n",
      "cumprod resize std choose dot \n",
      "imag ravel all repeat partition \n",
      "swapaxes argmin searchsorted compress mean \n",
      "argmax sum dtype __doc__ conj \n",
      "take cumsum round any diagonal \n",
      "prod transpose reshape real shape \n",
      "ptp argpartition "
     ]
    }
   ],
   "source": [
    "import numpy as np\n",
    "\n",
    "s = set(dir(np))\n",
    "n = set(dir(np.ndarray))\n",
    "sn = s & n\n",
    "count = 0\n",
    "for i in sn :\n",
    "    print(i, end=\" \")\n",
    "    count +=1\n",
    "    if count % 5 == 0 :\n",
    "        print()"
   ]
  },
  {
   "cell_type": "code",
   "execution_count": 58,
   "metadata": {
    "collapsed": false
   },
   "outputs": [
    {
     "name": "stdout",
     "output_type": "stream",
     "text": [
      "[[7 3 8]\n",
      " [0 1 4]\n",
      " [5 7 3]]\n",
      "None\n",
      "[[7 3 8]\n",
      " [0 0 4]\n",
      " [5 7 3]]\n",
      "[[7 3 8]\n",
      " [0 0 4]\n",
      " [5 7 9]]\n"
     ]
    }
   ],
   "source": [
    "x = np.random.randint(9, size=(3, 3))\n",
    "print(x)\n",
    "print(x.itemset(4, 0))\n",
    "print(x)\n",
    "x.itemset((2, 2), 9)\n",
    "print(x)"
   ]
  },
  {
   "cell_type": "code",
   "execution_count": 78,
   "metadata": {
    "collapsed": false
   },
   "outputs": [
    {
     "name": "stdout",
     "output_type": "stream",
     "text": [
      "   0 : 0.000000 1.000000 0.000000  \n",
      "  10 : -0.544021 -0.839072 0.648361  \n",
      "  20 : 0.912945 0.408082 2.237161  \n",
      "  30 : -0.988032 0.154251 -6.405331  \n",
      "  40 : 0.745113 -0.666938 -1.117215  \n",
      "  50 : -0.262375 0.964966 -0.271901  \n",
      "  60 : -0.304811 -0.952413 0.320040  \n",
      "  70 : 0.773891 0.633319 1.221960  \n",
      "  80 : -0.993889 -0.110387 9.003655  \n",
      "  90 : 0.893997 -0.448074 -1.995200  \n",
      " 100 : -0.506366 0.862319 -0.587214  \n",
      " 110 : -0.044243 -0.999021 0.044286  \n",
      " 120 : 0.580611 0.814181 0.713123  \n",
      " 130 : -0.930106 -0.367291 2.532338  \n",
      " 140 : 0.980240 -0.197814 -4.955371  \n",
      " 150 : -0.714876 0.699251 -1.022346  \n",
      " 160 : 0.219425 -0.975629 -0.224906  \n",
      " 170 : 0.346649 0.937995 0.369564  \n",
      " 180 : -0.801153 -0.598460 1.338690  \n"
     ]
    }
   ],
   "source": [
    "import numpy as np\n",
    "\n",
    "fmt = \" {:3d} : {:>-2.6f} {:>2.6f} {:>2.6f}  \"\n",
    "\n",
    "for i in range(0,181,10) :\n",
    "    print(fmt.format(i,np.sin(i), np.cos(i), np.tan(i)))"
   ]
  },
  {
   "cell_type": "code",
   "execution_count": 82,
   "metadata": {
    "collapsed": false,
    "scrolled": true
   },
   "outputs": [
    {
     "name": "stdout",
     "output_type": "stream",
     "text": [
      "[  1.00000000e+00   6.12323400e-17  -1.00000000e+00]\n",
      "[ 0.99500417  0.98006658  0.95533649]\n",
      "True\n"
     ]
    }
   ],
   "source": [
    "import numpy as np\n",
    "\n",
    "out1 = np.cos(np.array([0, np.pi/2, np.pi]))\n",
    "print(out1)\n",
    "# Example of providing the optional output parameter\n",
    "out2 = np.cos([0.1,0.2,0.3], out1)\n",
    "print(out1)\n",
    "print(out2 is out1)"
   ]
  },
  {
   "cell_type": "code",
   "execution_count": 83,
   "metadata": {
    "collapsed": false
   },
   "outputs": [
    {
     "name": "stdout",
     "output_type": "stream",
     "text": [
      "[  0.00000000e+00   1.00000000e+00   1.22464680e-16]\n",
      "[ 0.09983342  0.19866933  0.29552021]\n",
      "True\n"
     ]
    }
   ],
   "source": [
    "import numpy as np\n",
    "\n",
    "out1 = np.sin(np.array([0, np.pi/2, np.pi]))\n",
    "print(out1)\n",
    "# Example of providing the optional output parameter\n",
    "out2 = np.sin([0.1,0.2,0.3], out1)\n",
    "print(out1)\n",
    "print(out2 is out1)"
   ]
  },
  {
   "cell_type": "code",
   "execution_count": 101,
   "metadata": {
    "collapsed": false
   },
   "outputs": [
    {
     "name": "stdout",
     "output_type": "stream",
     "text": [
      "1.57079632679\n",
      "1.0\n",
      "0.841470984808\n",
      "1.5707963267948966\n"
     ]
    }
   ],
   "source": [
    "import numpy as np\n",
    "\n",
    "print(np.arcsin(1) )   # pi/2\n",
    "y = np.sin(np.pi/2)\n",
    "print(y)\n",
    "\n",
    "x = np.sin(y)\n",
    "print(x)\n",
    "print(np.pi/2)"
   ]
  },
  {
   "cell_type": "code",
   "execution_count": 109,
   "metadata": {
    "collapsed": false
   },
   "outputs": [
    {
     "name": "stdout",
     "output_type": "stream",
     "text": [
      "0.0\n",
      "0.0\n",
      "1.57079632679\n",
      "1.5707963267948966\n"
     ]
    }
   ],
   "source": [
    "import numpy as np\n",
    "\n",
    "print(np.arccos(1) )   \n",
    "\n",
    "y = round((np.cos(np.pi/2)),5)\n",
    "print(y)\n",
    "x = np.arccos(y)\n",
    "print(x)\n",
    "print(np.pi/2)\n"
   ]
  },
  {
   "cell_type": "code",
   "execution_count": 107,
   "metadata": {
    "collapsed": false
   },
   "outputs": [
    {
     "name": "stdout",
     "output_type": "stream",
     "text": [
      "0.785398163397\n",
      "1.0\n",
      "0.785398163397\n",
      "0.7853981633974483\n"
     ]
    }
   ],
   "source": [
    "import numpy as np\n",
    "\n",
    "print(np.arctan(1.0) )   \n",
    "\n",
    "y = round((np.tan(np.pi/4)),5)\n",
    "print(y)\n",
    "x = np.arctan(1.0)\n",
    "print(x)\n",
    "print(np.pi/4)"
   ]
  },
  {
   "cell_type": "code",
   "execution_count": 111,
   "metadata": {
    "collapsed": false
   },
   "outputs": [
    {
     "ename": "AttributeError",
     "evalue": "module 'scipy' has no attribute 'linalg'",
     "output_type": "error",
     "traceback": [
      "\u001b[0;31m---------------------------------------------------------------------------\u001b[0m",
      "\u001b[0;31mAttributeError\u001b[0m                            Traceback (most recent call last)",
      "\u001b[0;32m<ipython-input-111-445dd5e38513>\u001b[0m in \u001b[0;36m<module>\u001b[0;34m()\u001b[0m\n\u001b[1;32m      2\u001b[0m \u001b[1;32mimport\u001b[0m \u001b[0mscipy\u001b[0m\u001b[1;33m\u001b[0m\u001b[0m\n\u001b[1;32m      3\u001b[0m \u001b[1;33m\u001b[0m\u001b[0m\n\u001b[0;32m----> 4\u001b[0;31m \u001b[0mscipy\u001b[0m\u001b[1;33m.\u001b[0m\u001b[0mlinalg\u001b[0m\u001b[1;33m.\u001b[0m\u001b[0mlu\u001b[0m\u001b[1;33m\u001b[0m\u001b[0m\n\u001b[0m",
      "\u001b[0;31mAttributeError\u001b[0m: module 'scipy' has no attribute 'linalg'"
     ]
    }
   ],
   "source": [
    "import numpy as np\n",
    "import scipy\n",
    "\n",
    "scipy.linalg.lu"
   ]
  },
  {
   "cell_type": "code",
   "execution_count": 113,
   "metadata": {
    "collapsed": false
   },
   "outputs": [
    {
     "name": "stdout",
     "output_type": "stream",
     "text": [
      "A:\n",
      "array([[ 7,  3, -1,  2],\n",
      "       [ 3,  8,  1, -4],\n",
      "       [-1,  1,  4, -1],\n",
      "       [ 2, -4, -1,  6]])\n",
      "P:\n",
      "array([[ 1.,  0.,  0.,  0.],\n",
      "       [ 0.,  1.,  0.,  0.],\n",
      "       [ 0.,  0.,  1.,  0.],\n",
      "       [ 0.,  0.,  0.,  1.]])\n",
      "L:\n",
      "array([[ 1.        ,  0.        ,  0.        ,  0.        ],\n",
      "       [ 0.42857143,  1.        ,  0.        ,  0.        ],\n",
      "       [-0.14285714,  0.21276596,  1.        ,  0.        ],\n",
      "       [ 0.28571429, -0.72340426,  0.08982036,  1.        ]])\n",
      "U:\n",
      "array([[ 7.        ,  3.        , -1.        ,  2.        ],\n",
      "       [ 0.        ,  6.71428571,  1.42857143, -4.85714286],\n",
      "       [ 0.        ,  0.        ,  3.55319149,  0.31914894],\n",
      "       [ 0.        ,  0.        ,  0.        ,  1.88622754]])\n"
     ]
    }
   ],
   "source": [
    "import pprint\n",
    "import numpy as np\n",
    "import scipy.linalg   # SciPy Linear Algebra Library\n",
    "\n",
    "A = np.array([ [7, 3, -1, 2], [3, 8, 1, -4],\n",
    "              [-1, 1, 4, -1], [2, -4, -1, 6] ])\n",
    "P, L, U = scipy.linalg.lu(A)\n",
    "\n",
    "print (\"A:\")\n",
    "pprint.pprint(A)\n",
    "print(\"P:\")\n",
    "pprint.pprint(P)\n",
    "print(\"L:\")\n",
    "pprint.pprint(L)\n",
    "print(\"U:\")\n",
    "pprint.pprint(U)"
   ]
  },
  {
   "cell_type": "code",
   "execution_count": 117,
   "metadata": {
    "collapsed": false
   },
   "outputs": [
    {
     "name": "stdout",
     "output_type": "stream",
     "text": [
      "[[ -2.79182316e-01   8.08895055e-01   9.69348229e-02   5.08281088e-01]\n",
      " [ -8.10078065e-01   8.50435017e-02  -8.89473370e-04  -5.80120970e-01]\n",
      " [ -1.34332727e-01  -2.53385991e-01   9.46336978e-01   1.48985172e-01]\n",
      " [  4.97780554e-01   5.23690684e-01   3.08300458e-01  -6.18799979e-01]]\n",
      "[[-0.8819171   0.12001372 -0.10823812 -0.44283568]\n",
      " [-0.37796447 -0.75437193  0.06201752  0.53312257]\n",
      " [ 0.12598816 -0.18859298 -0.97180277 -0.06449063]\n",
      " [-0.25197632  0.6172134  -0.20009425  0.71799572]]\n"
     ]
    }
   ],
   "source": [
    "import pprint\n",
    "import numpy as np\n",
    "import scipy.linalg   # SciPy Linear Algebra Library\n",
    "\n",
    "A = np.array([ [7, 3, -1, 2], [3, 8, 1, -4],\n",
    "              [-1, 1, 4, -1], [2, -4, -1, 6] ])\n",
    "Q = scipy.linalg.orth(A)\n",
    "print(Q)\n",
    "\n",
    "Q1,R = scipy.linalg.qr(A)\n",
    "print(Q1)"
   ]
  },
  {
   "cell_type": "code",
   "execution_count": 121,
   "metadata": {
    "collapsed": false
   },
   "outputs": [
    {
     "name": "stdout",
     "output_type": "stream",
     "text": [
      "3.0\n",
      "4.28571428571\n",
      "7.91836734694\n",
      "2.81395937194\n"
     ]
    }
   ],
   "source": [
    "import numpy as np\n",
    "a = np.array([1, 4, 3, 8, 9, 2, 3], float)\n",
    "\n",
    "print(np.median(a))\n",
    "print(np.mean(a))\n",
    "print(np.var(a))\n",
    "print(np.std(a))"
   ]
  },
  {
   "cell_type": "code",
   "execution_count": 440,
   "metadata": {
    "collapsed": false
   },
   "outputs": [
    {
     "name": "stdout",
     "output_type": "stream",
     "text": [
      "3.0\n",
      "3.5\n"
     ]
    }
   ],
   "source": [
    "import numpy as np\n",
    "\n",
    "A = np.array([1, 4, 3, 8, 9, 2, 3], float)\n",
    "print(np.median(A))\n",
    "\n",
    "B = np.array([1, 4, 3, 8, 9, 2, np.nan], float)\n",
    "print(np.nanmedian(B))"
   ]
  },
  {
   "cell_type": "code",
   "execution_count": 447,
   "metadata": {
    "collapsed": false
   },
   "outputs": [
    {
     "name": "stdout",
     "output_type": "stream",
     "text": [
      "4.28571428571\n",
      "4.28571428571\n",
      "4.5\n"
     ]
    }
   ],
   "source": [
    "import numpy as np\n",
    "A = np.array([1, 4, 3, 8, 9, 2, 3], float)\n",
    "print(np.mean(A))\n",
    "print(np.average(A))\n",
    "B = np.array([1, 4, 3, 8, 9, 2, np.nan], float)\n",
    "print(np.nanmean(B))\n"
   ]
  },
  {
   "cell_type": "code",
   "execution_count": 449,
   "metadata": {
    "collapsed": false
   },
   "outputs": [
    {
     "name": "stdout",
     "output_type": "stream",
     "text": [
      "9.2380952381\n",
      "3.03942350423\n",
      "10.7\n",
      "3.27108544676\n"
     ]
    }
   ],
   "source": [
    "import numpy as np\n",
    "A = np.array([1, 4, 3, 8, 9, 2, 3], float)\n",
    "\n",
    "print(np.var(A,ddof=1))\n",
    "print(np.std(A,ddof=1))\n",
    "\n",
    "B = np.array([1, 4, 3, 8, 9, 2, np.nan], float)\n",
    "print(np.nanvar(B,ddof=1))\n",
    "print(np.nanstd(B,ddof=1))"
   ]
  },
  {
   "cell_type": "code",
   "execution_count": 450,
   "metadata": {
    "collapsed": false
   },
   "outputs": [
    {
     "name": "stdout",
     "output_type": "stream",
     "text": [
      "7.91836734694\n",
      "2.81395937194\n",
      "8.91666666667\n",
      "2.98607881119\n"
     ]
    }
   ],
   "source": [
    "import numpy as np\n",
    "A = np.array([1, 4, 3, 8, 9, 2, 3], float)\n",
    "\n",
    "print(np.var(A))\n",
    "print(np.std(A))\n",
    "\n",
    "B = np.array([1, 4, 3, 8, 9, 2, np.nan], float)\n",
    "print(np.nanvar(B))\n",
    "print(np.nanstd(B))"
   ]
  },
  {
   "cell_type": "code",
   "execution_count": 128,
   "metadata": {
    "collapsed": false
   },
   "outputs": [
    {
     "name": "stdout",
     "output_type": "stream",
     "text": [
      "[[ 1.  4.  3.]\n",
      " [ 8.  9.  2.]]\n",
      "[ 4.5  6.5  2.5]\n",
      "[ 4.5  6.5  2.5]\n",
      "[ 24.5  12.5   0.5]\n",
      "[ 4.94974747  3.53553391  0.70710678]\n"
     ]
    }
   ],
   "source": [
    "import numpy as np\n",
    "a = np.array([1, 4, 3, 8, 9, 2], float).reshape(2,3)\n",
    "print(a)\n",
    "print(np.median(a,axis=0))\n",
    "print(np.mean(a,axis=0))\n",
    "print(np.var(a,axis=0,ddof=1))\n",
    "print(np.std(a,axis=0,ddof=1))"
   ]
  },
  {
   "cell_type": "code",
   "execution_count": null,
   "metadata": {
    "collapsed": true
   },
   "outputs": [],
   "source": []
  },
  {
   "cell_type": "code",
   "execution_count": 130,
   "metadata": {
    "collapsed": false
   },
   "outputs": [
    {
     "name": "stdout",
     "output_type": "stream",
     "text": [
      "[[ 1.          0.72870505]\n",
      " [ 0.72870505  1.        ]]\n",
      "[[ 0.91666667  2.08333333]\n",
      " [ 2.08333333  8.91666667]]\n"
     ]
    }
   ],
   "source": [
    "import numpy as np\n",
    "\n",
    "a = np.array([[1, 2, 1, 3], [5, 3, 1, 8]], float)\n",
    "c = np.corrcoef(a)\n",
    "\n",
    "print(c)\n",
    "print(np.cov(a))"
   ]
  },
  {
   "cell_type": "code",
   "execution_count": 135,
   "metadata": {
    "collapsed": false
   },
   "outputs": [
    {
     "name": "stdout",
     "output_type": "stream",
     "text": [
      "[ 0.33677247  0.52693437  0.79529578  0.78867702  0.02147624]\n",
      "[ 0.33677247  0.52693437  0.79529578  0.78867702  0.02147624]\n",
      "[ 0.84612516  0.0704939   0.1526965   0.77831701  0.80821151]\n",
      "[ 0.33677247  0.52693437  0.79529578  0.78867702  0.02147624]\n"
     ]
    }
   ],
   "source": [
    "import numpy as np\n",
    "\n",
    "np.random.seed(293423)\n",
    "print(np.random.rand(5))\n",
    "np.random.seed(293423)\n",
    "print(np.random.rand(5))\n",
    "print(np.random.rand(5))\n",
    "np.random.seed(293423)\n",
    "print(np.random.rand(5))"
   ]
  },
  {
   "cell_type": "code",
   "execution_count": 137,
   "metadata": {
    "collapsed": false
   },
   "outputs": [
    {
     "name": "stdout",
     "output_type": "stream",
     "text": [
      "[ 0.43767263  0.15292493  0.20882971]\n",
      "[[ 0.306344    0.45719255  0.60260853]\n",
      " [ 0.2006835   0.90558592  0.35803445]\n",
      " [ 0.7351465   0.51003508  0.01410728]]\n"
     ]
    }
   ],
   "source": [
    "import numpy as np\n",
    "\n",
    "a = np.random.rand(3)\n",
    "print(a)\n",
    "a2 = np.random.rand(3,3)\n",
    "print(a2)"
   ]
  },
  {
   "cell_type": "code",
   "execution_count": 141,
   "metadata": {
    "collapsed": false
   },
   "outputs": [
    {
     "name": "stdout",
     "output_type": "stream",
     "text": [
      "[-1.00445192  0.05687602  1.33160533]\n",
      "[[ 1.16750024 -0.78461188 -0.24159021]\n",
      " [-0.3262402   0.75504826  0.563884  ]\n",
      " [-2.38359194 -1.79997117  1.20538858]]\n",
      "[[ 2.97370919  1.32118802  3.6265349   0.93108682]\n",
      " [ 4.83361785  1.26527296  2.439114    4.64729336]]\n"
     ]
    }
   ],
   "source": [
    "import numpy as np\n",
    "\n",
    "a = np.random.randn(3)\n",
    "print(a)\n",
    "a2 = np.random.randn(3,3)\n",
    "print(a2)\n",
    "\n",
    "# sigma(표준편차) * np.random.randn(...) + mu(평균)\n",
    "c = 2.5 * np.random.randn(2, 4) + 3\n",
    "print(c)"
   ]
  },
  {
   "cell_type": "code",
   "execution_count": 148,
   "metadata": {
    "collapsed": false
   },
   "outputs": [
    {
     "name": "stdout",
     "output_type": "stream",
     "text": [
      "1\n",
      "8\n",
      "[1 1 1 0 1 1 1 1 0 1]\n",
      "[0 0 0 0 0 0 0 0 0 0]\n",
      "[[0 4 1 2]\n",
      " [0 0 2 3]]\n"
     ]
    }
   ],
   "source": [
    "import numpy as np\n",
    "\n",
    "a = np.random.randint(3)\n",
    "print(a)\n",
    "\n",
    "b = np.random.randint(3, 10)\n",
    "print(b)\n",
    "\n",
    "print(np.random.randint(2, size=10))\n",
    "print(np.random.randint(1, size=10))\n",
    "print(np.random.randint(5, size=(2, 4)))\n"
   ]
  },
  {
   "cell_type": "code",
   "execution_count": 149,
   "metadata": {
    "collapsed": false
   },
   "outputs": [
    {
     "name": "stdout",
     "output_type": "stream",
     "text": [
      "3\n"
     ]
    },
    {
     "name": "stderr",
     "output_type": "stream",
     "text": [
      "C:\\ProgramData\\Anaconda3\\lib\\site-packages\\ipykernel\\__main__.py:3: DeprecationWarning: This function is deprecated. Please call randint(1, 3 + 1) instead\n",
      "  app.launch_new_instance()\n"
     ]
    }
   ],
   "source": [
    "import numpy as np\n",
    "\n",
    "a = np.random.random_integers(3)\n",
    "print(a)\n"
   ]
  },
  {
   "cell_type": "code",
   "execution_count": 144,
   "metadata": {
    "collapsed": false
   },
   "outputs": [
    {
     "name": "stdout",
     "output_type": "stream",
     "text": [
      "Help on built-in function randint:\n",
      "\n",
      "randint(...) method of mtrand.RandomState instance\n",
      "    randint(low, high=None, size=None, dtype='l')\n",
      "    \n",
      "    Return random integers from `low` (inclusive) to `high` (exclusive).\n",
      "    \n",
      "    Return random integers from the \"discrete uniform\" distribution of\n",
      "    the specified dtype in the \"half-open\" interval [`low`, `high`). If\n",
      "    `high` is None (the default), then results are from [0, `low`).\n",
      "    \n",
      "    Parameters\n",
      "    ----------\n",
      "    low : int\n",
      "        Lowest (signed) integer to be drawn from the distribution (unless\n",
      "        ``high=None``, in which case this parameter is the *highest* such\n",
      "        integer).\n",
      "    high : int, optional\n",
      "        If provided, one above the largest (signed) integer to be drawn\n",
      "        from the distribution (see above for behavior if ``high=None``).\n",
      "    size : int or tuple of ints, optional\n",
      "        Output shape.  If the given shape is, e.g., ``(m, n, k)``, then\n",
      "        ``m * n * k`` samples are drawn.  Default is None, in which case a\n",
      "        single value is returned.\n",
      "    dtype : dtype, optional\n",
      "        Desired dtype of the result. All dtypes are determined by their\n",
      "        name, i.e., 'int64', 'int', etc, so byteorder is not available\n",
      "        and a specific precision may have different C types depending\n",
      "        on the platform. The default value is 'np.int'.\n",
      "    \n",
      "        .. versionadded:: 1.11.0\n",
      "    \n",
      "    Returns\n",
      "    -------\n",
      "    out : int or ndarray of ints\n",
      "        `size`-shaped array of random integers from the appropriate\n",
      "        distribution, or a single such random int if `size` not provided.\n",
      "    \n",
      "    See Also\n",
      "    --------\n",
      "    random.random_integers : similar to `randint`, only for the closed\n",
      "        interval [`low`, `high`], and 1 is the lowest value if `high` is\n",
      "        omitted. In particular, this other one is the one to use to generate\n",
      "        uniformly distributed discrete non-integers.\n",
      "    \n",
      "    Examples\n",
      "    --------\n",
      "    >>> np.random.randint(2, size=10)\n",
      "    array([1, 0, 0, 0, 1, 1, 0, 0, 1, 0])\n",
      "    >>> np.random.randint(1, size=10)\n",
      "    array([0, 0, 0, 0, 0, 0, 0, 0, 0, 0])\n",
      "    \n",
      "    Generate a 2 x 4 array of ints between 0 and 4, inclusive:\n",
      "    \n",
      "    >>> np.random.randint(5, size=(2, 4))\n",
      "    array([[4, 0, 2, 1],\n",
      "           [3, 2, 2, 0]])\n",
      "\n"
     ]
    }
   ],
   "source": [
    "help(np.random.randint)"
   ]
  },
  {
   "cell_type": "code",
   "execution_count": 152,
   "metadata": {
    "collapsed": false
   },
   "outputs": [
    {
     "name": "stdout",
     "output_type": "stream",
     "text": [
      "[ True  True]\n",
      "[False False]\n",
      "[False False]\n",
      "[False False]\n",
      "[False False]\n"
     ]
    }
   ],
   "source": [
    "import numpy as np\n",
    "\n",
    "x = np.arange(2.0,4)\n",
    "y = x >= 0\n",
    "z = x < 2\n",
    "print(y)\n",
    "print(z)\n",
    "print(np.logical_and(y, z))\n",
    "print(y & z)\n",
    "print((x > 0) & (x < 2))"
   ]
  },
  {
   "cell_type": "code",
   "execution_count": 153,
   "metadata": {
    "collapsed": false
   },
   "outputs": [
    {
     "name": "stdout",
     "output_type": "stream",
     "text": [
      "[ True  True]\n",
      "[False False]\n",
      "[ True  True]\n",
      "[ True  True]\n",
      "[ True  True]\n"
     ]
    }
   ],
   "source": [
    "import numpy as np\n",
    "\n",
    "x = np.arange(2.0,4)\n",
    "y = x >= 0\n",
    "z = x < 2\n",
    "print(y)\n",
    "print(z)\n",
    "print(np.logical_or(y, z))\n",
    "print(y |z)\n",
    "print((x > 0) | (x < 2))"
   ]
  },
  {
   "cell_type": "code",
   "execution_count": 157,
   "metadata": {
    "collapsed": false
   },
   "outputs": [
    {
     "name": "stdout",
     "output_type": "stream",
     "text": [
      "[ True  True]\n",
      "[False False]\n",
      "[False False]\n"
     ]
    }
   ],
   "source": [
    "import numpy as np\n",
    "\n",
    "x = np.arange(2.0,4)\n",
    "y = x >= 0\n",
    "\n",
    "print(y)\n",
    "print(np.logical_not(y))\n",
    "print(~y)"
   ]
  },
  {
   "cell_type": "code",
   "execution_count": 160,
   "metadata": {
    "collapsed": false
   },
   "outputs": [
    {
     "name": "stdout",
     "output_type": "stream",
     "text": [
      "[False False False  True]\n",
      "[False False  True False]\n",
      "[ True  True False False]\n"
     ]
    }
   ],
   "source": [
    "import numpy as np\n",
    "\n",
    "x = np.array([4,np.pi,np.inf,np.inf/np.inf])\n",
    "\n",
    "print(np.isnan(x))\n",
    "print(np.isinf(x))\n",
    "print(np.isfinite(x))\n"
   ]
  },
  {
   "cell_type": "code",
   "execution_count": 166,
   "metadata": {
    "collapsed": false
   },
   "outputs": [
    {
     "name": "stdout",
     "output_type": "stream",
     "text": [
      "[ 0.          1.          2.          1.09861229]\n",
      "[ 0.          0.43429448  0.86858896  0.47712125]\n",
      "[ 0.          1.44269504  2.88539008  1.5849625 ]\n",
      "[ 0.69314718  1.31326169  2.12692801  1.38629436]\n"
     ]
    }
   ],
   "source": [
    "import numpy as np\n",
    "\n",
    "x = np.log([1, np.e, np.e**2, 3])\n",
    "print(x)\n",
    "y = np.log10([1, np.e, np.e**2, 3])\n",
    "print(y)\n",
    "z = np.log2([1, np.e, np.e**2, 3])\n",
    "print(z)\n",
    "\n",
    "a = np.log1p([1, np.e, np.e**2, 3])\n",
    "print(a)"
   ]
  },
  {
   "cell_type": "code",
   "execution_count": 169,
   "metadata": {
    "collapsed": false
   },
   "outputs": [
    {
     "name": "stdout",
     "output_type": "stream",
     "text": [
      "[[  1.86744273e-03 +4.57391553e-19j   2.12018428e-03 +5.19295378e-19j\n",
      "    2.40713211e-03 +5.89577328e-19j ...,   4.15432121e+02 +1.01751523e-13j\n",
      "    4.71657115e+02 +1.15522675e-13j   5.35491656e+02 +1.31157628e-13j]\n",
      " [  1.85241881e-03 +2.36404157e-04j   2.10312700e-03 +2.68399330e-04j\n",
      "    2.38776629e-03 +3.04724760e-04j ...,   4.12089892e+02 +5.25905715e+01j\n",
      "    4.67862545e+02 +5.97082315e+01j   5.31183525e+02 +6.77892025e+01j]\n",
      " [  1.80758877e-03 +4.69004483e-04j   2.05222962e-03 +5.32480014e-04j\n",
      "    2.32998040e-03 +6.04546385e-04j ...,   4.02116982e+02 +1.04334941e+02j\n",
      "    4.56539892e+02 +1.18455735e+02j   5.18328453e+02 +1.34487651e+02j]\n",
      " ..., \n",
      " [  1.80758877e-03 -4.69004483e-04j   2.05222962e-03 -5.32480014e-04j\n",
      "    2.32998040e-03 -6.04546385e-04j ...,   4.02116982e+02 -1.04334941e+02j\n",
      "    4.56539892e+02 -1.18455735e+02j   5.18328453e+02 -1.34487651e+02j]\n",
      " [  1.85241881e-03 -2.36404157e-04j   2.10312700e-03 -2.68399330e-04j\n",
      "    2.38776629e-03 -3.04724760e-04j ...,   4.12089892e+02 -5.25905715e+01j\n",
      "    4.67862545e+02 -5.97082315e+01j   5.31183525e+02 -6.77892025e+01j]\n",
      " [  1.86744273e-03 -4.57391553e-19j   2.12018428e-03 -5.19295378e-19j\n",
      "    2.40713211e-03 -5.89577328e-19j ...,   4.15432121e+02 -1.01751523e-13j\n",
      "    4.71657115e+02 -1.15522675e-13j   5.35491656e+02 -1.31157628e-13j]]\n"
     ]
    }
   ],
   "source": [
    "import numpy as np\n",
    "\n",
    "x = np.linspace(-2*np.pi, 2*np.pi, 100)\n",
    "xx = x + 1j * x[:, np.newaxis] # a + ib over complex plane\n",
    "out = np.exp(xx)\n",
    "print(out)"
   ]
  },
  {
   "cell_type": "code",
   "execution_count": 172,
   "metadata": {
    "collapsed": false
   },
   "outputs": [
    {
     "name": "stdout",
     "output_type": "stream",
     "text": [
      "[ 1  2  3 -7]\n",
      "1\n",
      "2\n",
      "3\n",
      "-7\n"
     ]
    }
   ],
   "source": [
    "x = np.array([1, 2, 4, 7, 0])\n",
    "\n",
    "print(np.diff(x))\n",
    "print(x[1] - x[0])\n",
    "print(x[2] - x[1])\n",
    "print(x[3] - x[2])\n",
    "print(x[4] - x[3])\n"
   ]
  },
  {
   "cell_type": "code",
   "execution_count": 179,
   "metadata": {
    "collapsed": false
   },
   "outputs": [
    {
     "name": "stdout",
     "output_type": "stream",
     "text": [
      "[ 1  2  3 -7]\n",
      "1\n",
      "1\n",
      "-10\n"
     ]
    }
   ],
   "source": [
    "x = np.array([1, 2, 4, 7, 0])\n",
    "xd = np.diff(x)\n",
    "print(xd)\n",
    "xx = np.diff(x,n=2)\n",
    "print(xd[1] - xd[0])\n",
    "print(xd[2] - xd[1])\n",
    "print(xd[3] - xd[2])"
   ]
  },
  {
   "cell_type": "code",
   "execution_count": 180,
   "metadata": {
    "collapsed": false
   },
   "outputs": [
    {
     "name": "stdout",
     "output_type": "stream",
     "text": [
      "[ 1.   1.5  2.5  3.5  4.5  5. ]\n"
     ]
    }
   ],
   "source": [
    "import numpy as np\n",
    "\n",
    "x = np.array([1, 2, 4, 7, 11, 16], dtype=np.float)\n",
    "j = np.gradient(x)\n",
    "print(j)"
   ]
  },
  {
   "cell_type": "code",
   "execution_count": 182,
   "metadata": {
    "collapsed": false
   },
   "outputs": [
    {
     "name": "stdout",
     "output_type": "stream",
     "text": [
      "[ 1.   1.5  2.5  3.5  4.5  5. ]\n"
     ]
    }
   ],
   "source": [
    "import numpy as np\n",
    "\n",
    "x = np.array([1, 2, 4, 7, 11, 16], dtype=np.float)\n",
    "j = np.zeros(6)\n",
    "j[0] = (x[1]-x[0])/1 \n",
    "j[1] = (x[2]-x[0])/2 \n",
    "j[2] = (x[3]-x[1])/2 \n",
    "j[3] = (x[4]-x[2])/2 \n",
    "j[4] = (x[5]-x[3])/2 \n",
    "j[5] = (x[5]-x[4])/1\n",
    "\n",
    "print(j)"
   ]
  },
  {
   "cell_type": "code",
   "execution_count": 197,
   "metadata": {
    "collapsed": false
   },
   "outputs": [
    {
     "name": "stdout",
     "output_type": "stream",
     "text": [
      "[[-1. -1. -1.]\n",
      " [-1. -1. -1.]]\n",
      "[[ 1.  1.  1.]\n",
      " [ 1.  1.  1.]]\n"
     ]
    }
   ],
   "source": [
    "import numpy as np\n",
    "\n",
    "a = np.array([[4, 5, 6], [3, 4, 5]], dtype=np.float)\n",
    "x,y = np.gradient(a)\n",
    "print(x)\n",
    "print(y)"
   ]
  },
  {
   "cell_type": "code",
   "execution_count": 198,
   "metadata": {
    "collapsed": false
   },
   "outputs": [
    {
     "name": "stdout",
     "output_type": "stream",
     "text": [
      "[[-1. -1. -1.]\n",
      " [-1. -1. -1.]]\n"
     ]
    }
   ],
   "source": [
    "import numpy as np\n",
    "\n",
    "a = np.array([[4, 5, 6], [3, 4, 5]], dtype=np.float)\n",
    "j = np.zeros((2,3))\n",
    "j[0,0] = (a[1,0]-a[0,0])/1 \n",
    "j[0,1] = (a[1,1]-a[0,1])/1 \n",
    "j[0,2] = (a[1,2]-a[0,2])/1 \n",
    "j[1,0] = (a[1,0]-a[0,0])/1 \n",
    "j[1,1] = (a[1,1]-a[0,1])/1 \n",
    "j[1,2] = (a[1,2]-a[0,2])/1 \n",
    "print(j)"
   ]
  },
  {
   "cell_type": "code",
   "execution_count": 199,
   "metadata": {
    "collapsed": false
   },
   "outputs": [
    {
     "name": "stdout",
     "output_type": "stream",
     "text": [
      "[[ 1.  1.  1.]\n",
      " [ 1.  1.  1.]]\n"
     ]
    }
   ],
   "source": [
    "import numpy as np\n",
    "\n",
    "a = np.array([[4, 5, 6], [3, 4, 5]], dtype=np.float)\n",
    "j = np.zeros((2,3))\n",
    "j[0,0] = (a[0,1]-a[0,0])/1 \n",
    "j[0,1] = (a[0,2]-a[0,0])/2 \n",
    "j[0,2] = (a[0,2]-a[0,1])/1\n",
    "j[1,0] = (a[1,1]-a[1,0])/1 \n",
    "j[1,1] = (a[1,2]-a[1,0])/2 \n",
    "j[1,2] = (a[1,2]-a[1,1])/1\n",
    "print(j)"
   ]
  },
  {
   "cell_type": "code",
   "execution_count": 200,
   "metadata": {
    "collapsed": false
   },
   "outputs": [
    {
     "name": "stdout",
     "output_type": "stream",
     "text": [
      "[ 1.   1.5  2. ]\n"
     ]
    }
   ],
   "source": [
    "x = np.array([1, 2, 4], dtype=np.float)\n",
    "print(np.gradient(x))\n",
    "\n",
    "j = np.zeros(3)\n",
    "j[0] = (x[1]-x[0])/1 \n",
    "j[1] = (x[2]-x[0])/2 \n",
    "j[2] = (x[2]-x[1])/1\n",
    "\n",
    "print(j)"
   ]
  },
  {
   "cell_type": "code",
   "execution_count": 202,
   "metadata": {
    "collapsed": false
   },
   "outputs": [
    {
     "name": "stdout",
     "output_type": "stream",
     "text": [
      "[ 1.   1.5  2. ]\n"
     ]
    }
   ],
   "source": [
    "j = np.zeros(3)\n",
    "j[0] = (x[1]-x[0])/1 \n",
    "j[1] = (x[2]-x[0])/2 \n",
    "j[2] = (x[2]-x[1])/1\n",
    "\n",
    "print(j)"
   ]
  },
  {
   "cell_type": "code",
   "execution_count": 237,
   "metadata": {
    "collapsed": false
   },
   "outputs": [
    {
     "name": "stdout",
     "output_type": "stream",
     "text": [
      "4.0\n",
      "4.0\n"
     ]
    }
   ],
   "source": [
    "a = np.array([1,2,3])\n",
    "x = np.trapz(a)\n",
    "print(x)\n",
    "\n",
    "#(b-a) *(b+a)/2 \n",
    "c = (a[2]-a[0])\n",
    "d = c * ((a[len(a)-1]+ a[0])/2.)\n",
    "print(d)"
   ]
  },
  {
   "cell_type": "code",
   "execution_count": 235,
   "metadata": {
    "collapsed": false
   },
   "outputs": [
    {
     "name": "stdout",
     "output_type": "stream",
     "text": [
      "7.5\n",
      "7.5\n"
     ]
    }
   ],
   "source": [
    "a = np.array([1,2,3,4])\n",
    "x = np.trapz(a)\n",
    "print(x)\n",
    "\n",
    "#(b-a) *(b+a)/2 \n",
    "c = (a[len(a)-1]-a[0])\n",
    "d = c * ((a[len(a)-1]+ a[0])/2.)\n",
    "print(d)"
   ]
  },
  {
   "cell_type": "code",
   "execution_count": 238,
   "metadata": {
    "collapsed": false
   },
   "outputs": [
    {
     "name": "stdout",
     "output_type": "stream",
     "text": [
      "8.0\n",
      "2\n",
      "8\n",
      "4\n",
      "8.0\n"
     ]
    }
   ],
   "source": [
    "a = np.array([1,2,3])\n",
    "x_a = np.array([4,6,8])\n",
    "x = np.trapz(a, x=[4,6,8])\n",
    "print(x)\n",
    "\n",
    "\n",
    "#(b-a) *(b+a)/2 \n",
    "c = (a[len(x_a)-1]-a[0])\n",
    "print(c)\n",
    "def y(x) :\n",
    "    return 2*x+2\n",
    "\n",
    "print(y(a[len(a)-1]))\n",
    "print(y(a[0]))\n",
    "xx = y(a[len(a)-1])+ y(a[0])\n",
    "d = c * (xx/len(x_a))\n",
    "print(d)"
   ]
  },
  {
   "cell_type": "code",
   "execution_count": 278,
   "metadata": {
    "collapsed": false
   },
   "outputs": [
    {
     "name": "stdout",
     "output_type": "stream",
     "text": [
      "[[0 1 2]\n",
      " [3 4 5]]\n",
      "[ 1.5  2.5  3.5]\n",
      "[3 3 3]\n",
      "[6 7 8]\n",
      "[3 4 5]\n",
      "[ 13.5  16.5  19.5]\n"
     ]
    }
   ],
   "source": [
    "a = np.arange(6).reshape(2, 3)\n",
    "print(a)\n",
    "\n",
    "print(np.trapz(a, axis=0))\n",
    "\n",
    "#(b-a) *(b+a)/2 \n",
    "c = (a[len(a)-1]-a[0])\n",
    "print(c)\n",
    "def y(x) :\n",
    "    return x+3\n",
    "\n",
    "print(y(a[len(a)-1]))\n",
    "print(y(a[0]))\n",
    "xx = y(a[len(a)-1])+ y(a[0])\n",
    "d = c * (xx/len(a[:,1]))\n",
    "print(d)\n"
   ]
  },
  {
   "cell_type": "code",
   "execution_count": 245,
   "metadata": {
    "collapsed": false
   },
   "outputs": [
    {
     "name": "stdout",
     "output_type": "stream",
     "text": [
      "[ 2.  8.]\n",
      "2.0\n",
      "8.0\n"
     ]
    }
   ],
   "source": [
    "print(np.trapz(a, axis=1))\n",
    "#(b-a) *(b+a)/2 \n",
    "c = (a[0,2]-a[0,0])\n",
    "d = c * ((a[0,0]+ a[0,2])/2.)\n",
    "print(d)\n",
    "c = (a[1,2]-a[1,0])\n",
    "d = c * ((a[1,0]+ a[1,2])/2.)\n",
    "print(d)"
   ]
  },
  {
   "cell_type": "code",
   "execution_count": 307,
   "metadata": {
    "collapsed": false
   },
   "outputs": [
    {
     "name": "stdout",
     "output_type": "stream",
     "text": [
      "[0 1 2 3]\n",
      "[0 1 3 6]\n",
      "4.5\n",
      "Trapezoidal integration:  11.0\n"
     ]
    }
   ],
   "source": [
    "import numpy as np\n",
    "x = np.arange(0,4)\n",
    "print(x)\n",
    "dx = x[1] - x[0]\n",
    "\n",
    "F = np.cumsum(x) * dx\n",
    "print(F)\n",
    "print(np.trapz(x))\n",
    "print(\"Trapezoidal integration: \", np.trapz(x,x=F))\n"
   ]
  },
  {
   "cell_type": "code",
   "execution_count": 325,
   "metadata": {
    "collapsed": false
   },
   "outputs": [
    {
     "name": "stdout",
     "output_type": "stream",
     "text": [
      "[1 2 3]\n",
      "Trapezoidal integration: x  4.0\n",
      "Trapezoidal integration: x  4.0\n",
      "Trapezoidal integration: 2x+2  12.0\n",
      "Trapezoidal integration: 2x+2  12.0\n"
     ]
    }
   ],
   "source": [
    "import numpy as np\n",
    "x = np.arange(1,4)\n",
    "print(x)\n",
    "\n",
    "print(\"Trapezoidal integration: x \", np.trapz(x, x=x))\n",
    "print(\"Trapezoidal integration: x \", np.trapz(x))\n",
    "\n",
    "y = 2*x+2\n",
    "print(\"Trapezoidal integration: 2x+2 \",np.trapz([4,6,8], x=x))\n",
    "print(\"Trapezoidal integration: 2x+2 \",np.trapz(y, x=x))"
   ]
  },
  {
   "cell_type": "code",
   "execution_count": 294,
   "metadata": {
    "collapsed": false
   },
   "outputs": [
    {
     "name": "stdout",
     "output_type": "stream",
     "text": [
      "[1 2 3 4]\n",
      "10\n",
      "[ 1  3  6 10]\n"
     ]
    }
   ],
   "source": [
    "import numpy as np\n",
    "x = np.arange(1,5)\n",
    "print(x)\n",
    "print(np.sum(x))\n",
    "print(np.cumsum(x))"
   ]
  },
  {
   "cell_type": "code",
   "execution_count": 295,
   "metadata": {
    "collapsed": false
   },
   "outputs": [
    {
     "name": "stdout",
     "output_type": "stream",
     "text": [
      "[1 2 3 4]\n",
      "24\n",
      "[ 1  2  6 24]\n"
     ]
    }
   ],
   "source": [
    "import numpy as np\n",
    "x = np.arange(1,5)\n",
    "print(x)\n",
    "print(np.prod(x))\n",
    "print(np.cumprod(x))"
   ]
  },
  {
   "cell_type": "code",
   "execution_count": 308,
   "metadata": {
    "collapsed": false
   },
   "outputs": [
    {
     "name": "stdout",
     "output_type": "stream",
     "text": [
      "11.000000501\n"
     ]
    }
   ],
   "source": [
    "import numpy as np\n",
    "\n",
    "x = np.linspace(1., 2., 1000)\n",
    "y = 3. * x**2 + 2. * x + 1.\n",
    "\n",
    "print(np.trapz(y, x=x))"
   ]
  },
  {
   "cell_type": "code",
   "execution_count": 315,
   "metadata": {
    "collapsed": false
   },
   "outputs": [
    {
     "name": "stdout",
     "output_type": "stream",
     "text": [
      "[1 2 3]\n",
      "[ 1.  1.  1.]\n",
      "[ 1.  3.  6.]\n",
      "6.5\n",
      "Trapezoidal integration:  6.5\n"
     ]
    }
   ],
   "source": [
    "x = np.arange(1,4)\n",
    "print(x)\n",
    "dx = np.zeros(3)\n",
    "dx[0] = x[0]\n",
    "dx[1] = x[1] - x[0]\n",
    "dx[2] = x[2] - x[1]\n",
    "print(dx)\n",
    "\n",
    "F = np.cumsum(x) * dx\n",
    "print(F)\n",
    "print(np.trapz(F))\n",
    "print(\"Trapezoidal integration: \", np.trapz(F,x=x))"
   ]
  },
  {
   "cell_type": "code",
   "execution_count": 316,
   "metadata": {
    "collapsed": false
   },
   "outputs": [
    {
     "name": "stdout",
     "output_type": "stream",
     "text": [
      "A =  [ 0.25824106  0.85751426]\n",
      "B =  [ 0.25824106  0.85751426]\n"
     ]
    }
   ],
   "source": [
    "import numpy as np\n",
    "\n",
    "A = np.random.random(2)\n",
    "print(\"A = \", A)\n",
    "\n",
    "np.savetxt(\"data.txt\", A) # Store A to disk\n",
    "\n",
    "B = np.loadtxt(\"data.txt\") # Load data.txt to B\n",
    "\n",
    "print(\"B = \", B)\n"
   ]
  },
  {
   "cell_type": "code",
   "execution_count": 342,
   "metadata": {
    "collapsed": false
   },
   "outputs": [
    {
     "name": "stdout",
     "output_type": "stream",
     "text": [
      "C =  [ 0.55440012  0.74692364]\n",
      "D =  [ 0.55440012  0.74692364]\n"
     ]
    }
   ],
   "source": [
    "import numpy as np\n",
    "\n",
    "C = np.random.random(2)\n",
    "print(\"C = \", C)\n",
    "C.tofile(\"tofile.npy\")\n",
    "\n",
    "D = np.fromfile(\"tofile.npy\") \n",
    "\n",
    "print(\"D = \", D)\n"
   ]
  },
  {
   "cell_type": "code",
   "execution_count": 344,
   "metadata": {
    "collapsed": false
   },
   "outputs": [
    {
     "name": "stdout",
     "output_type": "stream",
     "text": [
      "True\n",
      "False\n"
     ]
    },
    {
     "ename": "AssertionError",
     "evalue": "\nArrays are not almost equal to 6 decimals\n\n(shapes (5, 5), (6, 6) mismatch)\n x: [repr failed]\n y: array([[ 1.,  0.,  0.,  0.,  0.,  0.],\n       [ 0.,  1.,  0.,  0.,  0.,  0.],\n       [ 0.,  0.,  1.,  0.,  0.,  0.],...",
     "output_type": "error",
     "traceback": [
      "\u001b[0;31m---------------------------------------------------------------------------\u001b[0m",
      "\u001b[0;31mAssertionError\u001b[0m                            Traceback (most recent call last)",
      "\u001b[0;32m<ipython-input-344-398bdadc9646>\u001b[0m in \u001b[0;36m<module>\u001b[0;34m()\u001b[0m\n\u001b[1;32m      9\u001b[0m \u001b[0mAinv\u001b[0m \u001b[1;33m=\u001b[0m \u001b[0mnp\u001b[0m\u001b[1;33m.\u001b[0m\u001b[0mlinalg\u001b[0m\u001b[1;33m.\u001b[0m\u001b[0minv\u001b[0m\u001b[1;33m(\u001b[0m\u001b[0mA\u001b[0m\u001b[1;33m)\u001b[0m\u001b[1;33m\u001b[0m\u001b[0m\n\u001b[1;32m     10\u001b[0m \u001b[1;33m\u001b[0m\u001b[0m\n\u001b[0;32m---> 11\u001b[0;31m \u001b[0mnp\u001b[0m\u001b[1;33m.\u001b[0m\u001b[0mtesting\u001b[0m\u001b[1;33m.\u001b[0m\u001b[0massert_array_almost_equal\u001b[0m\u001b[1;33m(\u001b[0m\u001b[0mnp\u001b[0m\u001b[1;33m.\u001b[0m\u001b[0mmat\u001b[0m\u001b[1;33m(\u001b[0m\u001b[0mA\u001b[0m\u001b[1;33m)\u001b[0m\u001b[1;33m*\u001b[0m\u001b[0mnp\u001b[0m\u001b[1;33m.\u001b[0m\u001b[0mmat\u001b[0m\u001b[1;33m(\u001b[0m\u001b[0mAinv\u001b[0m\u001b[1;33m)\u001b[0m\u001b[1;33m,\u001b[0m \u001b[0mnp\u001b[0m\u001b[1;33m.\u001b[0m\u001b[0meye\u001b[0m\u001b[1;33m(\u001b[0m\u001b[1;36m6\u001b[0m\u001b[1;33m)\u001b[0m\u001b[1;33m)\u001b[0m\u001b[1;33m\u001b[0m\u001b[0m\n\u001b[0m",
      "\u001b[0;32mC:\\ProgramData\\Anaconda3\\lib\\site-packages\\numpy\\testing\\utils.py\u001b[0m in \u001b[0;36massert_array_almost_equal\u001b[0;34m(x, y, decimal, err_msg, verbose)\u001b[0m\n\u001b[1;32m    916\u001b[0m     assert_array_compare(compare, x, y, err_msg=err_msg, verbose=verbose,\n\u001b[1;32m    917\u001b[0m              \u001b[0mheader\u001b[0m\u001b[1;33m=\u001b[0m\u001b[1;33m(\u001b[0m\u001b[1;34m'Arrays are not almost equal to %d decimals'\u001b[0m \u001b[1;33m%\u001b[0m \u001b[0mdecimal\u001b[0m\u001b[1;33m)\u001b[0m\u001b[1;33m,\u001b[0m\u001b[1;33m\u001b[0m\u001b[0m\n\u001b[0;32m--> 918\u001b[0;31m              precision=decimal)\n\u001b[0m\u001b[1;32m    919\u001b[0m \u001b[1;33m\u001b[0m\u001b[0m\n\u001b[1;32m    920\u001b[0m \u001b[1;33m\u001b[0m\u001b[0m\n",
      "\u001b[0;32mC:\\ProgramData\\Anaconda3\\lib\\site-packages\\numpy\\testing\\utils.py\u001b[0m in \u001b[0;36massert_array_compare\u001b[0;34m(comparison, x, y, err_msg, verbose, header, precision)\u001b[0m\n\u001b[1;32m    692\u001b[0m                                 names=('x', 'y'), precision=precision)\n\u001b[1;32m    693\u001b[0m             \u001b[1;32mif\u001b[0m \u001b[1;32mnot\u001b[0m \u001b[0mcond\u001b[0m\u001b[1;33m:\u001b[0m\u001b[1;33m\u001b[0m\u001b[0m\n\u001b[0;32m--> 694\u001b[0;31m                 \u001b[1;32mraise\u001b[0m \u001b[0mAssertionError\u001b[0m\u001b[1;33m(\u001b[0m\u001b[0mmsg\u001b[0m\u001b[1;33m)\u001b[0m\u001b[1;33m\u001b[0m\u001b[0m\n\u001b[0m\u001b[1;32m    695\u001b[0m \u001b[1;33m\u001b[0m\u001b[0m\n\u001b[1;32m    696\u001b[0m         \u001b[1;32mif\u001b[0m \u001b[0misnumber\u001b[0m\u001b[1;33m(\u001b[0m\u001b[0mx\u001b[0m\u001b[1;33m)\u001b[0m \u001b[1;32mand\u001b[0m \u001b[0misnumber\u001b[0m\u001b[1;33m(\u001b[0m\u001b[0my\u001b[0m\u001b[1;33m)\u001b[0m\u001b[1;33m:\u001b[0m\u001b[1;33m\u001b[0m\u001b[0m\n",
      "\u001b[0;31mAssertionError\u001b[0m: \nArrays are not almost equal to 6 decimals\n\n(shapes (5, 5), (6, 6) mismatch)\n x: [repr failed]\n y: array([[ 1.,  0.,  0.,  0.,  0.,  0.],\n       [ 0.,  1.,  0.,  0.,  0.,  0.],\n       [ 0.,  0.,  1.,  0.,  0.,  0.],..."
     ]
    }
   ],
   "source": [
    "import numpy as np\n",
    "\n",
    "x = np.array([-1, 2, 3, 4, 5])\n",
    "\n",
    "print((x < 0).any())\n",
    "print((x < 0).all())\n",
    "\n",
    "A = np.random.random((5,5))\n",
    "Ainv = np.linalg.inv(A)\n",
    "\n",
    "np.testing.assert_array_almost_equal(np.mat(A)*np.mat(Ainv), np.eye(6))"
   ]
  },
  {
   "cell_type": "code",
   "execution_count": 345,
   "metadata": {
    "collapsed": false
   },
   "outputs": [
    {
     "name": "stdout",
     "output_type": "stream",
     "text": [
      "Help on function partition in module numpy.core.fromnumeric:\n",
      "\n",
      "partition(a, kth, axis=-1, kind='introselect', order=None)\n",
      "    Return a partitioned copy of an array.\n",
      "    \n",
      "    Creates a copy of the array with its elements rearranged in such a way that\n",
      "    the value of the element in kth position is in the position it would be in\n",
      "    a sorted array. All elements smaller than the kth element are moved before\n",
      "    this element and all equal or greater are moved behind it. The ordering of\n",
      "    the elements in the two partitions is undefined.\n",
      "    \n",
      "    .. versionadded:: 1.8.0\n",
      "    \n",
      "    Parameters\n",
      "    ----------\n",
      "    a : array_like\n",
      "        Array to be sorted.\n",
      "    kth : int or sequence of ints\n",
      "        Element index to partition by. The kth value of the element will be in\n",
      "        its final sorted position and all smaller elements will be moved before\n",
      "        it and all equal or greater elements behind it.\n",
      "        The order all elements in the partitions is undefined.\n",
      "        If provided with a sequence of kth it will partition all elements\n",
      "        indexed by kth  of them into their sorted position at once.\n",
      "    axis : int or None, optional\n",
      "        Axis along which to sort. If None, the array is flattened before\n",
      "        sorting. The default is -1, which sorts along the last axis.\n",
      "    kind : {'introselect'}, optional\n",
      "        Selection algorithm. Default is 'introselect'.\n",
      "    order : str or list of str, optional\n",
      "        When `a` is an array with fields defined, this argument specifies\n",
      "        which fields to compare first, second, etc.  A single field can\n",
      "        be specified as a string.  Not all fields need be specified, but\n",
      "        unspecified fields will still be used, in the order in which they\n",
      "        come up in the dtype, to break ties.\n",
      "    \n",
      "    Returns\n",
      "    -------\n",
      "    partitioned_array : ndarray\n",
      "        Array of the same type and shape as `a`.\n",
      "    \n",
      "    See Also\n",
      "    --------\n",
      "    ndarray.partition : Method to sort an array in-place.\n",
      "    argpartition : Indirect partition.\n",
      "    sort : Full sorting\n",
      "    \n",
      "    Notes\n",
      "    -----\n",
      "    The various selection algorithms are characterized by their average speed,\n",
      "    worst case performance, work space size, and whether they are stable. A\n",
      "    stable sort keeps items with the same key in the same relative order. The\n",
      "    available algorithms have the following properties:\n",
      "    \n",
      "    ================= ======= ============= ============ =======\n",
      "       kind            speed   worst case    work space  stable\n",
      "    ================= ======= ============= ============ =======\n",
      "    'introselect'        1        O(n)           0         no\n",
      "    ================= ======= ============= ============ =======\n",
      "    \n",
      "    All the partition algorithms make temporary copies of the data when\n",
      "    partitioning along any but the last axis.  Consequently, partitioning\n",
      "    along the last axis is faster and uses less space than partitioning\n",
      "    along any other axis.\n",
      "    \n",
      "    The sort order for complex numbers is lexicographic. If both the real\n",
      "    and imaginary parts are non-nan then the order is determined by the\n",
      "    real parts except when they are equal, in which case the order is\n",
      "    determined by the imaginary parts.\n",
      "    \n",
      "    Examples\n",
      "    --------\n",
      "    >>> a = np.array([3, 4, 2, 1])\n",
      "    >>> np.partition(a, 3)\n",
      "    array([2, 1, 3, 4])\n",
      "    \n",
      "    >>> np.partition(a, (1, 3))\n",
      "    array([1, 2, 3, 4])\n",
      "\n"
     ]
    }
   ],
   "source": [
    "help(np.partition)"
   ]
  },
  {
   "cell_type": "code",
   "execution_count": 348,
   "metadata": {
    "collapsed": false
   },
   "outputs": [
    {
     "name": "stdout",
     "output_type": "stream",
     "text": [
      "[2 1 3 4]\n",
      "[1 2 3 4]\n"
     ]
    }
   ],
   "source": [
    "import numpy as np\n",
    "\n",
    "a = np.array([3, 4, 2, 1])\n",
    "print(np.partition(a, 3))\n",
    "\n",
    "print(np.partition(a, (1, 3)))"
   ]
  },
  {
   "cell_type": "code",
   "execution_count": 333,
   "metadata": {
    "collapsed": false
   },
   "outputs": [
    {
     "name": "stdout",
     "output_type": "stream",
     "text": [
      "[1 2 3 4]\n",
      "[1 2 3 4 5]\n",
      "[1 2 3 4]\n",
      "[99  2  3  4  5]\n",
      "[1 2 3 4 5 6 7 8 9]\n",
      "[[1 2 3]\n",
      " [4 5 6]\n",
      " [7 8 9]]\n"
     ]
    }
   ],
   "source": [
    "import numpy as np\n",
    "\n",
    "a = np.array([1,2,3,4])\n",
    "b = np.append(a,5)\n",
    "print(a)\n",
    "print(b)\n",
    "b[0] = 99\n",
    "print(a)\n",
    "print(b)\n",
    "c = np.append([1, 2, 3], [[4, 5, 6], [7, 8, 9]])\n",
    "print(c)\n",
    "d = np.append([[1, 2, 3], [4, 5, 6]], [[7, 8, 9]], axis=0)\n",
    "print(d)"
   ]
  },
  {
   "cell_type": "code",
   "execution_count": 336,
   "metadata": {
    "collapsed": false
   },
   "outputs": [
    {
     "name": "stdout",
     "output_type": "stream",
     "text": [
      "int32\n",
      "float64\n"
     ]
    }
   ],
   "source": [
    "import numpy as np \n",
    "dt = np.dtype(np.int32) \n",
    "print(dt)\n",
    "dt = np.dtype(np.float64)\n",
    "print(dt)"
   ]
  },
  {
   "cell_type": "code",
   "execution_count": 338,
   "metadata": {
    "collapsed": false
   },
   "outputs": [
    {
     "name": "stdout",
     "output_type": "stream",
     "text": [
      "int32\n",
      "int32\n",
      ">i4\n"
     ]
    }
   ],
   "source": [
    "import numpy as np \n",
    "\n",
    "dt = np.dtype(np.int32) \n",
    "print(dt)\n",
    "# little-endian \n",
    "dt = np.dtype('<i4') \n",
    "print(dt)\n",
    "# big-endian \n",
    "dt = np.dtype('>i4') \n",
    "print(dt)"
   ]
  },
  {
   "cell_type": "code",
   "execution_count": 341,
   "metadata": {
    "collapsed": false
   },
   "outputs": [
    {
     "name": "stdout",
     "output_type": "stream",
     "text": [
      "<class 'type'>\n",
      "<class 'numpy.bool_'>\n"
     ]
    }
   ],
   "source": [
    "import numpy as np \n",
    "\n",
    "print(type(np.bool_))\n",
    "a = np.bool_(0)\n",
    "print(type(a))"
   ]
  },
  {
   "cell_type": "code",
   "execution_count": 351,
   "metadata": {
    "collapsed": false
   },
   "outputs": [
    {
     "name": "stdout",
     "output_type": "stream",
     "text": [
      "[2 4 6]\n",
      "[0 0 0]\n",
      "[ 1.  1.  1.]\n",
      "[1 1 1]\n",
      "[ 1.  1.  1.]\n",
      "[1 4 9]\n"
     ]
    }
   ],
   "source": [
    "import numpy as np \n",
    "\n",
    "a = np.array([1,2,3])\n",
    "\n",
    "c = np.add(a,a)\n",
    "print(c)\n",
    "d = np.subtract(a,a)\n",
    "print(d)\n",
    "e = np.divide(a,a)\n",
    "print(e)\n",
    "f = np.floor_divide(a,a)\n",
    "print(f)\n",
    "g = np.true_divide(a,a)\n",
    "print(g)\n",
    "h = np.multiply(a,a)\n",
    "print(h)"
   ]
  },
  {
   "cell_type": "code",
   "execution_count": 359,
   "metadata": {
    "collapsed": false
   },
   "outputs": [
    {
     "name": "stdout",
     "output_type": "stream",
     "text": [
      "[ 1.03   2.534  3.235]\n",
      "[ 2.  3.  4.]\n",
      "[ 1.  2.  3.]\n",
      "[ 1.  3.  3.]\n"
     ]
    }
   ],
   "source": [
    "import numpy as np \n",
    "\n",
    "aa = np.array([1.03,2.534,3.235])\n",
    "c = np.ceil(aa)\n",
    "print(c)\n",
    "d = np.floor(aa)\n",
    "print(d)\n",
    "e = np.round(aa)\n",
    "print(e)"
   ]
  },
  {
   "cell_type": "code",
   "execution_count": 483,
   "metadata": {
    "collapsed": false
   },
   "outputs": [
    {
     "name": "stdout",
     "output_type": "stream",
     "text": [
      "[ 1.03   2.534  3.235]\n",
      "[ 1.03   2.534  3.235]\n",
      "[ 1. -1. -1.]\n",
      "[-1.03   2.534  3.235]\n",
      "[  1.  -1.  nan]\n"
     ]
    },
    {
     "name": "stderr",
     "output_type": "stream",
     "text": [
      "C:\\ProgramData\\Anaconda3\\lib\\site-packages\\ipykernel\\__main__.py:16: RuntimeWarning: invalid value encountered in sign\n"
     ]
    }
   ],
   "source": [
    "import numpy as np \n",
    "\n",
    "a = np.array([1.03,-2.534,-3.235])\n",
    "\n",
    "b = np.abs(a)\n",
    "print(b)\n",
    "print(np.absolute(a))\n",
    "\n",
    "c = np.sign(a)\n",
    "print(c)\n",
    "\n",
    "d = np.negative(a)\n",
    "print(d)\n",
    "\n",
    "aa = np.array([1.03,-2.534,np.nan])\n",
    "f = np.sign(aa)\n",
    "print(e)\n"
   ]
  },
  {
   "cell_type": "code",
   "execution_count": 369,
   "metadata": {
    "collapsed": false
   },
   "outputs": [
    {
     "name": "stdout",
     "output_type": "stream",
     "text": [
      "2.718281828459045\n",
      "3.141592653589793\n",
      "inf\n",
      "inf\n",
      "-inf\n",
      "-inf\n",
      "nan\n"
     ]
    }
   ],
   "source": [
    "import numpy as np \n",
    "\n",
    "print(np.e)\n",
    "print(np.pi)\n",
    "\n",
    "print(np.Inf)\n",
    "print(np.Infinity)\n",
    "print(-1* np.Inf)\n",
    "print(-1* np.Infinity)\n",
    "\n",
    "print(np.nan)"
   ]
  },
  {
   "cell_type": "code",
   "execution_count": 376,
   "metadata": {
    "collapsed": false
   },
   "outputs": [
    {
     "name": "stdout",
     "output_type": "stream",
     "text": [
      "100\n",
      "2.0\n",
      "[25 16 36]\n",
      "[25 16 36]\n",
      "[ 2.23606798  2.          2.44948974]\n"
     ]
    }
   ],
   "source": [
    "import numpy as np \n",
    "\n",
    "print(np.power(10,2))\n",
    "print(np.sqrt(4))\n",
    "\n",
    "a = np.array([5,4,6])\n",
    "print(np.power(a,2))\n",
    "print(np.square(a,))\n",
    "print(np.sqrt(a))"
   ]
  },
  {
   "cell_type": "code",
   "execution_count": 381,
   "metadata": {
    "collapsed": false
   },
   "outputs": [
    {
     "name": "stdout",
     "output_type": "stream",
     "text": [
      "180.0\n",
      "3.14159265359\n",
      "3.14159265359\n"
     ]
    }
   ],
   "source": [
    "import numpy as np \n",
    "\n",
    "print(np.degrees(np.pi))\n",
    "print(np.radians(180))\n",
    "\n",
    "print(np.deg2rad(180))"
   ]
  },
  {
   "cell_type": "code",
   "execution_count": 382,
   "metadata": {
    "collapsed": false
   },
   "outputs": [
    {
     "name": "stdout",
     "output_type": "stream",
     "text": [
      "Help on ufunc object:\n",
      "\n",
      "hypot = class ufunc(builtins.object)\n",
      " |  Functions that operate element by element on whole arrays.\n",
      " |  \n",
      " |  To see the documentation for a specific ufunc, use np.info().  For\n",
      " |  example, np.info(np.sin).  Because ufuncs are written in C\n",
      " |  (for speed) and linked into Python with NumPy's ufunc facility,\n",
      " |  Python's help() function finds this page whenever help() is called\n",
      " |  on a ufunc.\n",
      " |  \n",
      " |  A detailed explanation of ufuncs can be found in the \"ufuncs.rst\"\n",
      " |  file in the NumPy reference guide.\n",
      " |  \n",
      " |  Unary ufuncs:\n",
      " |  =============\n",
      " |  \n",
      " |  op(X, out=None)\n",
      " |  Apply op to X elementwise\n",
      " |  \n",
      " |  Parameters\n",
      " |  ----------\n",
      " |  X : array_like\n",
      " |      Input array.\n",
      " |  out : array_like\n",
      " |      An array to store the output. Must be the same shape as `X`.\n",
      " |  \n",
      " |  Returns\n",
      " |  -------\n",
      " |  r : array_like\n",
      " |      `r` will have the same shape as `X`; if out is provided, `r`\n",
      " |      will be equal to out.\n",
      " |  \n",
      " |  Binary ufuncs:\n",
      " |  ==============\n",
      " |  \n",
      " |  op(X, Y, out=None)\n",
      " |  Apply `op` to `X` and `Y` elementwise. May \"broadcast\" to make\n",
      " |  the shapes of `X` and `Y` congruent.\n",
      " |  \n",
      " |  The broadcasting rules are:\n",
      " |  \n",
      " |  * Dimensions of length 1 may be prepended to either array.\n",
      " |  * Arrays may be repeated along dimensions of length 1.\n",
      " |  \n",
      " |  Parameters\n",
      " |  ----------\n",
      " |  X : array_like\n",
      " |      First input array.\n",
      " |  Y : array_like\n",
      " |      Second input array.\n",
      " |  out : array_like\n",
      " |      An array to store the output. Must be the same shape as the\n",
      " |      output would have.\n",
      " |  \n",
      " |  Returns\n",
      " |  -------\n",
      " |  r : array_like\n",
      " |      The return value; if out is provided, `r` will be equal to out.\n",
      " |  \n",
      " |  Methods defined here:\n",
      " |  \n",
      " |  __call__(self, /, *args, **kwargs)\n",
      " |      Call self as a function.\n",
      " |  \n",
      " |  __repr__(self, /)\n",
      " |      Return repr(self).\n",
      " |  \n",
      " |  __str__(self, /)\n",
      " |      Return str(self).\n",
      " |  \n",
      " |  accumulate(...)\n",
      " |      accumulate(array, axis=0, dtype=None, out=None)\n",
      " |      \n",
      " |      Accumulate the result of applying the operator to all elements.\n",
      " |      \n",
      " |      For a one-dimensional array, accumulate produces results equivalent to::\n",
      " |      \n",
      " |        r = np.empty(len(A))\n",
      " |        t = op.identity        # op = the ufunc being applied to A's  elements\n",
      " |        for i in range(len(A)):\n",
      " |            t = op(t, A[i])\n",
      " |            r[i] = t\n",
      " |        return r\n",
      " |      \n",
      " |      For example, add.accumulate() is equivalent to np.cumsum().\n",
      " |      \n",
      " |      For a multi-dimensional array, accumulate is applied along only one\n",
      " |      axis (axis zero by default; see Examples below) so repeated use is\n",
      " |      necessary if one wants to accumulate over multiple axes.\n",
      " |      \n",
      " |      Parameters\n",
      " |      ----------\n",
      " |      array : array_like\n",
      " |          The array to act on.\n",
      " |      axis : int, optional\n",
      " |          The axis along which to apply the accumulation; default is zero.\n",
      " |      dtype : data-type code, optional\n",
      " |          The data-type used to represent the intermediate results. Defaults\n",
      " |          to the data-type of the output array if such is provided, or the\n",
      " |          the data-type of the input array if no output array is provided.\n",
      " |      out : ndarray, optional\n",
      " |          A location into which the result is stored. If not provided a\n",
      " |          freshly-allocated array is returned.\n",
      " |      \n",
      " |      Returns\n",
      " |      -------\n",
      " |      r : ndarray\n",
      " |          The accumulated values. If `out` was supplied, `r` is a reference to\n",
      " |          `out`.\n",
      " |      \n",
      " |      Examples\n",
      " |      --------\n",
      " |      1-D array examples:\n",
      " |      \n",
      " |      >>> np.add.accumulate([2, 3, 5])\n",
      " |      array([ 2,  5, 10])\n",
      " |      >>> np.multiply.accumulate([2, 3, 5])\n",
      " |      array([ 2,  6, 30])\n",
      " |      \n",
      " |      2-D array examples:\n",
      " |      \n",
      " |      >>> I = np.eye(2)\n",
      " |      >>> I\n",
      " |      array([[ 1.,  0.],\n",
      " |             [ 0.,  1.]])\n",
      " |      \n",
      " |      Accumulate along axis 0 (rows), down columns:\n",
      " |      \n",
      " |      >>> np.add.accumulate(I, 0)\n",
      " |      array([[ 1.,  0.],\n",
      " |             [ 1.,  1.]])\n",
      " |      >>> np.add.accumulate(I) # no axis specified = axis zero\n",
      " |      array([[ 1.,  0.],\n",
      " |             [ 1.,  1.]])\n",
      " |      \n",
      " |      Accumulate along axis 1 (columns), through rows:\n",
      " |      \n",
      " |      >>> np.add.accumulate(I, 1)\n",
      " |      array([[ 1.,  1.],\n",
      " |             [ 0.,  1.]])\n",
      " |  \n",
      " |  at(...)\n",
      " |      at(a, indices, b=None)\n",
      " |      \n",
      " |      Performs unbuffered in place operation on operand 'a' for elements\n",
      " |      specified by 'indices'. For addition ufunc, this method is equivalent to\n",
      " |      `a[indices] += b`, except that results are accumulated for elements that\n",
      " |      are indexed more than once. For example, `a[[0,0]] += 1` will only\n",
      " |      increment the first element once because of buffering, whereas\n",
      " |      `add.at(a, [0,0], 1)` will increment the first element twice.\n",
      " |      \n",
      " |      .. versionadded:: 1.8.0\n",
      " |      \n",
      " |      Parameters\n",
      " |      ----------\n",
      " |      a : array_like\n",
      " |          The array to perform in place operation on.\n",
      " |      indices : array_like or tuple\n",
      " |          Array like index object or slice object for indexing into first\n",
      " |          operand. If first operand has multiple dimensions, indices can be a\n",
      " |          tuple of array like index objects or slice objects.\n",
      " |      b : array_like\n",
      " |          Second operand for ufuncs requiring two operands. Operand must be\n",
      " |          broadcastable over first operand after indexing or slicing.\n",
      " |      \n",
      " |      Examples\n",
      " |      --------\n",
      " |      Set items 0 and 1 to their negative values:\n",
      " |      \n",
      " |      >>> a = np.array([1, 2, 3, 4])\n",
      " |      >>> np.negative.at(a, [0, 1])\n",
      " |      >>> print(a)\n",
      " |      array([-1, -2, 3, 4])\n",
      " |      \n",
      " |      ::\n",
      " |      \n",
      " |      Increment items 0 and 1, and increment item 2 twice:\n",
      " |      \n",
      " |      >>> a = np.array([1, 2, 3, 4])\n",
      " |      >>> np.add.at(a, [0, 1, 2, 2], 1)\n",
      " |      >>> print(a)\n",
      " |      array([2, 3, 5, 4])\n",
      " |      \n",
      " |      ::\n",
      " |      \n",
      " |      Add items 0 and 1 in first array to second array,\n",
      " |      and store results in first array:\n",
      " |      \n",
      " |      >>> a = np.array([1, 2, 3, 4])\n",
      " |      >>> b = np.array([1, 2])\n",
      " |      >>> np.add.at(a, [0, 1], b)\n",
      " |      >>> print(a)\n",
      " |      array([2, 4, 3, 4])\n",
      " |  \n",
      " |  outer(...)\n",
      " |      outer(A, B)\n",
      " |      \n",
      " |      Apply the ufunc `op` to all pairs (a, b) with a in `A` and b in `B`.\n",
      " |      \n",
      " |      Let ``M = A.ndim``, ``N = B.ndim``. Then the result, `C`, of\n",
      " |      ``op.outer(A, B)`` is an array of dimension M + N such that:\n",
      " |      \n",
      " |      .. math:: C[i_0, ..., i_{M-1}, j_0, ..., j_{N-1}] =\n",
      " |         op(A[i_0, ..., i_{M-1}], B[j_0, ..., j_{N-1}])\n",
      " |      \n",
      " |      For `A` and `B` one-dimensional, this is equivalent to::\n",
      " |      \n",
      " |        r = empty(len(A),len(B))\n",
      " |        for i in range(len(A)):\n",
      " |            for j in range(len(B)):\n",
      " |                r[i,j] = op(A[i], B[j]) # op = ufunc in question\n",
      " |      \n",
      " |      Parameters\n",
      " |      ----------\n",
      " |      A : array_like\n",
      " |          First array\n",
      " |      B : array_like\n",
      " |          Second array\n",
      " |      \n",
      " |      Returns\n",
      " |      -------\n",
      " |      r : ndarray\n",
      " |          Output array\n",
      " |      \n",
      " |      See Also\n",
      " |      --------\n",
      " |      numpy.outer\n",
      " |      \n",
      " |      Examples\n",
      " |      --------\n",
      " |      >>> np.multiply.outer([1, 2, 3], [4, 5, 6])\n",
      " |      array([[ 4,  5,  6],\n",
      " |             [ 8, 10, 12],\n",
      " |             [12, 15, 18]])\n",
      " |      \n",
      " |      A multi-dimensional example:\n",
      " |      \n",
      " |      >>> A = np.array([[1, 2, 3], [4, 5, 6]])\n",
      " |      >>> A.shape\n",
      " |      (2, 3)\n",
      " |      >>> B = np.array([[1, 2, 3, 4]])\n",
      " |      >>> B.shape\n",
      " |      (1, 4)\n",
      " |      >>> C = np.multiply.outer(A, B)\n",
      " |      >>> C.shape; C\n",
      " |      (2, 3, 1, 4)\n",
      " |      array([[[[ 1,  2,  3,  4]],\n",
      " |              [[ 2,  4,  6,  8]],\n",
      " |              [[ 3,  6,  9, 12]]],\n",
      " |             [[[ 4,  8, 12, 16]],\n",
      " |              [[ 5, 10, 15, 20]],\n",
      " |              [[ 6, 12, 18, 24]]]])\n",
      " |  \n",
      " |  reduce(...)\n",
      " |      reduce(a, axis=0, dtype=None, out=None, keepdims=False)\n",
      " |      \n",
      " |      Reduces `a`'s dimension by one, by applying ufunc along one axis.\n",
      " |      \n",
      " |      Let :math:`a.shape = (N_0, ..., N_i, ..., N_{M-1})`.  Then\n",
      " |      :math:`ufunc.reduce(a, axis=i)[k_0, ..,k_{i-1}, k_{i+1}, .., k_{M-1}]` =\n",
      " |      the result of iterating `j` over :math:`range(N_i)`, cumulatively applying\n",
      " |      ufunc to each :math:`a[k_0, ..,k_{i-1}, j, k_{i+1}, .., k_{M-1}]`.\n",
      " |      For a one-dimensional array, reduce produces results equivalent to:\n",
      " |      ::\n",
      " |      \n",
      " |       r = op.identity # op = ufunc\n",
      " |       for i in range(len(A)):\n",
      " |         r = op(r, A[i])\n",
      " |       return r\n",
      " |      \n",
      " |      For example, add.reduce() is equivalent to sum().\n",
      " |      \n",
      " |      Parameters\n",
      " |      ----------\n",
      " |      a : array_like\n",
      " |          The array to act on.\n",
      " |      axis : None or int or tuple of ints, optional\n",
      " |          Axis or axes along which a reduction is performed.\n",
      " |          The default (`axis` = 0) is perform a reduction over the first\n",
      " |          dimension of the input array. `axis` may be negative, in\n",
      " |          which case it counts from the last to the first axis.\n",
      " |      \n",
      " |          .. versionadded:: 1.7.0\n",
      " |      \n",
      " |          If this is `None`, a reduction is performed over all the axes.\n",
      " |          If this is a tuple of ints, a reduction is performed on multiple\n",
      " |          axes, instead of a single axis or all the axes as before.\n",
      " |      \n",
      " |          For operations which are either not commutative or not associative,\n",
      " |          doing a reduction over multiple axes is not well-defined. The\n",
      " |          ufuncs do not currently raise an exception in this case, but will\n",
      " |          likely do so in the future.\n",
      " |      dtype : data-type code, optional\n",
      " |          The type used to represent the intermediate results. Defaults\n",
      " |          to the data-type of the output array if this is provided, or\n",
      " |          the data-type of the input array if no output array is provided.\n",
      " |      out : ndarray, optional\n",
      " |          A location into which the result is stored. If not provided, a\n",
      " |          freshly-allocated array is returned.\n",
      " |      keepdims : bool, optional\n",
      " |          If this is set to True, the axes which are reduced are left\n",
      " |          in the result as dimensions with size one. With this option,\n",
      " |          the result will broadcast correctly against the original `arr`.\n",
      " |      \n",
      " |          .. versionadded:: 1.7.0\n",
      " |      \n",
      " |      Returns\n",
      " |      -------\n",
      " |      r : ndarray\n",
      " |          The reduced array. If `out` was supplied, `r` is a reference to it.\n",
      " |      \n",
      " |      Examples\n",
      " |      --------\n",
      " |      >>> np.multiply.reduce([2,3,5])\n",
      " |      30\n",
      " |      \n",
      " |      A multi-dimensional array example:\n",
      " |      \n",
      " |      >>> X = np.arange(8).reshape((2,2,2))\n",
      " |      >>> X\n",
      " |      array([[[0, 1],\n",
      " |              [2, 3]],\n",
      " |             [[4, 5],\n",
      " |              [6, 7]]])\n",
      " |      >>> np.add.reduce(X, 0)\n",
      " |      array([[ 4,  6],\n",
      " |             [ 8, 10]])\n",
      " |      >>> np.add.reduce(X) # confirm: default axis value is 0\n",
      " |      array([[ 4,  6],\n",
      " |             [ 8, 10]])\n",
      " |      >>> np.add.reduce(X, 1)\n",
      " |      array([[ 2,  4],\n",
      " |             [10, 12]])\n",
      " |      >>> np.add.reduce(X, 2)\n",
      " |      array([[ 1,  5],\n",
      " |             [ 9, 13]])\n",
      " |  \n",
      " |  reduceat(...)\n",
      " |      reduceat(a, indices, axis=0, dtype=None, out=None)\n",
      " |      \n",
      " |      Performs a (local) reduce with specified slices over a single axis.\n",
      " |      \n",
      " |      For i in ``range(len(indices))``, `reduceat` computes\n",
      " |      ``ufunc.reduce(a[indices[i]:indices[i+1]])``, which becomes the i-th\n",
      " |      generalized \"row\" parallel to `axis` in the final result (i.e., in a\n",
      " |      2-D array, for example, if `axis = 0`, it becomes the i-th row, but if\n",
      " |      `axis = 1`, it becomes the i-th column).  There are three exceptions to this:\n",
      " |      \n",
      " |      * when ``i = len(indices) - 1`` (so for the last index),\n",
      " |        ``indices[i+1] = a.shape[axis]``.\n",
      " |      * if ``indices[i] >= indices[i + 1]``, the i-th generalized \"row\" is\n",
      " |        simply ``a[indices[i]]``.\n",
      " |      * if ``indices[i] >= len(a)`` or ``indices[i] < 0``, an error is raised.\n",
      " |      \n",
      " |      The shape of the output depends on the size of `indices`, and may be\n",
      " |      larger than `a` (this happens if ``len(indices) > a.shape[axis]``).\n",
      " |      \n",
      " |      Parameters\n",
      " |      ----------\n",
      " |      a : array_like\n",
      " |          The array to act on.\n",
      " |      indices : array_like\n",
      " |          Paired indices, comma separated (not colon), specifying slices to\n",
      " |          reduce.\n",
      " |      axis : int, optional\n",
      " |          The axis along which to apply the reduceat.\n",
      " |      dtype : data-type code, optional\n",
      " |          The type used to represent the intermediate results. Defaults\n",
      " |          to the data type of the output array if this is provided, or\n",
      " |          the data type of the input array if no output array is provided.\n",
      " |      out : ndarray, optional\n",
      " |          A location into which the result is stored. If not provided a\n",
      " |          freshly-allocated array is returned.\n",
      " |      \n",
      " |      Returns\n",
      " |      -------\n",
      " |      r : ndarray\n",
      " |          The reduced values. If `out` was supplied, `r` is a reference to\n",
      " |          `out`.\n",
      " |      \n",
      " |      Notes\n",
      " |      -----\n",
      " |      A descriptive example:\n",
      " |      \n",
      " |      If `a` is 1-D, the function `ufunc.accumulate(a)` is the same as\n",
      " |      ``ufunc.reduceat(a, indices)[::2]`` where `indices` is\n",
      " |      ``range(len(array) - 1)`` with a zero placed\n",
      " |      in every other element:\n",
      " |      ``indices = zeros(2 * len(a) - 1)``, ``indices[1::2] = range(1, len(a))``.\n",
      " |      \n",
      " |      Don't be fooled by this attribute's name: `reduceat(a)` is not\n",
      " |      necessarily smaller than `a`.\n",
      " |      \n",
      " |      Examples\n",
      " |      --------\n",
      " |      To take the running sum of four successive values:\n",
      " |      \n",
      " |      >>> np.add.reduceat(np.arange(8),[0,4, 1,5, 2,6, 3,7])[::2]\n",
      " |      array([ 6, 10, 14, 18])\n",
      " |      \n",
      " |      A 2-D example:\n",
      " |      \n",
      " |      >>> x = np.linspace(0, 15, 16).reshape(4,4)\n",
      " |      >>> x\n",
      " |      array([[  0.,   1.,   2.,   3.],\n",
      " |             [  4.,   5.,   6.,   7.],\n",
      " |             [  8.,   9.,  10.,  11.],\n",
      " |             [ 12.,  13.,  14.,  15.]])\n",
      " |      \n",
      " |      ::\n",
      " |      \n",
      " |       # reduce such that the result has the following five rows:\n",
      " |       # [row1 + row2 + row3]\n",
      " |       # [row4]\n",
      " |       # [row2]\n",
      " |       # [row3]\n",
      " |       # [row1 + row2 + row3 + row4]\n",
      " |      \n",
      " |      >>> np.add.reduceat(x, [0, 3, 1, 2, 0])\n",
      " |      array([[ 12.,  15.,  18.,  21.],\n",
      " |             [ 12.,  13.,  14.,  15.],\n",
      " |             [  4.,   5.,   6.,   7.],\n",
      " |             [  8.,   9.,  10.,  11.],\n",
      " |             [ 24.,  28.,  32.,  36.]])\n",
      " |      \n",
      " |      ::\n",
      " |      \n",
      " |       # reduce such that result has the following two columns:\n",
      " |       # [col1 * col2 * col3, col4]\n",
      " |      \n",
      " |      >>> np.multiply.reduceat(x, [0, 3], 1)\n",
      " |      array([[    0.,     3.],\n",
      " |             [  120.,     7.],\n",
      " |             [  720.,    11.],\n",
      " |             [ 2184.,    15.]])\n",
      " |  \n",
      " |  ----------------------------------------------------------------------\n",
      " |  Data descriptors defined here:\n",
      " |  \n",
      " |  identity\n",
      " |      The identity value.\n",
      " |      \n",
      " |      Data attribute containing the identity element for the ufunc, if it has one.\n",
      " |      If it does not, the attribute value is None.\n",
      " |      \n",
      " |      Examples\n",
      " |      --------\n",
      " |      >>> np.add.identity\n",
      " |      0\n",
      " |      >>> np.multiply.identity\n",
      " |      1\n",
      " |      >>> np.power.identity\n",
      " |      1\n",
      " |      >>> print(np.exp.identity)\n",
      " |      None\n",
      " |  \n",
      " |  nargs\n",
      " |      The number of arguments.\n",
      " |      \n",
      " |      Data attribute containing the number of arguments the ufunc takes, including\n",
      " |      optional ones.\n",
      " |      \n",
      " |      Notes\n",
      " |      -----\n",
      " |      Typically this value will be one more than what you might expect because all\n",
      " |      ufuncs take  the optional \"out\" argument.\n",
      " |      \n",
      " |      Examples\n",
      " |      --------\n",
      " |      >>> np.add.nargs\n",
      " |      3\n",
      " |      >>> np.multiply.nargs\n",
      " |      3\n",
      " |      >>> np.power.nargs\n",
      " |      3\n",
      " |      >>> np.exp.nargs\n",
      " |      2\n",
      " |  \n",
      " |  nin\n",
      " |      The number of inputs.\n",
      " |      \n",
      " |      Data attribute containing the number of arguments the ufunc treats as input.\n",
      " |      \n",
      " |      Examples\n",
      " |      --------\n",
      " |      >>> np.add.nin\n",
      " |      2\n",
      " |      >>> np.multiply.nin\n",
      " |      2\n",
      " |      >>> np.power.nin\n",
      " |      2\n",
      " |      >>> np.exp.nin\n",
      " |      1\n",
      " |  \n",
      " |  nout\n",
      " |      The number of outputs.\n",
      " |      \n",
      " |      Data attribute containing the number of arguments the ufunc treats as output.\n",
      " |      \n",
      " |      Notes\n",
      " |      -----\n",
      " |      Since all ufuncs can take output arguments, this will always be (at least) 1.\n",
      " |      \n",
      " |      Examples\n",
      " |      --------\n",
      " |      >>> np.add.nout\n",
      " |      1\n",
      " |      >>> np.multiply.nout\n",
      " |      1\n",
      " |      >>> np.power.nout\n",
      " |      1\n",
      " |      >>> np.exp.nout\n",
      " |      1\n",
      " |  \n",
      " |  ntypes\n",
      " |      The number of types.\n",
      " |      \n",
      " |      The number of numerical NumPy types - of which there are 18 total - on which\n",
      " |      the ufunc can operate.\n",
      " |      \n",
      " |      See Also\n",
      " |      --------\n",
      " |      numpy.ufunc.types\n",
      " |      \n",
      " |      Examples\n",
      " |      --------\n",
      " |      >>> np.add.ntypes\n",
      " |      18\n",
      " |      >>> np.multiply.ntypes\n",
      " |      18\n",
      " |      >>> np.power.ntypes\n",
      " |      17\n",
      " |      >>> np.exp.ntypes\n",
      " |      7\n",
      " |      >>> np.remainder.ntypes\n",
      " |      14\n",
      " |  \n",
      " |  signature\n",
      " |  \n",
      " |  types\n",
      " |      Returns a list with types grouped input->output.\n",
      " |      \n",
      " |      Data attribute listing the data-type \"Domain-Range\" groupings the ufunc can\n",
      " |      deliver. The data-types are given using the character codes.\n",
      " |      \n",
      " |      See Also\n",
      " |      --------\n",
      " |      numpy.ufunc.ntypes\n",
      " |      \n",
      " |      Examples\n",
      " |      --------\n",
      " |      >>> np.add.types\n",
      " |      ['??->?', 'bb->b', 'BB->B', 'hh->h', 'HH->H', 'ii->i', 'II->I', 'll->l',\n",
      " |      'LL->L', 'qq->q', 'QQ->Q', 'ff->f', 'dd->d', 'gg->g', 'FF->F', 'DD->D',\n",
      " |      'GG->G', 'OO->O']\n",
      " |      \n",
      " |      >>> np.multiply.types\n",
      " |      ['??->?', 'bb->b', 'BB->B', 'hh->h', 'HH->H', 'ii->i', 'II->I', 'll->l',\n",
      " |      'LL->L', 'qq->q', 'QQ->Q', 'ff->f', 'dd->d', 'gg->g', 'FF->F', 'DD->D',\n",
      " |      'GG->G', 'OO->O']\n",
      " |      \n",
      " |      >>> np.power.types\n",
      " |      ['bb->b', 'BB->B', 'hh->h', 'HH->H', 'ii->i', 'II->I', 'll->l', 'LL->L',\n",
      " |      'qq->q', 'QQ->Q', 'ff->f', 'dd->d', 'gg->g', 'FF->F', 'DD->D', 'GG->G',\n",
      " |      'OO->O']\n",
      " |      \n",
      " |      >>> np.exp.types\n",
      " |      ['f->f', 'd->d', 'g->g', 'F->F', 'D->D', 'G->G', 'O->O']\n",
      " |      \n",
      " |      >>> np.remainder.types\n",
      " |      ['bb->b', 'BB->B', 'hh->h', 'HH->H', 'ii->i', 'II->I', 'll->l', 'LL->L',\n",
      " |      'qq->q', 'QQ->Q', 'ff->f', 'dd->d', 'gg->g', 'OO->O']\n",
      "\n"
     ]
    }
   ],
   "source": [
    "help(np.hypot)"
   ]
  },
  {
   "cell_type": "code",
   "execution_count": 392,
   "metadata": {
    "collapsed": false
   },
   "outputs": [
    {
     "name": "stdout",
     "output_type": "stream",
     "text": [
      "5.0\n",
      "[[ 5.  5.  5.]\n",
      " [ 5.  5.  5.]\n",
      " [ 5.  5.  5.]]\n",
      "[[ 5.  5.  5.]\n",
      " [ 5.  5.  5.]\n",
      " [ 5.  5.  5.]]\n"
     ]
    }
   ],
   "source": [
    "import numpy as np\n",
    "\n",
    "print(np.hypot(3, 4))\n",
    "print(np.hypot(3*np.ones((3, 3)), 4*np.ones((3, 3))))\n",
    "\n",
    "print(np.sqrt(np.power(3*np.ones((3, 3)),2) \n",
    "              + np.power(4*np.ones((3, 3)),2)))"
   ]
  },
  {
   "cell_type": "code",
   "execution_count": 396,
   "metadata": {
    "collapsed": false
   },
   "outputs": [
    {
     "name": "stdout",
     "output_type": "stream",
     "text": [
      "[[1 2 3]\n",
      " [4 5 6]\n",
      " [7 8 9]]\n",
      "(3, 3)\n",
      "15\n",
      "15\n"
     ]
    }
   ],
   "source": [
    "import numpy as np\n",
    "\n",
    "a = np.array([[1,2,3],[4,5,6],[7,8,9]])\n",
    "print(a)\n",
    "print(a.shape)\n",
    "#정방행렬의 궤적\n",
    "print(np.trace(a))\n",
    "\n",
    "#전치행렬의 궤적\n",
    "print(np.trace(np.transpose(a)))"
   ]
  },
  {
   "cell_type": "code",
   "execution_count": 397,
   "metadata": {
    "collapsed": false
   },
   "outputs": [
    {
     "name": "stdout",
     "output_type": "stream",
     "text": [
      "[[ 8 16 24]\n",
      " [32 40 48]\n",
      " [56 64 72]]\n",
      "[[ 8.          4.          2.66666667]\n",
      " [ 2.          1.6         1.33333333]\n",
      " [ 1.14285714  1.          0.88888889]]\n"
     ]
    }
   ],
   "source": [
    "import numpy as np\n",
    "\n",
    "a = np.array([[1,2,3],[4,5,6],[7,8,9]])\n",
    "\n",
    "print(8*a)\n",
    "print(8/a)"
   ]
  },
  {
   "cell_type": "code",
   "execution_count": 400,
   "metadata": {
    "collapsed": false
   },
   "outputs": [
    {
     "name": "stdout",
     "output_type": "stream",
     "text": [
      "[[ 0.  0.]\n",
      " [ 0.  0.]]\n",
      "[[ 0.  0.  0.]\n",
      " [ 0.  0.  0.]\n",
      " [ 0.  0.  0.]]\n"
     ]
    }
   ],
   "source": [
    "import numpy as np\n",
    "\n",
    "z2 = np.zeros((2,2))\n",
    "print(z2)\n",
    "\n",
    "z3 = np.zeros((3,3))\n",
    "print(z3)"
   ]
  },
  {
   "cell_type": "code",
   "execution_count": 426,
   "metadata": {
    "collapsed": false
   },
   "outputs": [
    {
     "name": "stdout",
     "output_type": "stream",
     "text": [
      "[[ 30  36  42]\n",
      " [ 66  81  96]\n",
      " [102 126 150]]\n",
      "[[ 30  36  42]\n",
      " [ 66  81  96]\n",
      " [102 126 150]]\n"
     ]
    }
   ],
   "source": [
    "import numpy as np\n",
    "\n",
    "A = np.array([[1,2,3],[4,5,6],[7,8,9]])\n",
    "B = np.array([[1,2,3],[4,5,6],[7,8,9]])\n",
    "\n",
    "print(np.dot(A,B))\n",
    "\n",
    "a = np.dot(A,B[:,0])[:,np.newaxis]\n",
    "b = np.dot(A,B[:,1])[:,np.newaxis]\n",
    "c = np.dot(A,B[:,2])[:,np.newaxis]\n",
    "\n",
    "print(np.concatenate([a,b,c],axis=1))"
   ]
  },
  {
   "cell_type": "code",
   "execution_count": 429,
   "metadata": {
    "collapsed": false
   },
   "outputs": [
    {
     "name": "stdout",
     "output_type": "stream",
     "text": [
      "[[ 1.  0.  0.  0.]\n",
      " [ 0.  1.  0.  0.]\n",
      " [ 0.  0.  1.  0.]\n",
      " [ 0.  0.  0.  1.]]\n",
      "[[ 1.]\n",
      " [ 2.]\n",
      " [ 3.]\n",
      " [ 4.]]\n"
     ]
    }
   ],
   "source": [
    "import numpy as np\n",
    "\n",
    "I4 = np.identity(4)\n",
    "print(I4)\n",
    "\n",
    "B = np.array([1,2,3,4]).reshape(4,1)\n",
    "\n",
    "print(np.dot(I4,B))"
   ]
  },
  {
   "cell_type": "code",
   "execution_count": 431,
   "metadata": {
    "collapsed": false
   },
   "outputs": [
    {
     "name": "stdout",
     "output_type": "stream",
     "text": [
      "[[ 1.  0.  0.  0.]\n",
      " [ 0.  1.  0.  0.]\n",
      " [ 0.  0.  1.  0.]\n",
      " [ 0.  0.  0.  1.]]\n",
      "[[ 1.  2.  3.  4.]]\n"
     ]
    }
   ],
   "source": [
    "import numpy as np\n",
    "\n",
    "I4 = np.identity(4)\n",
    "print(I4)\n",
    "\n",
    "B = np.array([1,2,3,4]).reshape(1,4)\n",
    "\n",
    "print(np.dot(B, I4))\n"
   ]
  },
  {
   "cell_type": "code",
   "execution_count": 435,
   "metadata": {
    "collapsed": false
   },
   "outputs": [
    {
     "name": "stdout",
     "output_type": "stream",
     "text": [
      "[False False False False]\n",
      "[False False  True False]\n",
      "[ True  True False  True]\n",
      "[ True  True  True  True]\n",
      "[False False  True False]\n",
      "[ True  True False  True]\n"
     ]
    }
   ],
   "source": [
    "import numpy as np\n",
    "\n",
    "A = np.array([1,2,30,4])\n",
    "B = np.array([10,20,30,40])\n",
    "\n",
    "print(np.greater(A,B))\n",
    "print(np.greater_equal(A,B))\n",
    "\n",
    "print(np.less(A,B))\n",
    "print(np.less_equal(A,B))\n",
    "\n",
    "print(np.equal(A,B))\n",
    "print(np.not_equal(A,B))"
   ]
  },
  {
   "cell_type": "code",
   "execution_count": 438,
   "metadata": {
    "collapsed": false
   },
   "outputs": [
    {
     "name": "stdout",
     "output_type": "stream",
     "text": [
      "7.0\n",
      "8.0\n"
     ]
    }
   ],
   "source": [
    "import numpy as np\n",
    "\n",
    "A = np.array([1,2,np.nan,4])\n",
    "\n",
    "print(np.nansum(A))\n",
    "print(np.nanprod(A))"
   ]
  },
  {
   "cell_type": "code",
   "execution_count": 453,
   "metadata": {
    "collapsed": false
   },
   "outputs": [
    {
     "name": "stdout",
     "output_type": "stream",
     "text": [
      "[[1 0 0]\n",
      " [4 5 0]\n",
      " [7 8 9]]\n",
      "[[1 2 3]\n",
      " [0 5 6]\n",
      " [0 0 9]]\n"
     ]
    }
   ],
   "source": [
    "import numpy as np\n",
    "\n",
    "A = np.arange(1,10).reshape(3,3)\n",
    "print(np.tril(A))\n",
    "print(np.triu(A))"
   ]
  },
  {
   "cell_type": "code",
   "execution_count": 454,
   "metadata": {
    "collapsed": false
   },
   "outputs": [
    {
     "name": "stdout",
     "output_type": "stream",
     "text": [
      "[[ 25   0   0]\n",
      " [ 64   8   0]\n",
      " [144  12   1]]\n",
      "[[25  5  1]\n",
      " [ 0  8  1]\n",
      " [ 0  0  1]]\n"
     ]
    }
   ],
   "source": [
    "import numpy as np\n",
    "\n",
    "A = np.array([[25,5,1],[64,8,1],[144,12,1]]) \n",
    "print(np.tril(A))\n",
    "print(np.triu(A))"
   ]
  },
  {
   "cell_type": "code",
   "execution_count": 460,
   "metadata": {
    "collapsed": false
   },
   "outputs": [
    {
     "name": "stdout",
     "output_type": "stream",
     "text": [
      " det A  -84.0\n",
      "[[ 1.          0.          0.        ]\n",
      " [ 0.17361111  1.          0.        ]\n",
      " [ 0.44444444  0.91428571  1.        ]]\n",
      "[[ 144.           12.            1.        ]\n",
      " [   0.            2.91666667    0.82638889]\n",
      " [   0.            0.           -0.2       ]]\n",
      "1.0\n",
      "-84.0\n",
      " det L det U -84.0\n"
     ]
    }
   ],
   "source": [
    "import numpy as np\n",
    "from numpy import linalg as LA\n",
    "import scipy \n",
    "\n",
    "A = np.array([[25,5,1],[64,8,1],[144,12,1]]) \n",
    "\n",
    "print(\" det A \",LA.det(A))\n",
    "P,L,U = scipy.linalg.lu(A)\n",
    "print(L)\n",
    "print(U)\n",
    "print(LA.det(L))\n",
    "print(LA.det(U))\n",
    "print(\" det L det U\", np.dot(LA.det(L),LA.det(U)))"
   ]
  },
  {
   "cell_type": "code",
   "execution_count": 461,
   "metadata": {
    "collapsed": false
   },
   "outputs": [
    {
     "name": "stdout",
     "output_type": "stream",
     "text": [
      "nan\n",
      "nan\n",
      "nan\n",
      "nan\n"
     ]
    }
   ],
   "source": [
    "import numpy as np\n",
    "\n",
    "x = np.nan\n",
    "print(1.0 + x)\n",
    "print(1.0 * x)\n",
    "print( 0.0 * x)\n",
    "print(np.mean(x))"
   ]
  },
  {
   "cell_type": "code",
   "execution_count": 472,
   "metadata": {
    "collapsed": false
   },
   "outputs": [
    {
     "name": "stdout",
     "output_type": "stream",
     "text": [
      "1.79769313486e+308\n",
      "-1.79769313486e+308\n",
      "15\n"
     ]
    }
   ],
   "source": [
    "import numpy as np\n",
    "\n",
    "print(np.finfo(float).max)\n",
    "print(np.finfo(float).min)\n",
    "print(np.finfo(float).precision)"
   ]
  },
  {
   "cell_type": "code",
   "execution_count": 473,
   "metadata": {
    "collapsed": false
   },
   "outputs": [
    {
     "name": "stdout",
     "output_type": "stream",
     "text": [
      "2.22044604925e-16\n",
      "1.0\n",
      "True\n"
     ]
    }
   ],
   "source": [
    "import numpy as np\n",
    "\n",
    "x = 1.0\n",
    "eps = np.finfo(float).eps\n",
    "print(eps)\n",
    "x = x+eps/2\n",
    "print(x)\n",
    "print(x == 1)"
   ]
  },
  {
   "cell_type": "code",
   "execution_count": 551,
   "metadata": {
    "collapsed": false
   },
   "outputs": [
    {
     "name": "stdout",
     "output_type": "stream",
     "text": [
      "2.22044604925e-16\n",
      "[False False]\n",
      "True\n"
     ]
    }
   ],
   "source": [
    "import numpy as np\n",
    "\n",
    "eps = np.finfo(np.float64).eps\n",
    "print(eps)\n",
    "\n",
    "x = np.random.randn(2)\n",
    "y = x + eps\n",
    "\n",
    "print(x == y)\n",
    "\n",
    "print(np.allclose(x,y))\n"
   ]
  },
  {
   "cell_type": "code",
   "execution_count": 548,
   "metadata": {
    "collapsed": false
   },
   "outputs": [
    {
     "name": "stdout",
     "output_type": "stream",
     "text": [
      "[[1 3 4]\n",
      " [1 8 5]]\n",
      "2\n",
      "[[1 3 4]\n",
      " [1 8 5]\n",
      " [2 3 4]]\n",
      "3\n"
     ]
    }
   ],
   "source": [
    "import numpy as np\n",
    "\n",
    "X = np.array([[1,3,4],[1,8,5]])\n",
    "print(X )\n",
    "\n",
    "print(np.linalg.matrix_rank(X ))\n",
    "\n",
    "Y = np.array([[1,3,4],[1,8,5],[2,3,4]])\n",
    "print(Y)\n",
    "\n",
    "print(np.linalg.matrix_rank(Y))\n"
   ]
  },
  {
   "cell_type": "code",
   "execution_count": 486,
   "metadata": {
    "collapsed": false
   },
   "outputs": [
    {
     "name": "stdout",
     "output_type": "stream",
     "text": [
      "[[1 2 3]\n",
      " [2 3 5]\n",
      " [3 5 6]]\n",
      "True\n",
      "True\n"
     ]
    }
   ],
   "source": [
    "import numpy as np\n",
    "\n",
    "X = np.array([[1,2,3],[2,3,5],[3,5,6]])\n",
    "print(X)\n",
    "\n",
    "#True if two arrays have the same shape and elements, \n",
    "print(np.array_equal(X,X.T))\n",
    "\n",
    "#Returns True if input arrays are shape consistent \n",
    "# and all elements equal.\n",
    "print(np.array_equiv(X,X.T))"
   ]
  },
  {
   "cell_type": "code",
   "execution_count": 489,
   "metadata": {
    "collapsed": false
   },
   "outputs": [
    {
     "name": "stdout",
     "output_type": "stream",
     "text": [
      "[[1 2 3]\n",
      " [2 3 5]\n",
      " [3 5 6]]\n",
      "[[ 2  4  6]\n",
      " [ 4  6 10]\n",
      " [ 6 10 12]]\n",
      "[[14 23 31]\n",
      " [23 38 51]\n",
      " [31 51 70]]\n",
      "[[ True  True  True]\n",
      " [ True  True  True]\n",
      " [ True  True  True]]\n"
     ]
    }
   ],
   "source": [
    "import numpy as np\n",
    "\n",
    "X = np.array([[1,2,3],[2,3,5],[3,5,6]])\n",
    "print(X)\n",
    "\n",
    "print(X+X.T)\n",
    "print(np.dot(X,X.T))\n",
    "\n",
    "print(np.transpose(np.dot(X,X.T)) == np.dot(X.T,X))"
   ]
  },
  {
   "cell_type": "code",
   "execution_count": 491,
   "metadata": {
    "collapsed": false
   },
   "outputs": [
    {
     "name": "stdout",
     "output_type": "stream",
     "text": [
      "[[1 2 3]\n",
      " [2 3 5]\n",
      " [3 5 6]]\n",
      "{1, 2, 3, 5, 6}\n"
     ]
    }
   ],
   "source": [
    "import numpy as np\n",
    "\n",
    "X = np.array([[1,2,3],[2,3,5],[3,5,6]])\n",
    "print(X)\n",
    "s = set(X.flatten())\n",
    "print(s)"
   ]
  },
  {
   "cell_type": "code",
   "execution_count": 494,
   "metadata": {
    "collapsed": false
   },
   "outputs": [
    {
     "name": "stdout",
     "output_type": "stream",
     "text": [
      "[[ 0  2 -3]\n",
      " [-2  0  5]\n",
      " [ 3 -5  0]]\n",
      "[[  0   4  -6]\n",
      " [ -4   0  10]\n",
      " [  6 -10   0]]\n",
      "0 0\n"
     ]
    }
   ],
   "source": [
    "import numpy as np\n",
    "\n",
    "X = np.array([[0,2,-3],[-2,0,5],[3,-5,0]])\n",
    "print(X)\n",
    "print(X -X.T)\n",
    "print(np.trace(X), np.trace(X.T))"
   ]
  },
  {
   "cell_type": "code",
   "execution_count": 496,
   "metadata": {
    "collapsed": false
   },
   "outputs": [
    {
     "name": "stdout",
     "output_type": "stream",
     "text": [
      "[[False False False]\n",
      " [False False  True]\n",
      " [False False False]]\n",
      "[[False False False]\n",
      " [False False False]\n",
      " [False False  True]]\n"
     ]
    }
   ],
   "source": [
    "import numpy as np\n",
    "\n",
    "X = np.array([[0,2,-3],[-2,0,np.inf],[3,-5, -np.inf]])\n",
    "\n",
    "print(np.isposinf(X))\n",
    "print(np.isneginf(X))"
   ]
  },
  {
   "cell_type": "code",
   "execution_count": 498,
   "metadata": {
    "collapsed": false
   },
   "outputs": [
    {
     "name": "stdout",
     "output_type": "stream",
     "text": [
      "x     = [1 2 3]\n",
      "e^x   = [  2.71828183   7.3890561   20.08553692]\n",
      "2^x   = [ 2.  4.  8.]\n",
      "2^x   = [2 4 8]\n"
     ]
    }
   ],
   "source": [
    "import numpy as np\n",
    "X =  np.array([1, 2, 3])\n",
    "print(\"x     =\", X)\n",
    "print(\"e^x   =\", np.exp(X))\n",
    "print(\"2^x   =\", np.exp2(X))\n",
    "print(\"2^x   =\", np.power(2, X))"
   ]
  },
  {
   "cell_type": "code",
   "execution_count": 499,
   "metadata": {
    "collapsed": false
   },
   "outputs": [
    {
     "name": "stdout",
     "output_type": "stream",
     "text": [
      "exp(x) - 1 = [ 0.          0.0010005   0.01005017  0.10517092]\n",
      "log(1 + x) = [ 0.          0.0009995   0.00995033  0.09531018]\n"
     ]
    }
   ],
   "source": [
    "import numpy as np\n",
    "X = [0, 0.001, 0.01, 0.1]\n",
    "print(\"exp(x) - 1 =\", np.expm1(X))\n",
    "print(\"log(1 + x) =\", np.log1p(X))"
   ]
  },
  {
   "cell_type": "code",
   "execution_count": 509,
   "metadata": {
    "collapsed": false
   },
   "outputs": [
    {
     "name": "stdout",
     "output_type": "stream",
     "text": [
      "(2, 3)\n",
      "(3,)\n",
      "(1, 3)\n",
      "[[ 1.  1.  1.]\n",
      " [ 1.  1.  1.]]\n",
      "[[0 1 2]]\n"
     ]
    }
   ],
   "source": [
    "import numpy as np\n",
    "\n",
    "M = np.ones((2, 3))\n",
    "A = np.arange(3)\n",
    "\n",
    "print(M.shape)\n",
    "print(A.shape)\n",
    "\n",
    "# rule 1 \n",
    "A = A[np.newaxis,:]\n",
    "print(A.shape)\n",
    "print(M)\n",
    "print(A)"
   ]
  },
  {
   "cell_type": "code",
   "execution_count": 512,
   "metadata": {
    "collapsed": false
   },
   "outputs": [
    {
     "name": "stdout",
     "output_type": "stream",
     "text": [
      "(1, 3)\n",
      "(2, 3)\n",
      "[[ 1.  1.  1.]\n",
      " [ 1.  1.  1.]]\n",
      "[[0 1 2]\n",
      " [0 1 2]]\n"
     ]
    }
   ],
   "source": [
    "import numpy as np\n",
    "\n",
    "M = np.ones((2, 3))\n",
    "A = np.arange(3)\n",
    "\n",
    "# rule 1 \n",
    "A = A[np.newaxis,:]\n",
    "print(A.shape)\n",
    "# rule 2\n",
    "A = np.vstack((A,A))\n",
    "print(A.shape)\n",
    "\n",
    "print(M)\n",
    "print(A)\n"
   ]
  },
  {
   "cell_type": "code",
   "execution_count": 513,
   "metadata": {
    "collapsed": false
   },
   "outputs": [
    {
     "name": "stdout",
     "output_type": "stream",
     "text": [
      "(1, 3)\n",
      "(2, 3)\n",
      "[[ 1.  2.  3.]\n",
      " [ 1.  2.  3.]]\n"
     ]
    }
   ],
   "source": [
    "import numpy as np\n",
    "\n",
    "M = np.ones((2, 3))\n",
    "A = np.arange(3)\n",
    "\n",
    "# rule 1 \n",
    "A = A[np.newaxis,:]\n",
    "print(A.shape)\n",
    "# rule 2\n",
    "A = np.vstack((A,A))\n",
    "print(A.shape)\n",
    "\n",
    "print(M+A)"
   ]
  },
  {
   "cell_type": "code",
   "execution_count": 520,
   "metadata": {
    "collapsed": false
   },
   "outputs": [
    {
     "name": "stdout",
     "output_type": "stream",
     "text": [
      "(1, 3)\n",
      "[2 0 1 2 0]\n"
     ]
    }
   ],
   "source": [
    "import numpy as np\n",
    "\n",
    "M = np.ones((2, 3))\n",
    "A = np.arange(3)\n",
    "\n",
    "# rule 1 \n",
    "B = A[np.newaxis,:]\n",
    "print(B.shape)\n",
    "\n",
    "C =  np.pad(A,(1,),'wrap')\n",
    "print(C)"
   ]
  },
  {
   "cell_type": "code",
   "execution_count": 521,
   "metadata": {
    "collapsed": false
   },
   "outputs": [
    {
     "name": "stdout",
     "output_type": "stream",
     "text": [
      "[[ 11.  12.   0.]\n",
      " [ 21.  22.   0.]\n",
      " [  0.   0.   0.]]\n"
     ]
    }
   ],
   "source": [
    "inser = np.array([[11, 12], [21, 22]])\n",
    "zeros = np.zeros(9).reshape( (3,3) )\n",
    "\n",
    "\n",
    "zeros[:inser.shape[0], :inser.shape[1]] = inser\n",
    "print(zeros)\n"
   ]
  },
  {
   "cell_type": "code",
   "execution_count": 523,
   "metadata": {
    "collapsed": false
   },
   "outputs": [
    {
     "data": {
      "text/plain": [
       "array([[ 0,  0,  0,  0,  0,  0,  0,  0],\n",
       "       [ 0,  0,  0,  0,  0,  0,  0,  0],\n",
       "       [ 0,  0,  0,  0,  0,  0,  0,  0],\n",
       "       [ 0,  0,  0, 11, 12,  0,  0,  0],\n",
       "       [ 0,  0,  0, 21, 22,  0,  0,  0],\n",
       "       [ 0,  0,  0,  0,  0,  0,  0,  0],\n",
       "       [ 0,  0,  0,  0,  0,  0,  0,  0],\n",
       "       [ 0,  0,  0,  0,  0,  0,  0,  0]])"
      ]
     },
     "execution_count": 523,
     "metadata": {},
     "output_type": "execute_result"
    }
   ],
   "source": [
    "np.pad(inser,(3,3),\"constant\")"
   ]
  },
  {
   "cell_type": "code",
   "execution_count": 525,
   "metadata": {
    "collapsed": false
   },
   "outputs": [
    {
     "data": {
      "text/plain": [
       "array([[11, 12,  0],\n",
       "       [21, 22,  0],\n",
       "       [ 0,  0,  0]])"
      ]
     },
     "execution_count": 525,
     "metadata": {},
     "output_type": "execute_result"
    }
   ],
   "source": [
    "np.pad(inser,(0,1),\"constant\")"
   ]
  },
  {
   "cell_type": "code",
   "execution_count": 526,
   "metadata": {
    "collapsed": false
   },
   "outputs": [
    {
     "name": "stdout",
     "output_type": "stream",
     "text": [
      "[[ 11.  12.   0.]\n",
      " [ 21.  22.   0.]\n",
      " [  0.   0.   0.]]\n",
      "[[11 12  0]\n",
      " [21 22  0]\n",
      " [ 0  0  0]]\n"
     ]
    }
   ],
   "source": [
    "import numpy as np\n",
    "\n",
    "inser = np.array([[11, 12], [21, 22]])\n",
    "zeros = np.zeros(9).reshape( (3,3) )\n",
    "\n",
    "zeros[:inser.shape[0], :inser.shape[1]] = inser\n",
    "print(zeros)\n",
    "\n",
    "print(np.pad(inser,(0,1),\"constant\"))"
   ]
  },
  {
   "cell_type": "code",
   "execution_count": 529,
   "metadata": {
    "collapsed": false
   },
   "outputs": [
    {
     "name": "stdout",
     "output_type": "stream",
     "text": [
      "[[ 0  0  0]\n",
      " [ 0 11 12]\n",
      " [ 0 21 22]]\n",
      "[[11 12  0]\n",
      " [21 22  0]\n",
      " [ 0  0  0]]\n",
      "[[ 0  0  0  0  0  0  0  0]\n",
      " [ 0  0  0  0  0  0  0  0]\n",
      " [ 0  0  0  0  0  0  0  0]\n",
      " [ 0  0  0 11 12  0  0  0]\n",
      " [ 0  0  0 21 22  0  0  0]\n",
      " [ 0  0  0  0  0  0  0  0]\n",
      " [ 0  0  0  0  0  0  0  0]\n",
      " [ 0  0  0  0  0  0  0  0]]\n"
     ]
    }
   ],
   "source": [
    "import numpy as np\n",
    "\n",
    "inser = np.array([[11, 12], [21, 22]])\n",
    "\n",
    "print(np.pad(inser,(1,0),\"constant\"))\n",
    "print(np.pad(inser,(0,1),\"constant\"))\n",
    "print(np.pad(inser,(3,3),\"constant\"))"
   ]
  },
  {
   "cell_type": "code",
   "execution_count": 541,
   "metadata": {
    "collapsed": false
   },
   "outputs": [
    {
     "name": "stdout",
     "output_type": "stream",
     "text": [
      "[[22 21 22]\n",
      " [12 11 12]\n",
      " [22 21 22]]\n",
      "[[11 12 12]\n",
      " [21 22 22]\n",
      " [21 22 22]]\n",
      "[[22 22 22 21 22 22 22 22]\n",
      " [22 22 22 21 22 22 22 22]\n",
      " [22 22 22 21 22 22 22 22]\n",
      " [12 12 12 11 12 12 12 12]\n",
      " [22 22 22 21 22 22 22 22]\n",
      " [22 22 22 21 22 22 22 22]\n",
      " [22 22 22 21 22 22 22 22]\n",
      " [22 22 22 21 22 22 22 22]]\n"
     ]
    }
   ],
   "source": [
    "import numpy as np\n",
    "\n",
    "inser = np.array([[11, 12], [21, 22]])\n",
    "\n",
    "print(np.pad(inser,(1,0),\"maximum\"))\n",
    "print(np.pad(inser,(0,1),\"maximum\"))\n",
    "print(np.pad(inser,(3,3),\"maximum\"))"
   ]
  },
  {
   "cell_type": "code",
   "execution_count": 542,
   "metadata": {
    "collapsed": false
   },
   "outputs": [
    {
     "name": "stdout",
     "output_type": "stream",
     "text": [
      "[[11 11 12]\n",
      " [11 11 12]\n",
      " [21 21 22]]\n",
      "[[11 12 11]\n",
      " [21 22 21]\n",
      " [11 12 11]]\n",
      "[[11 11 11 11 12 11 11 11]\n",
      " [11 11 11 11 12 11 11 11]\n",
      " [11 11 11 11 12 11 11 11]\n",
      " [11 11 11 11 12 11 11 11]\n",
      " [21 21 21 21 22 21 21 21]\n",
      " [11 11 11 11 12 11 11 11]\n",
      " [11 11 11 11 12 11 11 11]\n",
      " [11 11 11 11 12 11 11 11]]\n"
     ]
    }
   ],
   "source": [
    "import numpy as np\n",
    "\n",
    "inser = np.array([[11, 12], [21, 22]])\n",
    "\n",
    "print(np.pad(inser,(1,0),\"minimum\"))\n",
    "print(np.pad(inser,(0,1),\"minimum\"))\n",
    "print(np.pad(inser,(3,3),\"minimum\"))"
   ]
  },
  {
   "cell_type": "code",
   "execution_count": 543,
   "metadata": {
    "collapsed": false
   },
   "outputs": [
    {
     "name": "stdout",
     "output_type": "stream",
     "text": [
      "[[16 16 17]\n",
      " [12 11 12]\n",
      " [22 21 22]]\n",
      "[[11 12 12]\n",
      " [21 22 22]\n",
      " [16 17 16]]\n",
      "[[16 16 16 16 17 16 16 16]\n",
      " [16 16 16 16 17 16 16 16]\n",
      " [16 16 16 16 17 16 16 16]\n",
      " [12 12 12 11 12 12 12 12]\n",
      " [22 22 22 21 22 22 22 22]\n",
      " [16 16 16 16 17 16 16 16]\n",
      " [16 16 16 16 17 16 16 16]\n",
      " [16 16 16 16 17 16 16 16]]\n"
     ]
    }
   ],
   "source": [
    "import numpy as np\n",
    "\n",
    "inser = np.array([[11, 12], [21, 22]])\n",
    "\n",
    "print(np.pad(inser,(1,0),\"mean\"))\n",
    "print(np.pad(inser,(0,1),\"mean\"))\n",
    "print(np.pad(inser,(3,3),\"mean\"))"
   ]
  },
  {
   "cell_type": "code",
   "execution_count": 545,
   "metadata": {
    "collapsed": false
   },
   "outputs": [
    {
     "name": "stdout",
     "output_type": "stream",
     "text": [
      "[[22 21 22]\n",
      " [12 11 12]\n",
      " [22 21 22]]\n",
      "[[11 12 11]\n",
      " [21 22 21]\n",
      " [11 12 11]]\n",
      "[[22 21 22 21 22 21 22 21]\n",
      " [12 11 12 11 12 11 12 11]\n",
      " [22 21 22 21 22 21 22 21]\n",
      " [12 11 12 11 12 11 12 11]\n",
      " [22 21 22 21 22 21 22 21]\n",
      " [12 11 12 11 12 11 12 11]\n",
      " [22 21 22 21 22 21 22 21]\n",
      " [12 11 12 11 12 11 12 11]]\n"
     ]
    }
   ],
   "source": [
    "import numpy as np\n",
    "\n",
    "inser = np.array([[11, 12], [21, 22]])\n",
    "\n",
    "print(np.pad(inser,(1,0),\"reflect\"))\n",
    "print(np.pad(inser,(0,1),\"reflect\"))\n",
    "print(np.pad(inser,(3,3),\"reflect\"))"
   ]
  },
  {
   "cell_type": "code",
   "execution_count": 546,
   "metadata": {
    "collapsed": false
   },
   "outputs": [
    {
     "name": "stdout",
     "output_type": "stream",
     "text": [
      "[[11 11 12]\n",
      " [11 11 12]\n",
      " [21 21 22]]\n",
      "[[11 12 12]\n",
      " [21 22 22]\n",
      " [21 22 22]]\n",
      "[[22 22 21 21 22 22 21 21]\n",
      " [22 22 21 21 22 22 21 21]\n",
      " [12 12 11 11 12 12 11 11]\n",
      " [12 12 11 11 12 12 11 11]\n",
      " [22 22 21 21 22 22 21 21]\n",
      " [22 22 21 21 22 22 21 21]\n",
      " [12 12 11 11 12 12 11 11]\n",
      " [12 12 11 11 12 12 11 11]]\n"
     ]
    }
   ],
   "source": [
    "import numpy as np\n",
    "\n",
    "inser = np.array([[11, 12], [21, 22]])\n",
    "\n",
    "print(np.pad(inser,(1,0),\"symmetric\"))\n",
    "print(np.pad(inser,(0,1),\"symmetric\"))\n",
    "print(np.pad(inser,(3,3),\"symmetric\"))"
   ]
  },
  {
   "cell_type": "code",
   "execution_count": 547,
   "metadata": {
    "collapsed": false
   },
   "outputs": [
    {
     "name": "stdout",
     "output_type": "stream",
     "text": [
      "[[22 21 22]\n",
      " [12 11 12]\n",
      " [22 21 22]]\n",
      "[[11 12 11]\n",
      " [21 22 21]\n",
      " [11 12 11]]\n",
      "[[22 21 22 21 22 21 22 21]\n",
      " [12 11 12 11 12 11 12 11]\n",
      " [22 21 22 21 22 21 22 21]\n",
      " [12 11 12 11 12 11 12 11]\n",
      " [22 21 22 21 22 21 22 21]\n",
      " [12 11 12 11 12 11 12 11]\n",
      " [22 21 22 21 22 21 22 21]\n",
      " [12 11 12 11 12 11 12 11]]\n"
     ]
    }
   ],
   "source": [
    "import numpy as np\n",
    "\n",
    "inser = np.array([[11, 12], [21, 22]])\n",
    "\n",
    "print(np.pad(inser,(1,0),\"wrap\"))\n",
    "print(np.pad(inser,(0,1),\"wrap\"))\n",
    "print(np.pad(inser,(3,3),\"wrap\"))"
   ]
  },
  {
   "cell_type": "code",
   "execution_count": 544,
   "metadata": {
    "collapsed": false
   },
   "outputs": [
    {
     "name": "stdout",
     "output_type": "stream",
     "text": [
      "[[16 16 17]\n",
      " [12 11 12]\n",
      " [22 21 22]]\n",
      "[[11 12 12]\n",
      " [21 22 22]\n",
      " [16 17 16]]\n",
      "[[16 16 16 16 17 16 16 16]\n",
      " [16 16 16 16 17 16 16 16]\n",
      " [16 16 16 16 17 16 16 16]\n",
      " [12 12 12 11 12 12 12 12]\n",
      " [22 22 22 21 22 22 22 22]\n",
      " [16 16 16 16 17 16 16 16]\n",
      " [16 16 16 16 17 16 16 16]\n",
      " [16 16 16 16 17 16 16 16]]\n"
     ]
    }
   ],
   "source": [
    "import numpy as np\n",
    "\n",
    "inser = np.array([[11, 12], [21, 22]])\n",
    "\n",
    "print(np.pad(inser,(1,0),\"median\"))\n",
    "print(np.pad(inser,(0,1),\"median\"))\n",
    "print(np.pad(inser,(3,3),\"median\"))"
   ]
  },
  {
   "cell_type": "code",
   "execution_count": 533,
   "metadata": {
    "collapsed": false
   },
   "outputs": [
    {
     "name": "stdout",
     "output_type": "stream",
     "text": [
      "[[0 1 2]\n",
      " [1 2 3]\n",
      " [2 3 4]]\n",
      "[[0 0 0]\n",
      " [1 1 1]\n",
      " [2 2 2]]\n",
      "[[0 1 2]\n",
      " [0 1 2]\n",
      " [0 1 2]]\n",
      "[[0 1 2]\n",
      " [1 2 3]\n",
      " [2 3 4]]\n"
     ]
    }
   ],
   "source": [
    "import numpy as np\n",
    "\n",
    "a = np.arange(3).reshape((3, 1))\n",
    "b = np.arange(3).reshape((1,3))\n",
    "print(a+b)\n",
    "\n",
    "A = np.hstack((a,a,a))\n",
    "B = np.vstack((b,b,b))\n",
    "print(A)\n",
    "print(B)\n",
    "print(A+B)"
   ]
  },
  {
   "cell_type": "code",
   "execution_count": null,
   "metadata": {
    "collapsed": true
   },
   "outputs": [],
   "source": []
  },
  {
   "cell_type": "code",
   "execution_count": 535,
   "metadata": {
    "collapsed": false
   },
   "outputs": [
    {
     "name": "stdout",
     "output_type": "stream",
     "text": [
      "(1, 3)\n",
      "(3, 3)\n"
     ]
    },
    {
     "ename": "ValueError",
     "evalue": "operands could not be broadcast together with shapes (3,2) (3,3) ",
     "output_type": "error",
     "traceback": [
      "\u001b[0;31m---------------------------------------------------------------------------\u001b[0m",
      "\u001b[0;31mValueError\u001b[0m                                Traceback (most recent call last)",
      "\u001b[0;32m<ipython-input-535-35246b5d5132>\u001b[0m in \u001b[0;36m<module>\u001b[0;34m()\u001b[0m\n\u001b[1;32m      7\u001b[0m \u001b[0mA\u001b[0m \u001b[1;33m=\u001b[0m \u001b[0mnp\u001b[0m\u001b[1;33m.\u001b[0m\u001b[0mvstack\u001b[0m\u001b[1;33m(\u001b[0m\u001b[1;33m(\u001b[0m\u001b[0mA\u001b[0m\u001b[1;33m,\u001b[0m\u001b[0mA\u001b[0m\u001b[1;33m,\u001b[0m\u001b[0mA\u001b[0m\u001b[1;33m)\u001b[0m\u001b[1;33m)\u001b[0m\u001b[1;33m\u001b[0m\u001b[0m\n\u001b[1;32m      8\u001b[0m \u001b[0mprint\u001b[0m\u001b[1;33m(\u001b[0m\u001b[0mA\u001b[0m\u001b[1;33m.\u001b[0m\u001b[0mshape\u001b[0m\u001b[1;33m)\u001b[0m\u001b[1;33m\u001b[0m\u001b[0m\n\u001b[0;32m----> 9\u001b[0;31m \u001b[0mprint\u001b[0m\u001b[1;33m(\u001b[0m\u001b[0mM\u001b[0m\u001b[1;33m+\u001b[0m\u001b[0mA\u001b[0m\u001b[1;33m)\u001b[0m\u001b[1;33m\u001b[0m\u001b[0m\n\u001b[0m",
      "\u001b[0;31mValueError\u001b[0m: operands could not be broadcast together with shapes (3,2) (3,3) "
     ]
    }
   ],
   "source": [
    "import numpy as np\n",
    "\n",
    "M = np.ones((3, 2))\n",
    "a = np.arange(3)\n",
    "A = a[np.newaxis,:]\n",
    "print(A.shape)\n",
    "A = np.vstack((A,A,A))\n",
    "print(A.shape)\n",
    "print(M+A)"
   ]
  },
  {
   "cell_type": "code",
   "execution_count": 538,
   "metadata": {
    "collapsed": false
   },
   "outputs": [
    {
     "name": "stdout",
     "output_type": "stream",
     "text": [
      "[[5 3 8 9]\n",
      " [0 1 4 6]\n",
      " [9 6 1 8]]\n",
      "6\n",
      "6\n"
     ]
    }
   ],
   "source": [
    "import numpy as np\n",
    "\n",
    "x = np.random.randint(10, size=(3, 4))\n",
    "print(x)\n",
    "print(np.count_nonzero(x < 6))\n",
    "print(np.sum(x<6))"
   ]
  },
  {
   "cell_type": "code",
   "execution_count": null,
   "metadata": {
    "collapsed": true
   },
   "outputs": [],
   "source": []
  }
 ],
 "metadata": {
  "kernelspec": {
   "display_name": "Python 3",
   "language": "python",
   "name": "python3"
  }
 },
 "nbformat": 4,
 "nbformat_minor": 2
}
