{
 "cells": [
  {
   "cell_type": "code",
   "execution_count": 1,
   "metadata": {},
   "outputs": [
    {
     "name": "stdout",
     "output_type": "stream",
     "text": [
      "<class 'numpy.ndarray'>\n",
      "[[ 0.  1.]\n",
      " [ 4.  9.]]\n",
      "<class 'numpy.matrixlib.defmatrix.matrix'>\n",
      "[[  2.   3.]\n",
      " [  6.  11.]]\n"
     ]
    }
   ],
   "source": [
    "import numpy as np\n",
    "\n",
    "x = [0.0, 1, 2, 3] \n",
    "y = np.array(x).reshape(2,2)\n",
    "print(type(y))\n",
    "\n",
    "print(y * y )# Elementbyelement\n",
    "\n",
    "z = np.asmatrix(x).reshape(2,2)\n",
    "\n",
    "print(type(z))\n",
    "\n",
    "print(z * z) "
   ]
  },
  {
   "cell_type": "code",
   "execution_count": 2,
   "metadata": {},
   "outputs": [
    {
     "name": "stdout",
     "output_type": "stream",
     "text": [
      "[[ 1.]\n",
      " [ 2.]\n",
      " [ 3.]\n",
      " [ 4.]\n",
      " [ 5.]]\n",
      "[[ 1.]\n",
      " [ 2.]\n",
      " [ 3.]\n",
      " [ 4.]\n",
      " [ 5.]]\n"
     ]
    }
   ],
   "source": [
    "import numpy as np\n",
    "\n",
    "mx = np.matrix([[1.0],[2.0],[3.0],[4.0],[5.0]])\n",
    "print(mx)\n",
    "\n",
    "ax = np.array([[1.0],[2.0],[3.0],[4.0],[5.0]])\n",
    "print(ax)"
   ]
  },
  {
   "cell_type": "code",
   "execution_count": 1,
   "metadata": {},
   "outputs": [
    {
     "name": "stdout",
     "output_type": "stream",
     "text": [
      "[[1 3 4]\n",
      " [1 8 5]]\n",
      "2\n",
      "[[1 3 4]\n",
      " [1 8 5]\n",
      " [2 3 4]]\n",
      "3\n"
     ]
    }
   ],
   "source": [
    "import numpy as np\n",
    "\n",
    "X = np.array([[1,3,4],[1,8,5]])\n",
    "print(X )\n",
    "\n",
    "print(np.linalg.matrix_rank(X ))\n",
    "\n",
    "Y = np.array([[1,3,4],[1,8,5],[2,3,4]])\n",
    "print(Y)\n",
    "\n",
    "print(np.linalg.matrix_rank(Y))"
   ]
  },
  {
   "cell_type": "code",
   "execution_count": null,
   "metadata": {
    "collapsed": true
   },
   "outputs": [],
   "source": []
  }
 ],
 "metadata": {
  "kernelspec": {
   "display_name": "Python 3",
   "language": "python",
   "name": "python3"
  },
  "language_info": {
   "codemirror_mode": {
    "name": "ipython",
    "version": 3
   },
   "file_extension": ".py",
   "mimetype": "text/x-python",
   "name": "python",
   "nbconvert_exporter": "python",
   "pygments_lexer": "ipython3",
   "version": "3.6.1"
  }
 },
 "nbformat": 4,
 "nbformat_minor": 2
}
