{
 "cells": [
  {
   "cell_type": "code",
   "execution_count": 1,
   "metadata": {
    "collapsed": true
   },
   "outputs": [],
   "source": [
    "import numpy as np"
   ]
  },
  {
   "cell_type": "code",
   "execution_count": 43,
   "metadata": {
    "collapsed": false
   },
   "outputs": [
    {
     "name": "stdout",
     "output_type": "stream",
     "text": [
      "[0 1 2 3 4 5 6 7 8 9]\n",
      "1\n",
      "(10,)\n",
      "(4,)\n"
     ]
    }
   ],
   "source": [
    "import numpy as np\n",
    "\n",
    "v = np.arange(0,10)\n",
    "print(v)\n",
    "print(v.ndim)\n",
    "print(v.shape)\n",
    "print(v.strides)"
   ]
  },
  {
   "cell_type": "code",
   "execution_count": 45,
   "metadata": {
    "collapsed": false
   },
   "outputs": [
    {
     "name": "stdout",
     "output_type": "stream",
     "text": [
      "[0 1 2]\n",
      "[4 5 6]\n",
      "17\n"
     ]
    }
   ],
   "source": [
    "import numpy as np\n",
    "\n",
    "v1 = np.arange(0,3)\n",
    "v2 = np.arange(4,7)\n",
    "print(v1)\n",
    "print(v2)\n",
    "print(np.dot(v1,v2))"
   ]
  },
  {
   "cell_type": "code",
   "execution_count": 5,
   "metadata": {
    "collapsed": false
   },
   "outputs": [
    {
     "name": "stdout",
     "output_type": "stream",
     "text": [
      "<class 'numpy.ndarray'>\n",
      "(2, 3)\n",
      "int32\n"
     ]
    }
   ],
   "source": [
    "import numpy as np\n",
    "a = np.array([[1,2,3],[4,5,6]])\n",
    "\n",
    "print(type(a))\n",
    "print(a.shape)\n",
    "print(a.dtype)"
   ]
  },
  {
   "cell_type": "code",
   "execution_count": 7,
   "metadata": {
    "collapsed": false
   },
   "outputs": [
    {
     "name": "stdout",
     "output_type": "stream",
     "text": [
      "2\n"
     ]
    }
   ],
   "source": [
    "print(a[0,1])"
   ]
  },
  {
   "cell_type": "code",
   "execution_count": 9,
   "metadata": {
    "collapsed": false
   },
   "outputs": [
    {
     "name": "stdout",
     "output_type": "stream",
     "text": [
      "[1 2 3 4 5 6]\n"
     ]
    }
   ],
   "source": [
    "print(a.flatten())"
   ]
  },
  {
   "cell_type": "code",
   "execution_count": 11,
   "metadata": {
    "collapsed": false
   },
   "outputs": [
    {
     "name": "stdout",
     "output_type": "stream",
     "text": [
      "[[[ 0  1  2  3  4]\n",
      "  [ 5  6  7  8  9]\n",
      "  [10 11 12 13 14]\n",
      "  [15 16 17 18 19]]\n",
      "\n",
      " [[20 21 22 23 24]\n",
      "  [25 26 27 28 29]\n",
      "  [30 31 32 33 34]\n",
      "  [35 36 37 38 39]]\n",
      "\n",
      " [[40 41 42 43 44]\n",
      "  [45 46 47 48 49]\n",
      "  [50 51 52 53 54]\n",
      "  [55 56 57 58 59]]]\n"
     ]
    }
   ],
   "source": [
    "a = np.arange(60).reshape(3,4,5)\n",
    "print(a)"
   ]
  },
  {
   "cell_type": "code",
   "execution_count": 18,
   "metadata": {
    "collapsed": false
   },
   "outputs": [
    {
     "name": "stdout",
     "output_type": "stream",
     "text": [
      "[[ 3  8 13 18]\n",
      " [23 28 33 38]\n",
      " [43 48 53 58]]\n",
      "(3, 4)\n",
      "[[ 3  8 13 18]\n",
      " [23 28 33 38]\n",
      " [43 48 53 58]]\n",
      "(3, 4)\n"
     ]
    }
   ],
   "source": [
    "print(a[...,3])\n",
    "print(a[...,3].shape)\n",
    "print(a[:,:,3])\n",
    "print(a[:,:,3].shape)"
   ]
  },
  {
   "cell_type": "code",
   "execution_count": 13,
   "metadata": {
    "collapsed": false
   },
   "outputs": [
    {
     "name": "stdout",
     "output_type": "stream",
     "text": [
      "[23 28 33 38]\n"
     ]
    }
   ],
   "source": [
    "print(a[1,...,3])"
   ]
  },
  {
   "cell_type": "code",
   "execution_count": 14,
   "metadata": {
    "collapsed": false
   },
   "outputs": [
    {
     "name": "stdout",
     "output_type": "stream",
     "text": [
      "[[ 2  7 12 17]\n",
      " [22 27 32 37]\n",
      " [42 47 52 57]]\n"
     ]
    }
   ],
   "source": [
    "print(a[:,:,2])"
   ]
  },
  {
   "cell_type": "code",
   "execution_count": 15,
   "metadata": {
    "collapsed": false
   },
   "outputs": [
    {
     "name": "stdout",
     "output_type": "stream",
     "text": [
      "[[ 0  2  4]\n",
      " [10 12 14]]\n"
     ]
    }
   ],
   "source": [
    "print(a[0,::2,::2])"
   ]
  },
  {
   "cell_type": "code",
   "execution_count": 32,
   "metadata": {
    "collapsed": false
   },
   "outputs": [
    {
     "name": "stdout",
     "output_type": "stream",
     "text": [
      "[6 7 8 9]\n",
      "[12 13 14 15]\n",
      "[[6]\n",
      " [7]\n",
      " [8]\n",
      " [9]]\n",
      "[[ 72  78  84  90]\n",
      " [ 84  91  98 105]\n",
      " [ 96 104 112 120]\n",
      " [108 117 126 135]]\n"
     ]
    }
   ],
   "source": [
    "a = np.arange(6, 10)\n",
    "print(a)\n",
    "b = np.arange(12, 16)\n",
    "print(b)\n",
    "print(a[:,np.newaxis])\n",
    "table = a[:,np.newaxis] * b\n",
    "print(table)"
   ]
  },
  {
   "cell_type": "code",
   "execution_count": 31,
   "metadata": {
    "collapsed": false
   },
   "outputs": [
    {
     "name": "stdout",
     "output_type": "stream",
     "text": [
      "[[ 72  78  84  90]\n",
      " [ 84  91  98 105]\n",
      " [ 96 104 112 120]\n",
      " [108 117 126 135]]\n"
     ]
    }
   ],
   "source": [
    "bbbb = np.vstack((b,b,b,b))\n",
    "tableb = a[:,np.newaxis] * bbbb\n",
    "print(tableb)"
   ]
  },
  {
   "cell_type": "code",
   "execution_count": 28,
   "metadata": {
    "collapsed": false
   },
   "outputs": [
    {
     "name": "stdout",
     "output_type": "stream",
     "text": [
      "Help on function vstack in module numpy.core.shape_base:\n",
      "\n",
      "vstack(tup)\n",
      "    Stack arrays in sequence vertically (row wise).\n",
      "    \n",
      "    Take a sequence of arrays and stack them vertically to make a single\n",
      "    array. Rebuild arrays divided by `vsplit`.\n",
      "    \n",
      "    This function continues to be supported for backward compatibility, but\n",
      "    you should prefer ``np.concatenate`` or ``np.stack``. The ``np.stack``\n",
      "    function was added in NumPy 1.10.\n",
      "    \n",
      "    Parameters\n",
      "    ----------\n",
      "    tup : sequence of ndarrays\n",
      "        Tuple containing arrays to be stacked. The arrays must have the same\n",
      "        shape along all but the first axis.\n",
      "    \n",
      "    Returns\n",
      "    -------\n",
      "    stacked : ndarray\n",
      "        The array formed by stacking the given arrays.\n",
      "    \n",
      "    See Also\n",
      "    --------\n",
      "    stack : Join a sequence of arrays along a new axis.\n",
      "    hstack : Stack arrays in sequence horizontally (column wise).\n",
      "    dstack : Stack arrays in sequence depth wise (along third dimension).\n",
      "    concatenate : Join a sequence of arrays along an existing axis.\n",
      "    vsplit : Split array into a list of multiple sub-arrays vertically.\n",
      "    \n",
      "    Notes\n",
      "    -----\n",
      "    Equivalent to ``np.concatenate(tup, axis=0)`` if `tup` contains arrays that\n",
      "    are at least 2-dimensional.\n",
      "    \n",
      "    Examples\n",
      "    --------\n",
      "    >>> a = np.array([1, 2, 3])\n",
      "    >>> b = np.array([2, 3, 4])\n",
      "    >>> np.vstack((a,b))\n",
      "    array([[1, 2, 3],\n",
      "           [2, 3, 4]])\n",
      "    \n",
      "    >>> a = np.array([[1], [2], [3]])\n",
      "    >>> b = np.array([[2], [3], [4]])\n",
      "    >>> np.vstack((a,b))\n",
      "    array([[1],\n",
      "           [2],\n",
      "           [3],\n",
      "           [2],\n",
      "           [3],\n",
      "           [4]])\n",
      "\n"
     ]
    }
   ],
   "source": [
    "help(np.vstack)"
   ]
  },
  {
   "cell_type": "code",
   "execution_count": 23,
   "metadata": {
    "collapsed": false
   },
   "outputs": [
    {
     "name": "stdout",
     "output_type": "stream",
     "text": [
      "[6 7 8 9]\n",
      "[12 13 14 15]\n",
      "[ 72  91 112 135]\n"
     ]
    }
   ],
   "source": [
    "a = np.arange(6, 10)\n",
    "print(a)\n",
    "b = np.arange(12, 16)\n",
    "print(b)\n",
    "print(a*b)"
   ]
  },
  {
   "cell_type": "code",
   "execution_count": 34,
   "metadata": {
    "collapsed": false
   },
   "outputs": [
    {
     "name": "stdout",
     "output_type": "stream",
     "text": [
      "[[1, 2, 3], [4, 5, 6]]\n"
     ]
    }
   ],
   "source": [
    "import numpy as np\n",
    "\n",
    "a = np.array([[1,2,3],[4,5,6]])\n",
    "\n",
    "print(a.tolist())"
   ]
  },
  {
   "cell_type": "code",
   "execution_count": 37,
   "metadata": {
    "collapsed": false
   },
   "outputs": [
    {
     "name": "stdout",
     "output_type": "stream",
     "text": [
      "<class 'int'>\n",
      "1\n",
      "<class 'numpy.int32'>\n",
      "1\n"
     ]
    }
   ],
   "source": [
    "import numpy as np\n",
    "\n",
    "a = np.array([[1,2,3],[4,5,6]])\n",
    "\n",
    "asc = a[0,0].item()\n",
    "print(type(asc))\n",
    "\n",
    "print(asc)\n",
    "print(type(a[0,0]))\n",
    "print(a[0,0])"
   ]
  },
  {
   "cell_type": "code",
   "execution_count": 54,
   "metadata": {
    "collapsed": false
   },
   "outputs": [
    {
     "name": "stdout",
     "output_type": "stream",
     "text": [
      "[ 0  1  2  3  4  5  6  7  8  9 10 11 12 13 14 15]\n",
      "[[ 0  1  2  3]\n",
      " [ 4  5  6  7]\n",
      " [ 8  9 10 11]\n",
      " [12 13 14 15]]\n",
      "False\n",
      "[ 0 99  2  3  4  5  6  7  8  9 10 11 12 13 14 15]\n",
      "[[ 0 99  2  3]\n",
      " [ 4  5  6  7]\n",
      " [ 8  9 10 11]\n",
      " [12 13 14 15]]\n"
     ]
    }
   ],
   "source": [
    "import numpy as np\n",
    "arr = np.arange(16)\n",
    "print(arr)\n",
    "\n",
    "arr2 = np.reshape(arr,(4,4))\n",
    "print(arr2)\n",
    "\n",
    "arr2[0,1] = 99\n",
    "print(arr)\n",
    "print(arr2)"
   ]
  },
  {
   "cell_type": "code",
   "execution_count": 55,
   "metadata": {
    "collapsed": false
   },
   "outputs": [
    {
     "name": "stdout",
     "output_type": "stream",
     "text": [
      "[ 0  1  2  3  4  5  6  7  8  9 10 11 12 13 14 15]\n",
      "[[ 0  1  2  3]\n",
      " [ 4  5  6  7]\n",
      " [ 8  9 10 11]\n",
      " [12 13 14 15]]\n"
     ]
    }
   ],
   "source": [
    "import numpy as np\n",
    "arr = np.arange(16)\n",
    "print(arr)\n",
    "\n",
    "arr2 = np.reshape(arr,(4,-1))\n",
    "print(arr2)\n"
   ]
  },
  {
   "cell_type": "code",
   "execution_count": 58,
   "metadata": {
    "collapsed": false
   },
   "outputs": [
    {
     "name": "stdout",
     "output_type": "stream",
     "text": [
      "[ 0  1  2  3  4  5  6  7  8  9 10 11 12 13 14 15]\n",
      "[ 0  1  2  3  4  5  6  7  8  9 10 11 12 13 14 15]\n",
      "[  0 999   2   3   4   5   6   7   8   9  10  11  12  13  14  15]\n",
      "[  0 999   2   3   4   5   6   7   8   9  10  11  12  13  14  15]\n",
      "[ 0  1  2  3  4  5  6  7  8  9 10 11 12 13 14 15]\n"
     ]
    }
   ],
   "source": [
    "import numpy as np\n",
    "arr = np.arange(16)\n",
    "arr1 = np.reshape(arr,(4,-1))\n",
    "\n",
    "arr2 = arr1.flatten()\n",
    "print(arr2)\n",
    "arr3 = arr1.ravel()\n",
    "print(arr3)\n",
    "\n",
    "arr3[1] = 999\n",
    "print(arr3)\n",
    "print(arr)\n",
    "print(arr2)"
   ]
  },
  {
   "cell_type": "code",
   "execution_count": 59,
   "metadata": {
    "collapsed": false
   },
   "outputs": [
    {
     "name": "stdout",
     "output_type": "stream",
     "text": [
      "[[ 1  2  3]\n",
      " [ 4  5  6]\n",
      " [ 7  8  9]\n",
      " [10 11 12]]\n",
      "[[ 1  2  3  7  8  9]\n",
      " [ 4  5  6 10 11 12]]\n"
     ]
    }
   ],
   "source": [
    "import numpy as np\n",
    "\n",
    "ar1 = np.array([[1,2,3],[4,5,6]])\n",
    "ar2 = np.array([[7,8,9],[10,11,12]])\n",
    "\n",
    "ar120 = np.concatenate([ar1,ar2],axis=0)\n",
    "ar121 = np.concatenate([ar1,ar2],axis=1)\n",
    "\n",
    "print(ar120)\n",
    "print(ar121)"
   ]
  },
  {
   "cell_type": "code",
   "execution_count": 60,
   "metadata": {
    "collapsed": false
   },
   "outputs": [
    {
     "ename": "TypeError",
     "evalue": "function takes at most 2 arguments (3 given)",
     "output_type": "error",
     "traceback": [
      "\u001b[0;31m---------------------------------------------------------------------------\u001b[0m",
      "\u001b[0;31mTypeError\u001b[0m                                 Traceback (most recent call last)",
      "\u001b[0;32m<ipython-input-60-ccef44bac5ab>\u001b[0m in \u001b[0;36m<module>\u001b[0;34m()\u001b[0m\n\u001b[1;32m      4\u001b[0m \u001b[0mar2\u001b[0m \u001b[1;33m=\u001b[0m \u001b[0mnp\u001b[0m\u001b[1;33m.\u001b[0m\u001b[0marray\u001b[0m\u001b[1;33m(\u001b[0m\u001b[1;33m[\u001b[0m\u001b[1;33m[\u001b[0m\u001b[1;36m7\u001b[0m\u001b[1;33m,\u001b[0m\u001b[1;36m8\u001b[0m\u001b[1;33m,\u001b[0m\u001b[1;36m9\u001b[0m\u001b[1;33m]\u001b[0m\u001b[1;33m,\u001b[0m\u001b[1;33m[\u001b[0m\u001b[1;36m10\u001b[0m\u001b[1;33m,\u001b[0m\u001b[1;36m11\u001b[0m\u001b[1;33m,\u001b[0m\u001b[1;36m12\u001b[0m\u001b[1;33m]\u001b[0m\u001b[1;33m]\u001b[0m\u001b[1;33m)\u001b[0m\u001b[1;33m\u001b[0m\u001b[0m\n\u001b[1;32m      5\u001b[0m \u001b[1;33m\u001b[0m\u001b[0m\n\u001b[0;32m----> 6\u001b[0;31m \u001b[0mar120\u001b[0m \u001b[1;33m=\u001b[0m \u001b[0mnp\u001b[0m\u001b[1;33m.\u001b[0m\u001b[0mconcatenate\u001b[0m\u001b[1;33m(\u001b[0m\u001b[1;33m[\u001b[0m\u001b[0mar1\u001b[0m\u001b[1;33m,\u001b[0m\u001b[0mar2\u001b[0m\u001b[1;33m]\u001b[0m\u001b[1;33m,\u001b[0m\u001b[0maxis\u001b[0m\u001b[1;33m=\u001b[0m\u001b[1;36m0\u001b[0m\u001b[1;33m,\u001b[0m\u001b[0morder\u001b[0m\u001b[1;33m=\u001b[0m\u001b[1;34m'F'\u001b[0m\u001b[1;33m)\u001b[0m\u001b[1;33m\u001b[0m\u001b[0m\n\u001b[0m\u001b[1;32m      7\u001b[0m \u001b[0mar121\u001b[0m \u001b[1;33m=\u001b[0m \u001b[0mnp\u001b[0m\u001b[1;33m.\u001b[0m\u001b[0mconcatenate\u001b[0m\u001b[1;33m(\u001b[0m\u001b[1;33m[\u001b[0m\u001b[0mar1\u001b[0m\u001b[1;33m,\u001b[0m\u001b[0mar2\u001b[0m\u001b[1;33m]\u001b[0m\u001b[1;33m,\u001b[0m\u001b[0maxis\u001b[0m\u001b[1;33m=\u001b[0m\u001b[1;36m1\u001b[0m\u001b[1;33m,\u001b[0m\u001b[0morder\u001b[0m\u001b[1;33m=\u001b[0m\u001b[1;34m'F'\u001b[0m\u001b[1;33m)\u001b[0m\u001b[1;33m\u001b[0m\u001b[0m\n\u001b[1;32m      8\u001b[0m \u001b[1;33m\u001b[0m\u001b[0m\n",
      "\u001b[0;31mTypeError\u001b[0m: function takes at most 2 arguments (3 given)"
     ]
    }
   ],
   "source": [
    "import numpy as np\n",
    "\n",
    "ar1 = np.array([[1,2,3],[4,5,6]])\n",
    "ar2 = np.array([[7,8,9],[10,11,12]])\n",
    "\n",
    "ar120 = np.concatenate([ar1,ar2],axis=0)\n",
    "ar121 = np.concatenate([ar1,ar2],axis=1)\n",
    "\n",
    "print(ar120)\n",
    "print(ar121)"
   ]
  },
  {
   "cell_type": "code",
   "execution_count": 61,
   "metadata": {
    "collapsed": false
   },
   "outputs": [
    {
     "name": "stdout",
     "output_type": "stream",
     "text": [
      "[[ 1  2  3]\n",
      " [ 4  5  6]\n",
      " [ 7  8  9]\n",
      " [10 11 12]]\n",
      "[[ 1  2  3  7  8  9]\n",
      " [ 4  5  6 10 11 12]]\n"
     ]
    }
   ],
   "source": [
    "import numpy as np\n",
    "\n",
    "ar1 = np.array([[1,2,3],[4,5,6]])\n",
    "ar2 = np.array([[7,8,9],[10,11,12]])\n",
    "\n",
    "ar120 = np.vstack([ar1,ar2])\n",
    "ar121 = np.hstack([ar1,ar2])\n",
    "\n",
    "print(ar120)\n",
    "print(ar121)"
   ]
  },
  {
   "cell_type": "code",
   "execution_count": 62,
   "metadata": {
    "collapsed": false
   },
   "outputs": [
    {
     "name": "stdout",
     "output_type": "stream",
     "text": [
      "[[ 1  2  3]\n",
      " [ 4  5  6]\n",
      " [ 7  8  9]\n",
      " [10 11 12]]\n",
      "[[ 1  2  3  7  8  9]\n",
      " [ 4  5  6 10 11 12]]\n"
     ]
    }
   ],
   "source": [
    "import numpy as np\n",
    "\n",
    "ar1 = np.array([[1,2,3],[4,5,6]])\n",
    "ar2 = np.array([[7,8,9],[10,11,12]])\n",
    "\n",
    "ar120 = np.row_stack([ar1,ar2])\n",
    "ar121 = np.column_stack([ar1,ar2])\n",
    "\n",
    "print(ar120)\n",
    "print(ar121)"
   ]
  },
  {
   "cell_type": "code",
   "execution_count": 63,
   "metadata": {
    "collapsed": false
   },
   "outputs": [
    {
     "name": "stdout",
     "output_type": "stream",
     "text": [
      "[[[ 1  7]\n",
      "  [ 2  8]\n",
      "  [ 3  9]]\n",
      "\n",
      " [[ 4 10]\n",
      "  [ 5 11]\n",
      "  [ 6 12]]]\n",
      "[[ 1  2  3  7  8  9]\n",
      " [ 4  5  6 10 11 12]]\n"
     ]
    }
   ],
   "source": [
    "import numpy as np\n",
    "\n",
    "ar1 = np.array([[1,2,3],[4,5,6]])\n",
    "ar2 = np.array([[7,8,9],[10,11,12]])\n",
    "\n",
    "ar120 = np.dstack([ar1,ar2])\n",
    "\n",
    "print(ar120)"
   ]
  },
  {
   "cell_type": "code",
   "execution_count": 64,
   "metadata": {
    "collapsed": false
   },
   "outputs": [
    {
     "name": "stdout",
     "output_type": "stream",
     "text": [
      "Help on function dstack in module numpy.lib.shape_base:\n",
      "\n",
      "dstack(tup)\n",
      "    Stack arrays in sequence depth wise (along third axis).\n",
      "    \n",
      "    Takes a sequence of arrays and stack them along the third axis\n",
      "    to make a single array. Rebuilds arrays divided by `dsplit`.\n",
      "    This is a simple way to stack 2D arrays (images) into a single\n",
      "    3D array for processing.\n",
      "    \n",
      "    This function continues to be supported for backward compatibility, but\n",
      "    you should prefer ``np.concatenate`` or ``np.stack``. The ``np.stack``\n",
      "    function was added in NumPy 1.10.\n",
      "    \n",
      "    Parameters\n",
      "    ----------\n",
      "    tup : sequence of arrays\n",
      "        Arrays to stack. All of them must have the same shape along all\n",
      "        but the third axis.\n",
      "    \n",
      "    Returns\n",
      "    -------\n",
      "    stacked : ndarray\n",
      "        The array formed by stacking the given arrays.\n",
      "    \n",
      "    See Also\n",
      "    --------\n",
      "    stack : Join a sequence of arrays along a new axis.\n",
      "    vstack : Stack along first axis.\n",
      "    hstack : Stack along second axis.\n",
      "    concatenate : Join a sequence of arrays along an existing axis.\n",
      "    dsplit : Split array along third axis.\n",
      "    \n",
      "    Notes\n",
      "    -----\n",
      "    Equivalent to ``np.concatenate(tup, axis=2)``.\n",
      "    \n",
      "    Examples\n",
      "    --------\n",
      "    >>> a = np.array((1,2,3))\n",
      "    >>> b = np.array((2,3,4))\n",
      "    >>> np.dstack((a,b))\n",
      "    array([[[1, 2],\n",
      "            [2, 3],\n",
      "            [3, 4]]])\n",
      "    \n",
      "    >>> a = np.array([[1],[2],[3]])\n",
      "    >>> b = np.array([[2],[3],[4]])\n",
      "    >>> np.dstack((a,b))\n",
      "    array([[[1, 2]],\n",
      "           [[2, 3]],\n",
      "           [[3, 4]]])\n",
      "\n"
     ]
    }
   ],
   "source": [
    "help(np.dstack)"
   ]
  },
  {
   "cell_type": "code",
   "execution_count": 65,
   "metadata": {
    "collapsed": false
   },
   "outputs": [
    {
     "name": "stdout",
     "output_type": "stream",
     "text": [
      "[[ 1  2  3]\n",
      " [ 4  5  6]\n",
      " [ 7  8  9]\n",
      " [10 11 12]]\n",
      "[[1 2 3]]\n",
      "[[4 5 6]\n",
      " [7 8 9]]\n",
      "[[10 11 12]]\n"
     ]
    }
   ],
   "source": [
    "import numpy as np\n",
    "\n",
    "ar1 = np.array([[1,2,3],[4,5,6]])\n",
    "ar2 = np.array([[7,8,9],[10,11,12]])\n",
    "\n",
    "ar120 = np.vstack([ar1,ar2])\n",
    "print(ar120)\n",
    "a1, a2, a3 = np.split(ar120,[1,3])\n",
    "print(a1)\n",
    "print(a2)\n",
    "print(a3)"
   ]
  },
  {
   "cell_type": "code",
   "execution_count": 66,
   "metadata": {
    "collapsed": false
   },
   "outputs": [
    {
     "name": "stdout",
     "output_type": "stream",
     "text": [
      "[[ 1  2  3]\n",
      " [ 4  5  6]\n",
      " [ 7  8  9]\n",
      " [10 11 12]]\n",
      "[[1 2 3]]\n",
      "[[4 5 6]\n",
      " [7 8 9]]\n",
      "[[10 11 12]]\n"
     ]
    }
   ],
   "source": [
    "import numpy as np\n",
    "\n",
    "ar1 = np.array([[1,2,3],[4,5,6]])\n",
    "ar2 = np.array([[7,8,9],[10,11,12]])\n",
    "\n",
    "ar120 = np.vstack([ar1,ar2])\n",
    "print(ar120)\n",
    "a1, a2, a3 = np.vsplit(ar120,[1,3])\n",
    "print(a1)\n",
    "print(a2)\n",
    "print(a3)"
   ]
  },
  {
   "cell_type": "code",
   "execution_count": 67,
   "metadata": {
    "collapsed": false
   },
   "outputs": [
    {
     "name": "stdout",
     "output_type": "stream",
     "text": [
      "[[ 1  2  3  7  8  9]\n",
      " [ 4  5  6 10 11 12]]\n",
      "[[1]\n",
      " [4]]\n",
      "[[2 3]\n",
      " [5 6]]\n",
      "[[ 7  8  9]\n",
      " [10 11 12]]\n"
     ]
    }
   ],
   "source": [
    "import numpy as np\n",
    "\n",
    "ar1 = np.array([[1,2,3],[4,5,6]])\n",
    "ar2 = np.array([[7,8,9],[10,11,12]])\n",
    "\n",
    "ar120 = np.hstack([ar1,ar2])\n",
    "print(ar120)\n",
    "a1, a2, a3 = np.hsplit(ar120,[1,3])\n",
    "print(a1)\n",
    "print(a2)\n",
    "print(a3)"
   ]
  },
  {
   "cell_type": "code",
   "execution_count": 76,
   "metadata": {
    "collapsed": false
   },
   "outputs": [
    {
     "name": "stdout",
     "output_type": "stream",
     "text": [
      "[1 2 3 4 5]\n",
      "[1 1 2 2 3 3 4 4 5 5]\n",
      "[1 1 2 2 3 3 4 4 5 5]\n"
     ]
    }
   ],
   "source": [
    "import numpy as np\n",
    "\n",
    "ar = np.linspace(1,5,5,dtype=np.int32)\n",
    "print(ar)\n",
    "\n",
    "print(ar.repeat(2))\n",
    "\n",
    "print(ar.repeat([2,2,2,2,2]))"
   ]
  },
  {
   "cell_type": "code",
   "execution_count": 80,
   "metadata": {
    "collapsed": false
   },
   "outputs": [
    {
     "name": "stdout",
     "output_type": "stream",
     "text": [
      "[[1 2]\n",
      " [3 4]]\n",
      "[[1 2]\n",
      " [1 2]\n",
      " [3 4]\n",
      " [3 4]]\n",
      "[[1 1 2 2]\n",
      " [3 3 4 4]]\n"
     ]
    }
   ],
   "source": [
    "import numpy as np\n",
    "\n",
    "ar = np.linspace(1,4,4,dtype=np.int32).reshape((2,2))\n",
    "print(ar)\n",
    "\n",
    "print(ar.repeat(2, axis=0))\n",
    "print(ar.repeat(2, axis=1))\n"
   ]
  },
  {
   "cell_type": "code",
   "execution_count": 81,
   "metadata": {
    "collapsed": false
   },
   "outputs": [
    {
     "name": "stdout",
     "output_type": "stream",
     "text": [
      "[[1 2]\n",
      " [3 4]]\n",
      "[[1 2]\n",
      " [1 2]\n",
      " [3 4]\n",
      " [3 4]\n",
      " [3 4]]\n",
      "[[1 1 2 2 2]\n",
      " [3 3 4 4 4]]\n"
     ]
    }
   ],
   "source": [
    "import numpy as np\n",
    "\n",
    "ar = np.linspace(1,4,4,dtype=np.int32).reshape((2,2))\n",
    "print(ar)\n",
    "\n",
    "print(ar.repeat([2,3], axis=0))\n",
    "print(ar.repeat([2,3], axis=1))\n"
   ]
  },
  {
   "cell_type": "code",
   "execution_count": 84,
   "metadata": {
    "collapsed": false
   },
   "outputs": [
    {
     "name": "stdout",
     "output_type": "stream",
     "text": [
      "[[1 2]\n",
      " [3 4]]\n",
      "[[1 2 1 2]\n",
      " [3 4 3 4]]\n"
     ]
    }
   ],
   "source": [
    "import numpy as np\n",
    "\n",
    "ar = np.linspace(1,4,4,dtype=np.int32).reshape((2,2))\n",
    "print(ar)\n",
    "\n",
    "print(np.tile(ar,2))"
   ]
  },
  {
   "cell_type": "code",
   "execution_count": 85,
   "metadata": {
    "collapsed": false
   },
   "outputs": [
    {
     "name": "stdout",
     "output_type": "stream",
     "text": [
      "[[1 2]\n",
      " [3 4]]\n",
      "[[1 2 1 2]\n",
      " [3 4 3 4]\n",
      " [1 2 1 2]\n",
      " [3 4 3 4]]\n"
     ]
    }
   ],
   "source": [
    "import numpy as np\n",
    "\n",
    "ar = np.linspace(1,4,4,dtype=np.int32).reshape((2,2))\n",
    "print(ar)\n",
    "\n",
    "print(np.tile(ar,[2,2]))"
   ]
  },
  {
   "cell_type": "code",
   "execution_count": 86,
   "metadata": {
    "collapsed": false
   },
   "outputs": [
    {
     "name": "stdout",
     "output_type": "stream",
     "text": [
      "[[1 2]\n",
      " [3 4]]\n",
      "[2 3]\n"
     ]
    }
   ],
   "source": [
    "import numpy as np\n",
    "\n",
    "ar = np.linspace(1,4,4,dtype=np.int32).reshape((2,2))\n",
    "print(ar)\n",
    "\n",
    "indx = [1,2]\n",
    "fn = ar.take(indx)\n",
    "print(fn)"
   ]
  },
  {
   "cell_type": "code",
   "execution_count": 92,
   "metadata": {
    "collapsed": false
   },
   "outputs": [
    {
     "name": "stdout",
     "output_type": "stream",
     "text": [
      "[[1 2]\n",
      " [3 4]]\n",
      "[99 99]\n",
      "[100  99]\n",
      "[[ 1 99]\n",
      " [99  4]]\n"
     ]
    }
   ],
   "source": [
    "import numpy as np\n",
    "\n",
    "ar = np.linspace(1,4,4,dtype=np.int32).reshape((2,2))\n",
    "print(ar)\n",
    "\n",
    "indx = [1,2]\n",
    "ar.put(indx,99)\n",
    "fn = ar.take(indx)\n",
    "print(fn)\n",
    "fn[0] = 100\n",
    "print(fn)\n",
    "print(ar)"
   ]
  },
  {
   "cell_type": "code",
   "execution_count": 94,
   "metadata": {
    "collapsed": false
   },
   "outputs": [
    {
     "name": "stdout",
     "output_type": "stream",
     "text": [
      "[[1 2]\n",
      " [3 4]]\n",
      "[[11 12]\n",
      " [13 14]]\n",
      "[[11 12]\n",
      " [13 14]]\n"
     ]
    }
   ],
   "source": [
    "import numpy as np\n",
    "\n",
    "ar = np.linspace(1,4,4,dtype=np.int32).reshape((2,2))\n",
    "print(ar)\n",
    "\n",
    "ar2 = ar + 10\n",
    "print(ar2)\n",
    "\n",
    "ar10 = np.array([[10,10],[10,10]])\n",
    "ar20 = ar + ar10\n",
    "print(ar20)"
   ]
  },
  {
   "cell_type": "code",
   "execution_count": 99,
   "metadata": {
    "collapsed": false
   },
   "outputs": [
    {
     "name": "stdout",
     "output_type": "stream",
     "text": [
      "[[1 2]\n",
      " [3 4]]\n",
      "[[11 12]\n",
      " [13 14]]\n",
      "[[10 10]\n",
      " [10 10]]\n",
      "[[11 12]\n",
      " [13 14]]\n"
     ]
    }
   ],
   "source": [
    "import numpy as np\n",
    "\n",
    "ar = np.linspace(1,4,4,dtype=np.int32).reshape((2,2))\n",
    "print(ar)\n",
    "\n",
    "ar1 = np.array([10,10]).reshape((2,1))\n",
    "ar2 = ar + ar1\n",
    "print(ar2)\n",
    "\n",
    "ar10 = np.vstack([ar1,ar1])\n",
    "print(ar10)\n",
    "ar20 = ar + ar10\n",
    "print(ar20)"
   ]
  },
  {
   "cell_type": "code",
   "execution_count": 100,
   "metadata": {
    "collapsed": false
   },
   "outputs": [
    {
     "name": "stdout",
     "output_type": "stream",
     "text": [
      "[[1 2]\n",
      " [3 4]]\n",
      "[[11 12]\n",
      " [13 14]]\n",
      "[[10 10]\n",
      " [10 10]]\n",
      "[[11 12]\n",
      " [13 14]]\n"
     ]
    }
   ],
   "source": [
    "import numpy as np\n",
    "\n",
    "ar = np.linspace(1,4,4,dtype=np.int32).reshape((2,2))\n",
    "print(ar)\n",
    "\n",
    "ar1 = np.array([10,10]).reshape((2,1))\n",
    "ar2 = ar + ar1\n",
    "print(ar2)\n",
    "\n",
    "ar10 = np.hstack([ar1,ar1])\n",
    "print(ar10)\n",
    "ar20 = ar + ar10\n",
    "print(ar20)"
   ]
  },
  {
   "cell_type": "code",
   "execution_count": 109,
   "metadata": {
    "collapsed": false
   },
   "outputs": [
    {
     "name": "stdout",
     "output_type": "stream",
     "text": [
      "[[[1 2]\n",
      "  [3 4]]\n",
      "\n",
      " [[5 6]\n",
      "  [7 8]]]\n",
      "[[[11 12]\n",
      "  [13 14]]\n",
      "\n",
      " [[15 16]\n",
      "  [17 18]]]\n",
      "[[[11 12]\n",
      "  [13 14]]\n",
      "\n",
      " [[15 16]\n",
      "  [17 18]]]\n"
     ]
    }
   ],
   "source": [
    "import numpy as np\n",
    "\n",
    "ar = np.linspace(1,8,8,dtype=np.int32).reshape((2,2,2))\n",
    "print(ar)\n",
    "\n",
    "ar1 = np.array([10,10,10,10]).reshape((2,2))\n",
    "ar2 = ar + ar1\n",
    "print(ar2)\n",
    "\n",
    "ar30 = np.tile(ar1,[2,1,1])\n",
    "ar3 = ar + ar30\n",
    "print(ar3)"
   ]
  },
  {
   "cell_type": "code",
   "execution_count": 108,
   "metadata": {
    "collapsed": false
   },
   "outputs": [
    {
     "name": "stdout",
     "output_type": "stream",
     "text": [
      "[[[10 10]\n",
      "  [10 10]]\n",
      "\n",
      " [[10 10]\n",
      "  [10 10]]]\n"
     ]
    }
   ],
   "source": [
    "print(np.tile(ar1,[2,1,1]))"
   ]
  },
  {
   "cell_type": "code",
   "execution_count": 112,
   "metadata": {
    "collapsed": false
   },
   "outputs": [
    {
     "name": "stdout",
     "output_type": "stream",
     "text": [
      "45\n",
      "45\n"
     ]
    }
   ],
   "source": [
    "import numpy as np\n",
    "\n",
    "ar = np.arange(10)\n",
    "print(np.add.reduce(ar))\n",
    "\n",
    "print(ar.sum())"
   ]
  },
  {
   "cell_type": "code",
   "execution_count": 115,
   "metadata": {
    "collapsed": false
   },
   "outputs": [
    {
     "name": "stdout",
     "output_type": "stream",
     "text": [
      "accumulate\n",
      "at\n",
      "identity\n",
      "nargs\n",
      "nin\n",
      "nout\n",
      "ntypes\n",
      "outer\n",
      "reduce\n",
      "reduceat\n",
      "signature\n",
      "types\n"
     ]
    }
   ],
   "source": [
    "import numpy as np\n",
    "\n",
    "a = dir(np.add)\n",
    "for i in a :\n",
    "    if i.startswith(\"_\") :\n",
    "        pass\n",
    "    else :\n",
    "        print(i)"
   ]
  },
  {
   "cell_type": "code",
   "execution_count": 120,
   "metadata": {
    "collapsed": false
   },
   "outputs": [
    {
     "name": "stdout",
     "output_type": "stream",
     "text": [
      "<built-in method reduce of numpy.ufunc object at 0x0000000000FCC110>\n",
      "<built-in method reduceat of numpy.ufunc object at 0x0000000000FCC110>\n",
      "<built-in method accumulate of numpy.ufunc object at 0x0000000000FCC110>\n"
     ]
    }
   ],
   "source": [
    "import numpy as np\n",
    "\n",
    "print(np.add.reduce)\n",
    "print(np.add.reduceat)\n",
    "print(np.add.accumulate)"
   ]
  },
  {
   "cell_type": "code",
   "execution_count": 130,
   "metadata": {
    "collapsed": false
   },
   "outputs": [
    {
     "name": "stdout",
     "output_type": "stream",
     "text": [
      "[0 1 2 3 4 5 6 7]\n",
      "[ 6 22]\n",
      "[ 6  4 10 18]\n"
     ]
    }
   ],
   "source": [
    "import numpy as np\n",
    "\n",
    "a = np.arange(8)\n",
    "print(a)\n",
    "print(np.add.reduceat(a,[0,4]))\n",
    "print(np.add.reduceat(a,[0,4,1,5]))"
   ]
  },
  {
   "cell_type": "code",
   "execution_count": 124,
   "metadata": {
    "collapsed": false
   },
   "outputs": [
    {
     "name": "stdout",
     "output_type": "stream",
     "text": [
      "Help on built-in function reduceat:\n",
      "\n",
      "reduceat(...) method of numpy.ufunc instance\n",
      "    reduceat(a, indices, axis=0, dtype=None, out=None)\n",
      "    \n",
      "    Performs a (local) reduce with specified slices over a single axis.\n",
      "    \n",
      "    For i in ``range(len(indices))``, `reduceat` computes\n",
      "    ``ufunc.reduce(a[indices[i]:indices[i+1]])``, which becomes the i-th\n",
      "    generalized \"row\" parallel to `axis` in the final result (i.e., in a\n",
      "    2-D array, for example, if `axis = 0`, it becomes the i-th row, but if\n",
      "    `axis = 1`, it becomes the i-th column).  There are three exceptions to this:\n",
      "    \n",
      "    * when ``i = len(indices) - 1`` (so for the last index),\n",
      "      ``indices[i+1] = a.shape[axis]``.\n",
      "    * if ``indices[i] >= indices[i + 1]``, the i-th generalized \"row\" is\n",
      "      simply ``a[indices[i]]``.\n",
      "    * if ``indices[i] >= len(a)`` or ``indices[i] < 0``, an error is raised.\n",
      "    \n",
      "    The shape of the output depends on the size of `indices`, and may be\n",
      "    larger than `a` (this happens if ``len(indices) > a.shape[axis]``).\n",
      "    \n",
      "    Parameters\n",
      "    ----------\n",
      "    a : array_like\n",
      "        The array to act on.\n",
      "    indices : array_like\n",
      "        Paired indices, comma separated (not colon), specifying slices to\n",
      "        reduce.\n",
      "    axis : int, optional\n",
      "        The axis along which to apply the reduceat.\n",
      "    dtype : data-type code, optional\n",
      "        The type used to represent the intermediate results. Defaults\n",
      "        to the data type of the output array if this is provided, or\n",
      "        the data type of the input array if no output array is provided.\n",
      "    out : ndarray, optional\n",
      "        A location into which the result is stored. If not provided a\n",
      "        freshly-allocated array is returned.\n",
      "    \n",
      "    Returns\n",
      "    -------\n",
      "    r : ndarray\n",
      "        The reduced values. If `out` was supplied, `r` is a reference to\n",
      "        `out`.\n",
      "    \n",
      "    Notes\n",
      "    -----\n",
      "    A descriptive example:\n",
      "    \n",
      "    If `a` is 1-D, the function `ufunc.accumulate(a)` is the same as\n",
      "    ``ufunc.reduceat(a, indices)[::2]`` where `indices` is\n",
      "    ``range(len(array) - 1)`` with a zero placed\n",
      "    in every other element:\n",
      "    ``indices = zeros(2 * len(a) - 1)``, ``indices[1::2] = range(1, len(a))``.\n",
      "    \n",
      "    Don't be fooled by this attribute's name: `reduceat(a)` is not\n",
      "    necessarily smaller than `a`.\n",
      "    \n",
      "    Examples\n",
      "    --------\n",
      "    To take the running sum of four successive values:\n",
      "    \n",
      "    >>> np.add.reduceat(np.arange(8),[0,4, 1,5, 2,6, 3,7])[::2]\n",
      "    array([ 6, 10, 14, 18])\n",
      "    \n",
      "    A 2-D example:\n",
      "    \n",
      "    >>> x = np.linspace(0, 15, 16).reshape(4,4)\n",
      "    >>> x\n",
      "    array([[  0.,   1.,   2.,   3.],\n",
      "           [  4.,   5.,   6.,   7.],\n",
      "           [  8.,   9.,  10.,  11.],\n",
      "           [ 12.,  13.,  14.,  15.]])\n",
      "    \n",
      "    ::\n",
      "    \n",
      "     # reduce such that the result has the following five rows:\n",
      "     # [row1 + row2 + row3]\n",
      "     # [row4]\n",
      "     # [row2]\n",
      "     # [row3]\n",
      "     # [row1 + row2 + row3 + row4]\n",
      "    \n",
      "    >>> np.add.reduceat(x, [0, 3, 1, 2, 0])\n",
      "    array([[ 12.,  15.,  18.,  21.],\n",
      "           [ 12.,  13.,  14.,  15.],\n",
      "           [  4.,   5.,   6.,   7.],\n",
      "           [  8.,   9.,  10.,  11.],\n",
      "           [ 24.,  28.,  32.,  36.]])\n",
      "    \n",
      "    ::\n",
      "    \n",
      "     # reduce such that result has the following two columns:\n",
      "     # [col1 * col2 * col3, col4]\n",
      "    \n",
      "    >>> np.multiply.reduceat(x, [0, 3], 1)\n",
      "    array([[    0.,     3.],\n",
      "           [  120.,     7.],\n",
      "           [  720.,    11.],\n",
      "           [ 2184.,    15.]])\n",
      "\n"
     ]
    }
   ],
   "source": [
    "help(np.add.reduceat)"
   ]
  },
  {
   "cell_type": "code",
   "execution_count": 131,
   "metadata": {
    "collapsed": false
   },
   "outputs": [
    {
     "name": "stdout",
     "output_type": "stream",
     "text": [
      "accumulate\n",
      "at\n",
      "identity\n",
      "nargs\n",
      "nin\n",
      "nout\n",
      "ntypes\n",
      "outer\n",
      "reduce\n",
      "reduceat\n",
      "signature\n",
      "types\n"
     ]
    }
   ],
   "source": [
    "import numpy as np\n",
    "\n",
    "a = dir(np.logical_and)\n",
    "for i in a :\n",
    "    if i.startswith(\"_\") :\n",
    "        pass\n",
    "    else :\n",
    "        print(i)"
   ]
  },
  {
   "cell_type": "code",
   "execution_count": 140,
   "metadata": {
    "collapsed": false
   },
   "outputs": [
    {
     "name": "stdout",
     "output_type": "stream",
     "text": [
      "[[ True  True  True False  True]\n",
      " [False False  True False False]\n",
      " [ True  True  True False  True]\n",
      " [False False  True  True False]\n",
      " [False  True False False  True]]\n",
      "[False False False False False]\n",
      "False\n"
     ]
    }
   ],
   "source": [
    "import numpy as np\n",
    "arr = np.random.randn(5,5)\n",
    "arr1 = np.random.randn(5,5)\n",
    "print(arr < arr1)\n",
    "\n",
    "print(np.logical_and.reduce(arr < arr1))\n",
    "\n",
    "print((arr < arr1).all())"
   ]
  },
  {
   "cell_type": "code",
   "execution_count": 145,
   "metadata": {
    "collapsed": false
   },
   "outputs": [
    {
     "name": "stdout",
     "output_type": "stream",
     "text": [
      "(3, 4, 5)\n",
      "(5, 3, 4)\n"
     ]
    }
   ],
   "source": [
    "a = np.ones((3,4,5))\n",
    "\n",
    "print(a.shape)\n",
    "print(np.rollaxis(a, 2).shape)\n",
    "\n"
   ]
  },
  {
   "cell_type": "code",
   "execution_count": 142,
   "metadata": {
    "collapsed": false
   },
   "outputs": [
    {
     "name": "stdout",
     "output_type": "stream",
     "text": [
      "Help on function rollaxis in module numpy.core.numeric:\n",
      "\n",
      "rollaxis(a, axis, start=0)\n",
      "    Roll the specified axis backwards, until it lies in a given position.\n",
      "    \n",
      "    Parameters\n",
      "    ----------\n",
      "    a : ndarray\n",
      "        Input array.\n",
      "    axis : int\n",
      "        The axis to roll backwards.  The positions of the other axes do not\n",
      "        change relative to one another.\n",
      "    start : int, optional\n",
      "        The axis is rolled until it lies before this position.  The default,\n",
      "        0, results in a \"complete\" roll.\n",
      "    \n",
      "    Returns\n",
      "    -------\n",
      "    res : ndarray\n",
      "        For NumPy >= 1.10.0 a view of `a` is always returned. For earlier\n",
      "        NumPy versions a view of `a` is returned only if the order of the\n",
      "        axes is changed, otherwise the input array is returned.\n",
      "    \n",
      "    See Also\n",
      "    --------\n",
      "    moveaxis : Move array axes to new positions.\n",
      "    roll : Roll the elements of an array by a number of positions along a\n",
      "        given axis.\n",
      "    \n",
      "    Examples\n",
      "    --------\n",
      "    >>> a = np.ones((3,4,5,6))\n",
      "    >>> np.rollaxis(a, 3, 1).shape\n",
      "    (3, 6, 4, 5)\n",
      "    >>> np.rollaxis(a, 2).shape\n",
      "    (5, 3, 4, 6)\n",
      "    >>> np.rollaxis(a, 1, 4).shape\n",
      "    (3, 5, 6, 4)\n",
      "\n"
     ]
    }
   ],
   "source": [
    "help(np.rollaxis)"
   ]
  },
  {
   "cell_type": "code",
   "execution_count": 148,
   "metadata": {
    "collapsed": false
   },
   "outputs": [
    {
     "name": "stdout",
     "output_type": "stream",
     "text": [
      "[[3 4]\n",
      " [7 8]]\n",
      "[10 12]\n"
     ]
    }
   ],
   "source": [
    "k = np.array([[3,4],[7,8]])\n",
    "print(k)\n",
    "print(np.sum(k,axis=0))"
   ]
  },
  {
   "cell_type": "code",
   "execution_count": 147,
   "metadata": {
    "collapsed": false
   },
   "outputs": [
    {
     "name": "stdout",
     "output_type": "stream",
     "text": [
      "[[3 4]\n",
      " [7 8]]\n",
      "[ 7 15]\n"
     ]
    }
   ],
   "source": [
    "k = np.array([[3,4],[7,8]])\n",
    "print(k)\n",
    "print(np.sum(k,axis=1))"
   ]
  },
  {
   "cell_type": "code",
   "execution_count": 150,
   "metadata": {
    "collapsed": false
   },
   "outputs": [
    {
     "name": "stdout",
     "output_type": "stream",
     "text": [
      "[[[3 4]\n",
      "  [7 8]]\n",
      "\n",
      " [[5 6]\n",
      "  [1 2]]]\n",
      "[[ 8 10]\n",
      " [ 8 10]]\n",
      "[[ 8 10]\n",
      " [ 8 10]]\n"
     ]
    }
   ],
   "source": [
    "k = np.array([[[3,4],[7,8]],[[5,6],[1,2]] ])\n",
    "print(k)\n",
    "print(np.sum(k,axis=0))\n",
    "print(k[0]+k[1])"
   ]
  },
  {
   "cell_type": "code",
   "execution_count": 153,
   "metadata": {
    "collapsed": false
   },
   "outputs": [
    {
     "name": "stdout",
     "output_type": "stream",
     "text": [
      "[[[3 4]\n",
      "  [7 8]]\n",
      "\n",
      " [[5 6]\n",
      "  [1 2]]]\n",
      "[[10 12]\n",
      " [ 6  8]]\n",
      "[10 12]\n",
      "[6 8]\n"
     ]
    }
   ],
   "source": [
    "k = np.array([[[3,4],[7,8]],[[5,6],[1,2]] ])\n",
    "print(k)\n",
    "\n",
    "print(np.sum(k,axis=1))\n",
    "print(k[0,0]+k[0,1])\n",
    "print(k[1,0]+k[1,1])"
   ]
  },
  {
   "cell_type": "code",
   "execution_count": 158,
   "metadata": {
    "collapsed": false
   },
   "outputs": [
    {
     "name": "stdout",
     "output_type": "stream",
     "text": [
      "[[[3 4]\n",
      "  [7 8]]\n",
      "\n",
      " [[5 6]\n",
      "  [1 2]]]\n",
      "[[ 7 15]\n",
      " [11  3]]\n",
      "7\n",
      "15\n",
      "11\n",
      "3\n"
     ]
    }
   ],
   "source": [
    "k = np.array([[[3,4],[7,8]],[[5,6],[1,2]] ])\n",
    "print(k)\n",
    "\n",
    "print(np.sum(k,axis=2))\n",
    "print(k[0,0,0] + k[0,0,1])\n",
    "print(k[0,1,0] + k[0,1,1])\n",
    "print(k[1,0,0] + k[1,0,1])\n",
    "print(k[1,1,0] + k[1,1,1])"
   ]
  },
  {
   "cell_type": "code",
   "execution_count": 163,
   "metadata": {
    "collapsed": false
   },
   "outputs": [
    {
     "name": "stdout",
     "output_type": "stream",
     "text": [
      "(4, 2, 3)\n"
     ]
    }
   ],
   "source": [
    "import numpy as np\n",
    "a = np.array([[[1,2,3],[2,2,3]],\n",
    "              [[2,4,5],[1,3,6]],\n",
    "              [[3,2,4],[2,3,4]],\n",
    "              [[4,2,4],[1,2,6]]])\n",
    "\n",
    "print(a.shape)"
   ]
  },
  {
   "cell_type": "code",
   "execution_count": 161,
   "metadata": {
    "collapsed": false
   },
   "outputs": [
    {
     "name": "stdout",
     "output_type": "stream",
     "text": [
      "[[1 2 3]\n",
      " [2 2 3]]\n",
      "(2, 3)\n"
     ]
    }
   ],
   "source": [
    "print(a[0])\n",
    "print(a[0].shape)"
   ]
  },
  {
   "cell_type": "code",
   "execution_count": 162,
   "metadata": {
    "collapsed": false
   },
   "outputs": [
    {
     "name": "stdout",
     "output_type": "stream",
     "text": [
      "[2 2 3]\n",
      "(3,)\n"
     ]
    }
   ],
   "source": [
    "print(a[0,1])\n",
    "print(a[0,1].shape)"
   ]
  },
  {
   "cell_type": "code",
   "execution_count": 169,
   "metadata": {
    "collapsed": false
   },
   "outputs": [
    {
     "name": "stdout",
     "output_type": "stream",
     "text": [
      "(2,)\n",
      "[[1 2]]\n",
      "(1, 2)\n",
      "[[1 2]]\n"
     ]
    }
   ],
   "source": [
    "import numpy as np\n",
    "\n",
    "x = np.array([1,2])\n",
    "print(x.shape)\n",
    "y = np.expand_dims(x, axis=0)\n",
    "print(y)\n",
    "print(y.shape)\n",
    "\n",
    "print(x[np.newaxis,:])"
   ]
  },
  {
   "cell_type": "code",
   "execution_count": 170,
   "metadata": {
    "collapsed": false
   },
   "outputs": [
    {
     "name": "stdout",
     "output_type": "stream",
     "text": [
      "(2,)\n",
      "[[1]\n",
      " [2]]\n",
      "(2, 1)\n",
      "[[1]\n",
      " [2]]\n"
     ]
    }
   ],
   "source": [
    "import numpy as np\n",
    "\n",
    "x = np.array([1,2])\n",
    "print(x.shape)\n",
    "y = np.expand_dims(x, axis=1)\n",
    "print(y)\n",
    "print(y.shape)\n",
    "\n",
    "print(x[:,np.newaxis])"
   ]
  },
  {
   "cell_type": "code",
   "execution_count": 172,
   "metadata": {
    "collapsed": false
   },
   "outputs": [
    {
     "name": "stdout",
     "output_type": "stream",
     "text": [
      "[ 1.+1.j  1.-1.j]\n",
      "[[ 0.70710678+0.j          0.70710678-0.j        ]\n",
      " [ 0.00000000-0.70710678j  0.00000000+0.70710678j]]\n"
     ]
    }
   ],
   "source": [
    "from numpy import linalg as LA\n",
    "\n",
    "w, v = LA.eig(np.array([[1, -1], [1, 1]]))\n",
    "\n",
    "print(w)\n",
    "print(v)"
   ]
  },
  {
   "cell_type": "code",
   "execution_count": 174,
   "metadata": {
    "collapsed": false
   },
   "outputs": [
    {
     "data": {
      "text/plain": [
       "array([[ 0.70710678+0.70710678j,  0.70710678-0.70710678j],\n",
       "       [ 0.70710678-0.70710678j,  0.70710678+0.70710678j]])"
      ]
     },
     "execution_count": 174,
     "metadata": {},
     "output_type": "execute_result"
    }
   ],
   "source": [
    "w* v"
   ]
  },
  {
   "cell_type": "code",
   "execution_count": 175,
   "metadata": {
    "collapsed": false
   },
   "outputs": [
    {
     "name": "stdout",
     "output_type": "stream",
     "text": [
      "[[-0.85714286  0.39428571  0.33142857]\n",
      " [-0.42857143 -0.90285714 -0.03428571]\n",
      " [ 0.28571429 -0.17142857  0.94285714]]\n",
      "[[ -14.  -21.   14.]\n",
      " [   0. -175.   70.]\n",
      " [   0.    0.  -35.]]\n"
     ]
    }
   ],
   "source": [
    "import numpy as np\n",
    "from numpy import linalg as LA\n",
    "\n",
    "A = np.array([[12, -51, 4], [6, 167, -68], [-4, 24, -41]]) \n",
    "\n",
    "Q, R = LA.linalg.qr(A)\n",
    "\n",
    "print(Q)\n",
    "print(R)"
   ]
  },
  {
   "cell_type": "code",
   "execution_count": 178,
   "metadata": {
    "collapsed": false
   },
   "outputs": [],
   "source": [
    "%matplotlib inline"
   ]
  },
  {
   "cell_type": "code",
   "execution_count": 179,
   "metadata": {
    "collapsed": false
   },
   "outputs": [
    {
     "data": {
      "image/png": "[encoded data removed]",
      "text/plain": [
       "<matplotlib.figure.Figure at 0x7a3ef28>"
      ]
     },
     "metadata": {},
     "output_type": "display_data"
    }
   ],
   "source": [
    "import numpy as np\n",
    "import matplotlib.pyplot as plt\n",
    "\n",
    "x = np.arange(0, 5, 0.1);\n",
    "y = np.sin(x)\n",
    "plt.plot(x, y)\n",
    "plt.show()"
   ]
  },
  {
   "cell_type": "code",
   "execution_count": 187,
   "metadata": {
    "collapsed": false
   },
   "outputs": [
    {
     "data": {
      "image/png": "[encoded data removed]",
      "text/plain": [
       "<matplotlib.figure.Figure at 0x8ddd278>"
      ]
     },
     "metadata": {},
     "output_type": "display_data"
    }
   ],
   "source": [
    "import matplotlib.pyplot as plt\n",
    "\n",
    "ax = plt.axes()\n",
    "ax.arrow(0, 0, 0.2, 0.5, head_width=0.05, head_length=0.1, fc='k', ec='k')\n",
    "ax.arrow(0.2, 0.5, 0.3, 0.3, head_width=0.05, head_length=0.1, fc='k', ec='k')\n",
    "ax.arrow(0, 0, 0.5, 0.8, head_width=0.05, head_length=0.1, fc='k', ec='k')\n",
    "\n",
    "plt.show()"
   ]
  },
  {
   "cell_type": "code",
   "execution_count": 188,
   "metadata": {
    "collapsed": false
   },
   "outputs": [
    {
     "data": {
      "image/png": "[encoded data removed]",
      "text/plain": [
       "<matplotlib.figure.Figure at 0x8ddda90>"
      ]
     },
     "metadata": {},
     "output_type": "display_data"
    }
   ],
   "source": [
    "import matplotlib.pyplot as plt\n",
    "import numpy as np\n",
    "\n",
    "\n",
    "gaussian_numbers = np.random.randn(1000)\n",
    "plt.hist(gaussian_numbers)\n",
    "plt.title(\"Gaussian Histogram\")\n",
    "plt.xlabel(\"Value\")\n",
    "plt.ylabel(\"Frequency\")\n",
    "plt.show()\n"
   ]
  },
  {
   "cell_type": "code",
   "execution_count": 189,
   "metadata": {
    "collapsed": false
   },
   "outputs": [
    {
     "data": {
      "image/png": "[encoded data removed]",
      "text/plain": [
       "<matplotlib.figure.Figure at 0x8eb6a58>"
      ]
     },
     "metadata": {},
     "output_type": "display_data"
    }
   ],
   "source": [
    "import matplotlib.pyplot as plt\n",
    "\n",
    "\n",
    "y = [3, 10, 7, 5, 3, 4.5, 6, 8.1]\n",
    "N = len(y)\n",
    "x = range(N)\n",
    "width = 1/1.5\n",
    "plt.bar(x, y, width, color=\"blue\")\n",
    "plt.show()"
   ]
  },
  {
   "cell_type": "code",
   "execution_count": 195,
   "metadata": {
    "collapsed": false
   },
   "outputs": [
    {
     "data": {
      "image/png": "[encoded data removed]",
      "text/plain": [
       "<matplotlib.figure.Figure at 0x7d309e8>"
      ]
     },
     "metadata": {},
     "output_type": "display_data"
    }
   ],
   "source": [
    "import matplotlib.pyplot as plt\n",
    "\n",
    "x = np.linspace(0,10,51)\n",
    "y = np.linspace(0,8,41)\n",
    "(X,Y) = np.meshgrid(x,y)\n",
    "a = np.exp(-((X-2.5)**2 + (Y-4)**2)/4) - np.exp(-((X-7.5)**2 + (Y-4)**2)/4)\n",
    "c = plt.contour(x,y,a)\n",
    "l = plt.clabel(c)\n",
    "lx = plt.xlabel(\"x\")\n",
    "ly = plt.ylabel(\"y\")\n",
    "plt.show()"
   ]
  },
  {
   "cell_type": "code",
   "execution_count": 197,
   "metadata": {
    "collapsed": false
   },
   "outputs": [
    {
     "data": {
      "image/png": "[encoded data removed]",
      "text/plain": [
       "<matplotlib.figure.Figure at 0x8e30898>"
      ]
     },
     "metadata": {},
     "output_type": "display_data"
    }
   ],
   "source": [
    "import matplotlib.pyplot as plt\n",
    "\n",
    "x = np.linspace(0,10,51)\n",
    "y = np.linspace(0,8,41)\n",
    "(X,Y) = np.meshgrid(x,y)\n",
    "a = np.exp(-((X-2.5)**2 + (Y-4)**2)/4) - np.exp(-((X-7.5)**2 + (Y-4)**2)/4)\n",
    "\n",
    "c = plt.contourf(x,y,a, np. linspace(-1,1,11))\n",
    "b = plt.colorbar(c, orientation='vertical')\n",
    "lx = plt.xlabel(\"x\")\n",
    "ly = plt.ylabel(\"y\")\n",
    "ax = plt.axis([0,10,0,8])\n",
    "plt.show()\n",
    " "
   ]
  },
  {
   "cell_type": "code",
   "execution_count": 198,
   "metadata": {
    "collapsed": false
   },
   "outputs": [
    {
     "data": {
      "image/png": "[encoded data removed]",
      "text/plain": [
       "<matplotlib.figure.Figure at 0x7c4c828>"
      ]
     },
     "metadata": {},
     "output_type": "display_data"
    }
   ],
   "source": [
    "import matplotlib.pyplot as plt\n",
    "\n",
    "x = np.linspace(0,10,11)\n",
    "y = np.linspace(0,15,16)\n",
    "(X,Y) = np.meshgrid(x,y)\n",
    "u = 5*X\n",
    "v = 5*Y\n",
    "q = plt.quiver(X,Y,u,v,angles='xy',scale=1000,color='r')\n",
    "p = plt.quiverkey(q,1,16.5,50,\"50 m/s\",coordinates='data',color='r')\n",
    "xl = plt.xlabel(\"x (km)\")\n",
    "yl = plt.ylabel(\"y (km)\")\n",
    "plt.show()"
   ]
  },
  {
   "cell_type": "code",
   "execution_count": 199,
   "metadata": {
    "collapsed": false
   },
   "outputs": [
    {
     "data": {
      "image/png": "[encoded data removed]",
      "text/plain": [
       "<matplotlib.figure.Figure at 0x8f19128>"
      ]
     },
     "metadata": {},
     "output_type": "display_data"
    }
   ],
   "source": [
    "import matplotlib.pyplot as plt\n",
    "\n",
    "x = np.arange(0.,10.1,0.2)\n",
    "a = np.sin(x)\n",
    "b = np.cos(x)\n",
    "fig1 = plt.figure(figsize = (8,8))\n",
    "plt.subplots_adjust(hspace=0.4)\n",
    "p1 = plt.subplot(2,1,1)\n",
    "l1 = plt.plot(x,a)\n",
    "lx = plt.xlabel(\"x (km)\")\n",
    "ly = plt.ylabel(\"y (m)\")\n",
    "ttl = plt.title(\"sine\")\n",
    "\n",
    "p2 = plt.subplot(2,1,2)\n",
    "l2 = plt.plot(x,b)\n",
    "lx = plt.xlabel(\"x (km)\")\n",
    "ly = plt.ylabel(\"y (m)\")\n",
    "ttl = plt.title(\"cosine\")\n",
    "sttl = plt.suptitle(\"two plots\")\n",
    "plt.show()"
   ]
  },
  {
   "cell_type": "code",
   "execution_count": 200,
   "metadata": {
    "collapsed": false
   },
   "outputs": [
    {
     "data": {
      "image/png": "[encoded data removed]",
      "text/plain": [
       "<matplotlib.figure.Figure at 0x914f9b0>"
      ]
     },
     "metadata": {},
     "output_type": "display_data"
    }
   ],
   "source": [
    "import numpy as np\n",
    "import matplotlib.pyplot as plt\n",
    "\n",
    "n = 8\n",
    "X, Y = np.mgrid[0:n, 0:n]\n",
    "T = np.arctan2(Y - n / 2., X - n/2.)\n",
    "R = 10 + np.sqrt((Y - n / 2.0) ** 2 + (X - n / 2.0) ** 2)\n",
    "U, V = R * np.cos(T), R * np.sin(T)\n",
    "\n",
    "plt.axes([0.025, 0.025, 0.95, 0.95])\n",
    "plt.quiver(X, Y, U, V, R, alpha=.5)\n",
    "plt.quiver(X, Y, U, V, edgecolor='k', facecolor='None', linewidth=.5)\n",
    "\n",
    "plt.xlim(-1, n)\n",
    "plt.xticks(())\n",
    "plt.ylim(-1, n)\n",
    "plt.yticks(())\n",
    "\n",
    "plt.show()\n"
   ]
  },
  {
   "cell_type": "code",
   "execution_count": 201,
   "metadata": {
    "collapsed": false
   },
   "outputs": [
    {
     "data": {
      "image/png": "[encoded data removed]",
      "text/plain": [
       "<matplotlib.figure.Figure at 0x8f21ef0>"
      ]
     },
     "metadata": {},
     "output_type": "display_data"
    }
   ],
   "source": [
    "import matplotlib.pyplot as plt\n",
    "\n",
    "# Pie chart, where the slices will be ordered and plotted counter-clockwise:\n",
    "labels = 'Frogs', 'Hogs', 'Dogs', 'Logs'\n",
    "sizes = [15, 30, 45, 10]\n",
    "explode = (0, 0.1, 0, 0)  # only \"explode\" the 2nd slice (i.e. 'Hogs')\n",
    "\n",
    "fig1, ax1 = plt.subplots()\n",
    "ax1.pie(sizes, explode=explode, labels=labels, autopct='%1.1f%%',\n",
    "        shadow=True, startangle=90)\n",
    "ax1.axis('equal')  # Equal aspect ratio ensures that pie is drawn as a circle.\n",
    "\n",
    "plt.show()"
   ]
  },
  {
   "cell_type": "code",
   "execution_count": 254,
   "metadata": {
    "collapsed": false
   },
   "outputs": [
    {
     "name": "stdout",
     "output_type": "stream",
     "text": [
      "[ 0.40566755  1.08389948  1.24759904  0.62825984  0.4482944   0.77763018\n",
      "  0.39384984  1.13691102  0.6101345   0.5076681 ]\n"
     ]
    },
    {
     "data": {
      "image/png": "[encoded data removed]",
      "text/plain": [
       "<matplotlib.figure.Figure at 0x9558080>"
      ]
     },
     "metadata": {},
     "output_type": "display_data"
    }
   ],
   "source": [
    "import numpy as np\n",
    "import matplotlib.pyplot as plt\n",
    "\n",
    "\n",
    "x = np.random.rand(10)\n",
    "y = np.random.rand(10)\n",
    "z = np.sqrt(x**2 + y**2)\n",
    "print(z)\n",
    "\n",
    "plt.scatter(x, y, s=80, c=z, marker=\">\")\n",
    "plt.show()"
   ]
  },
  {
   "cell_type": "code",
   "execution_count": 202,
   "metadata": {
    "collapsed": false
   },
   "outputs": [
    {
     "data": {
      "image/png": "[encoded data removed]",
      "text/plain": [
       "<matplotlib.figure.Figure at 0x8db4e10>"
      ]
     },
     "metadata": {},
     "output_type": "display_data"
    }
   ],
   "source": [
    "import numpy as np\n",
    "import matplotlib.pyplot as plt\n",
    "\n",
    "\n",
    "x = np.random.rand(10)\n",
    "y = np.random.rand(10)\n",
    "z = np.sqrt(x**2 + y**2)\n",
    "\n",
    "plt.subplot(321)\n",
    "plt.scatter(x, y, s=80, c=z, marker=\">\")\n",
    "\n",
    "plt.subplot(322)\n",
    "plt.scatter(x, y, s=80, c=z, marker=(5, 0))\n",
    "\n",
    "verts = list(zip([-1., 1., 1., -1.], [-1., -1., 1., -1.]))\n",
    "plt.subplot(323)\n",
    "plt.scatter(x, y, s=80, c=z, marker=(verts, 0))\n",
    "\n",
    "plt.subplot(324)\n",
    "plt.scatter(x, y, s=80, c=z, marker=(5, 1))\n",
    "\n",
    "plt.subplot(325)\n",
    "plt.scatter(x, y, s=80, c=z, marker='+')\n",
    "\n",
    "plt.subplot(326)\n",
    "plt.scatter(x, y, s=80, c=z, marker=(5, 2))\n",
    "\n",
    "plt.show()"
   ]
  },
  {
   "cell_type": "code",
   "execution_count": 204,
   "metadata": {
    "collapsed": false
   },
   "outputs": [
    {
     "data": {
      "image/png": "[encoded data removed]",
      "text/plain": [
       "<matplotlib.figure.Figure at 0x90a8668>"
      ]
     },
     "metadata": {},
     "output_type": "display_data"
    }
   ],
   "source": [
    "import numpy as np\n",
    "import matplotlib.pyplot as plt\n",
    "\n",
    "def plot_cos(x) :\n",
    "    y = np.cos(x)\n",
    "    plt.plot(x,y)\n",
    "    \n",
    "x = np.arange(0, 5, 0.1);\n",
    "y = np.sin(x)\n",
    "plt.plot(x, y)\n",
    "plot_cos(x)\n",
    "plt.show()"
   ]
  },
  {
   "cell_type": "code",
   "execution_count": 208,
   "metadata": {
    "collapsed": false
   },
   "outputs": [
    {
     "data": {
      "image/png": "[encoded data removed]",
      "text/plain": [
       "<matplotlib.figure.Figure at 0x92b24e0>"
      ]
     },
     "metadata": {},
     "output_type": "display_data"
    }
   ],
   "source": [
    "import numpy as np\n",
    "import matplotlib.pyplot as plt\n",
    "x = np.arange(0, 5, 0.1);\n",
    "y = np.sin(x)\n",
    "for i in [0,0.1,0.2,0.3,0.4,0.5,0.6,0.7,0.8] :\n",
    "    x = x+i\n",
    "    plt.plot(x, y)\n",
    "plt.show()"
   ]
  },
  {
   "cell_type": "code",
   "execution_count": 209,
   "metadata": {
    "collapsed": false
   },
   "outputs": [
    {
     "data": {
      "image/png": "[encoded data removed]",
      "text/plain": [
       "<matplotlib.figure.Figure at 0x94e0dd8>"
      ]
     },
     "metadata": {},
     "output_type": "display_data"
    }
   ],
   "source": [
    "import numpy as np\n",
    "import matplotlib.pyplot as plt\n",
    "x = np.arange(0, 5, 0.1);\n",
    "y = np.sin(x)\n",
    "\n",
    "plt.plot(x, y,color='#eeefff')\n",
    "plt.show()"
   ]
  },
  {
   "cell_type": "code",
   "execution_count": 211,
   "metadata": {
    "collapsed": false
   },
   "outputs": [
    {
     "data": {
      "image/png": "[encoded data removed]",
      "text/plain": [
       "<matplotlib.figure.Figure at 0x947e320>"
      ]
     },
     "metadata": {},
     "output_type": "display_data"
    }
   ],
   "source": [
    "import numpy as np\n",
    "import matplotlib.pyplot as plt\n",
    "x = np.arange(0, 5, 0.1);\n",
    "y = np.sin(x)\n",
    "\n",
    "plt.plot(x, y,color=(0.35,0.56,0.65))\n",
    "plt.show()"
   ]
  },
  {
   "cell_type": "code",
   "execution_count": 219,
   "metadata": {
    "collapsed": false
   },
   "outputs": [
    {
     "data": {
      "image/png": "[encoded data removed]",
      "text/plain": [
       "<matplotlib.figure.Figure at 0x9033b00>"
      ]
     },
     "metadata": {},
     "output_type": "display_data"
    }
   ],
   "source": [
    "import numpy as np\n",
    "import matplotlib.pyplot as plt\n",
    "x = np.arange(0, 5, 0.1);\n",
    "y = np.sin(x)\n",
    "\n",
    "plt.plot(x, y,color='0.75')\n",
    "plt.plot(x+0.3, y,color='#00ffff')\n",
    "plt.plot(x+0.6, y,color=(0.35,0.56,0.65))\n",
    "plt.plot(x+0.9, y,color=(0.35,0.56,0.65,0.50))\n",
    "plt.show()"
   ]
  },
  {
   "cell_type": "code",
   "execution_count": 228,
   "metadata": {
    "collapsed": false
   },
   "outputs": [
    {
     "data": {
      "image/png": "[encoded data removed]",
      "text/plain": [
       "<matplotlib.figure.Figure at 0x8de2400>"
      ]
     },
     "metadata": {},
     "output_type": "display_data"
    }
   ],
   "source": [
    "import numpy as np\n",
    "import matplotlib.pyplot as plt\n",
    "\n",
    "x = np.random.randn(25,3)\n",
    "\n",
    "plt.scatter(x[:,0], x[:,1],color=('b','r'))\n",
    "\n",
    "plt.show()"
   ]
  },
  {
   "cell_type": "code",
   "execution_count": 234,
   "metadata": {
    "collapsed": false
   },
   "outputs": [
    {
     "data": {
      "image/png": "[encoded data removed]",
      "text/plain": [
       "<matplotlib.figure.Figure at 0x9570908>"
      ]
     },
     "metadata": {},
     "output_type": "display_data"
    }
   ],
   "source": [
    "import numpy as np\n",
    "import matplotlib.pyplot as plt\n",
    "x = np.arange(0, 5, 0.1);\n",
    "y = np.sin(x)\n",
    "y1 = np.cos(x)\n",
    "\n",
    "plt.plot(x, y,color='0.75', linestyle= 'solid',label=\"sin(x)\")\n",
    "plt.plot(x, y1,color='#00ffff',linestyle= 'dashed',label=\"cos(x)\")\n",
    "\n",
    "\n",
    "plt.title(\" sin curve\")\n",
    "plt.xlabel(\" axis x\")\n",
    "plt.ylabel(\" axis y\")\n",
    "plt.legend()\n",
    "plt.show()"
   ]
  },
  {
   "cell_type": "code",
   "execution_count": 238,
   "metadata": {
    "collapsed": false
   },
   "outputs": [
    {
     "data": {
      "image/png": "[encoded data removed]",
      "text/plain": [
       "<matplotlib.figure.Figure at 0x8fef9e8>"
      ]
     },
     "metadata": {},
     "output_type": "display_data"
    }
   ],
   "source": [
    "import matplotlib.pyplot as plt\n",
    "\n",
    "x = np.arange(0, 5, 0.1);\n",
    "y = np.sin(x)\n",
    "y1 = np.cos(x)\n",
    "\n",
    "fig = plt.figure()\n",
    "ax1 = fig.add_subplot(2, 1, 1)\n",
    "plt.plot(x, y,color='0.75', linestyle= 'solid',label=\"sin(x)\")\n",
    "\n",
    "ax2 = fig.add_subplot(2, 1, 2)\n",
    "plt.plot(x, y1,color='#00ffff',linestyle= 'dashed',label=\"cos(x)\")\n",
    "\n",
    "plt.show()"
   ]
  },
  {
   "cell_type": "code",
   "execution_count": 239,
   "metadata": {
    "collapsed": false
   },
   "outputs": [
    {
     "data": {
      "image/png": "[encoded data removed]",
      "text/plain": [
       "<matplotlib.figure.Figure at 0x95f9908>"
      ]
     },
     "metadata": {},
     "output_type": "display_data"
    }
   ],
   "source": [
    "import matplotlib.pyplot as plt\n",
    "\n",
    "x = np.arange(0, 5, 0.1);\n",
    "y = np.sin(x)\n",
    "y1 = np.cos(x)\n",
    "\n",
    "fig = plt.figure()\n",
    "\n",
    "ax1 = fig.add_subplot(1, 2, 1)\n",
    "plt.plot(x, y,color='0.75', linestyle= 'solid',label=\"sin(x)\")\n",
    "\n",
    "ax2 = fig.add_subplot(1, 2, 2)\n",
    "plt.plot(x, y1,color='#00ffff',linestyle= 'dashed',label=\"cos(x)\")\n",
    "plt.show()"
   ]
  },
  {
   "cell_type": "code",
   "execution_count": 246,
   "metadata": {
    "collapsed": false
   },
   "outputs": [
    {
     "name": "stdout",
     "output_type": "stream",
     "text": [
      "Figure(432x288)\n",
      "[<matplotlib.axes._subplots.AxesSubplot object at 0x0000000009499BE0>\n",
      " <matplotlib.axes._subplots.AxesSubplot object at 0x00000000090482B0>]\n"
     ]
    },
    {
     "data": {
      "image/png": "[encoded data removed]",
      "text/plain": [
       "<matplotlib.figure.Figure at 0x949f400>"
      ]
     },
     "metadata": {},
     "output_type": "display_data"
    }
   ],
   "source": [
    "import matplotlib.pyplot as plt\n",
    "\n",
    "x = np.arange(0, 5, 0.1);\n",
    "y = np.sin(x)\n",
    "y1 = np.cos(x)\n",
    "\n",
    "fig, axes = plt.subplots(1, 2)\n",
    "print(fig)\n",
    "print(axes)\n",
    "axes[0].plot(x, y,color='0.75', linestyle= 'solid',label=\"sin(x)\")\n",
    "\n",
    "\n",
    "axes[1].plot(x, y1,color='#00ffff',linestyle= 'dashed',label=\"cos(x)\")\n",
    "plt.show()"
   ]
  },
  {
   "cell_type": "code",
   "execution_count": 248,
   "metadata": {
    "collapsed": false
   },
   "outputs": [
    {
     "data": {
      "image/png": "[encoded data removed]",
      "text/plain": [
       "<matplotlib.figure.Figure at 0x95d9358>"
      ]
     },
     "metadata": {},
     "output_type": "display_data"
    }
   ],
   "source": [
    "import matplotlib.pyplot as plt\n",
    "\n",
    "x = [1,2,3,4]\n",
    "y = [20, 21, 20.5, 20.8]\n",
    "\n",
    "plt.plot(x, y, linestyle=\"dashed\", marker=\"o\", color=\"green\")\n",
    "\n",
    "#configure  X axes\n",
    "plt.xlim(0.5,4.5)\n",
    "plt.xticks(x)\n",
    "\n",
    "#configure  Y axes\n",
    "plt.ylim(19.8,21.2)\n",
    "plt.yticks(y)\n",
    "\n",
    "plt.show()"
   ]
  },
  {
   "cell_type": "code",
   "execution_count": 249,
   "metadata": {
    "collapsed": false
   },
   "outputs": [
    {
     "data": {
      "image/png": "[encoded data removed]",
      "text/plain": [
       "<matplotlib.figure.Figure at 0x95d9438>"
      ]
     },
     "metadata": {},
     "output_type": "display_data"
    }
   ],
   "source": [
    "import pylab as plt\n",
    "x = [0,1,2]\n",
    "y = [90,40,65]\n",
    "labels = ['high', 'low', 37337]\n",
    "plt.plot(x,y, 'r')\n",
    "plt.xticks(x, labels, rotation='vertical')\n",
    "plt.show()"
   ]
  },
  {
   "cell_type": "code",
   "execution_count": 253,
   "metadata": {
    "collapsed": false
   },
   "outputs": [
    {
     "data": {
      "image/png": "[encoded data removed]",
      "text/plain": [
       "<matplotlib.figure.Figure at 0x8db4ac8>"
      ]
     },
     "metadata": {},
     "output_type": "display_data"
    }
   ],
   "source": [
    "import matplotlib.pyplot as plt\n",
    "import numpy as np\n",
    "\n",
    "x = [0,2,4,6,8,10]\n",
    "y = [0]*len(x)\n",
    "colors = 'gbrcyk'\n",
    "\n",
    "plt.scatter(x,y,marker=\">\",s=400,c=colors)\n",
    "plt.show()"
   ]
  },
  {
   "cell_type": "code",
   "execution_count": 258,
   "metadata": {
    "collapsed": false
   },
   "outputs": [
    {
     "data": {
      "image/png": "[encoded data removed]",
      "text/plain": [
       "<matplotlib.figure.Figure at 0x7ad9c18>"
      ]
     },
     "metadata": {},
     "output_type": "display_data"
    }
   ],
   "source": [
    "import matplotlib.pyplot as plt\n",
    "import numpy as np\n",
    "\n",
    "fig = plt.figure(figsize=(8,8))\n",
    "\n",
    "x = [0,2,4,6,8,10]\n",
    "y = [1]*len(x)\n",
    "\n",
    "marker_edge_color = 'rgbcyk'\n",
    "\n",
    "for i in range(6):\n",
    "    ax = fig.add_subplot(2,3,i+1)\n",
    "    ax.plot(x,y,marker='o', \n",
    "            markersize=20,\n",
    "            markerfacecolor='lightgrey',\n",
    "            markeredgecolor=marker_edge_color[i])\n",
    "    \n",
    "    ax.set_title('Edge Color: %s'%marker_edge_color[i])"
   ]
  },
  {
   "cell_type": "code",
   "execution_count": 266,
   "metadata": {
    "collapsed": false
   },
   "outputs": [
    {
     "name": "stdout",
     "output_type": "stream",
     "text": [
      "[(-2.0, -2.0), (2.0, -2.0), (2.0, 2.0), (-2.0, 2.0)]\n"
     ]
    },
    {
     "data": {
      "image/png": "[encoded data removed]",
      "text/plain": [
       "<matplotlib.figure.Figure at 0xddcc940>"
      ]
     },
     "metadata": {},
     "output_type": "display_data"
    }
   ],
   "source": [
    "\n",
    "\n",
    "v_val=2.0\n",
    "h_val=2.0\n",
    "verts = list(zip([-h_val,h_val,h_val,-h_val],[-v_val,-v_val,v_val,v_val]))\n",
    "print(verts)\n",
    "plt.scatter([0.5,1.0,1.5],[1.0,2.0,1.5], marker=(verts,0))\n",
    "plt.show()"
   ]
  },
  {
   "cell_type": "code",
   "execution_count": 270,
   "metadata": {
    "collapsed": false
   },
   "outputs": [
    {
     "data": {
      "image/png": "[encoded data removed]",
      "text/plain": [
       "<matplotlib.figure.Figure at 0xdfb6160>"
      ]
     },
     "metadata": {},
     "output_type": "display_data"
    }
   ],
   "source": [
    "import matplotlib.pyplot as plt\n",
    "\n",
    "plt.plot([0, 1, 2], [0, 1, 2], marker=\"s\", markersize=20)\n",
    "# vertex\n",
    "verts = list([[-1, -1], [-1, 1], [1, 1], [1, -1]])\n",
    "plt.plot([0, 1, 2 ], [1, 2, 3], marker=(verts,0), markersize=20)\n",
    "plt.show()"
   ]
  },
  {
   "cell_type": "code",
   "execution_count": 277,
   "metadata": {
    "collapsed": false
   },
   "outputs": [
    {
     "name": "stdout",
     "output_type": "stream",
     "text": [
      "7\n",
      "0\n",
      "[[ 0.96383034 -0.22060159  0.68987843  0.93612056]\n",
      " [ 0.95796824  0.25386998 -1.08338424  0.84933198]\n",
      " [ 1.37966051 -0.02433706  1.95396443  1.65479669]]\n",
      "[ 1.37966051  0.25386998  1.95396443  1.65479669]\n",
      "[ 0.95796824 -0.22060159 -1.08338424  0.84933198]\n"
     ]
    }
   ],
   "source": [
    "import numpy as np\n",
    "\n",
    "a = np.array([1,3,7,0])\n",
    "print(np.max(a))\n",
    "print(np.min(a))\n",
    "\n",
    "b = np.random.randn(3,4)\n",
    "print(b)\n",
    "print(np.max(b, axis=0))\n",
    "print(np.min(b, axis=0))"
   ]
  },
  {
   "cell_type": "code",
   "execution_count": 278,
   "metadata": {
    "collapsed": false
   },
   "outputs": [
    {
     "name": "stdout",
     "output_type": "stream",
     "text": [
      "2\n",
      "3\n",
      "[[ 0.87906816 -1.02314973  0.01904685 -0.16178389]\n",
      " [ 0.88825799 -0.05362091 -0.68102729 -0.05912072]\n",
      " [-1.16329473  1.43309034 -0.46282451 -1.26346215]]\n",
      "[1 2 0 1]\n",
      "[2 0 1 2]\n"
     ]
    }
   ],
   "source": [
    "import numpy as np\n",
    "\n",
    "a = np.array([1,3,7,0])\n",
    "print(np.argmax(a))\n",
    "print(np.argmin(a))\n",
    "\n",
    "b = np.random.randn(3,4)\n",
    "print(b)\n",
    "print(np.argmax(b, axis=0))\n",
    "print(np.argmin(b, axis=0))"
   ]
  },
  {
   "cell_type": "code",
   "execution_count": 279,
   "metadata": {
    "collapsed": false
   },
   "outputs": [
    {
     "name": "stdout",
     "output_type": "stream",
     "text": [
      "[0 1 3 7]\n",
      "[3 0 1 2]\n",
      "[[-0.57764647  1.21445662  0.625727   -0.38781115]\n",
      " [-0.59549181  0.11292657 -0.17467122  1.14315302]\n",
      " [-1.31453909  1.52031455  1.09637448  1.43016153]]\n",
      "[[-1.31453909  0.11292657 -0.17467122 -0.38781115]\n",
      " [-0.59549181  1.21445662  0.625727    1.14315302]\n",
      " [-0.57764647  1.52031455  1.09637448  1.43016153]]\n",
      "[[2 1 1 0]\n",
      " [1 0 0 1]\n",
      " [0 2 2 2]]\n"
     ]
    }
   ],
   "source": [
    "import numpy as np\n",
    "\n",
    "a = np.array([1,3,7,0])\n",
    "print(np.sort(a))\n",
    "print(np.argsort(a))\n",
    "\n",
    "b = np.random.randn(3,4)\n",
    "print(b)\n",
    "print(np.sort(b, axis=0))\n",
    "print(np.argsort(b, axis=0))"
   ]
  },
  {
   "cell_type": "code",
   "execution_count": 281,
   "metadata": {
    "collapsed": false
   },
   "outputs": [
    {
     "name": "stdout",
     "output_type": "stream",
     "text": [
      "True\n",
      "True\n",
      "True\n",
      "False\n"
     ]
    }
   ],
   "source": [
    "import numpy as np\n",
    "\n",
    "a = np.array([1,3,7,np.nan])\n",
    "print(np.any(a))\n",
    "print(np.all(a))\n",
    "\n",
    "x = np.arange(0,2,0.5)\n",
    "valeur = 2*x\n",
    "print(np.any(valeur < 0.6))\n",
    "print(np.all(valeur < 0.6))"
   ]
  },
  {
   "cell_type": "code",
   "execution_count": 296,
   "metadata": {
    "collapsed": false
   },
   "outputs": [
    {
     "name": "stdout",
     "output_type": "stream",
     "text": [
      "[[ 0.  0.  0.  0.]\n",
      " [ 0.  0.  0.  0.]\n",
      " [ 0.  0.  0.  0.]]\n",
      "(array([], dtype=int64), array([], dtype=int64))\n",
      "(array([1, 2], dtype=int64), array([1, 2], dtype=int64))\n",
      "100.0\n",
      "[ 100.  200.]\n"
     ]
    }
   ],
   "source": [
    "import numpy as np\n",
    "\n",
    "a = np.zeros((3,4))\n",
    "print(a)\n",
    "print(np.nonzero(a))\n",
    "\n",
    "a[1,1] = 100\n",
    "a[2,2] = 200\n",
    "x = np.nonzero(a)\n",
    "print(x)\n",
    "print(a[x[0][0],x[1][0]])\n",
    "print(a[x])"
   ]
  },
  {
   "cell_type": "code",
   "execution_count": 299,
   "metadata": {
    "collapsed": false
   },
   "outputs": [
    {
     "name": "stdout",
     "output_type": "stream",
     "text": [
      "(array([2, 2, 2], dtype=int64), array([0, 1, 2], dtype=int64))\n",
      "[ 4.  5.  6.  7.  8.]\n",
      "[[ 0.  1.  2.]\n",
      " [ 3.  4. -1.]\n",
      " [-1. -1. -1.]]\n"
     ]
    }
   ],
   "source": [
    "import numpy as np\n",
    "\n",
    "x = np.arange(9.).reshape(3, 3)\n",
    "\n",
    "print(np.where( x > 5 ))\n",
    "\n",
    "print(x[np.where( x > 3.0 )]  )             \n",
    "\n",
    "print(np.where(x < 5, x, -1))            "
   ]
  },
  {
   "cell_type": "code",
   "execution_count": 302,
   "metadata": {
    "collapsed": false
   },
   "outputs": [
    {
     "name": "stdout",
     "output_type": "stream",
     "text": [
      "[ 1.   2.   2.5]\n",
      "[1 2 2]\n",
      "False\n",
      "[ 1.   2.   2.5]\n",
      "[100   2   2]\n"
     ]
    }
   ],
   "source": [
    "import numpy as np\n",
    "\n",
    "x = np.array([1, 2, 2.5])\n",
    "print(x)\n",
    "\n",
    "y = x.astype(int)\n",
    "print(y)\n",
    "print(y is x)\n",
    "y[0] = 100\n",
    "\n",
    "print(x)\n",
    "print(y)"
   ]
  },
  {
   "cell_type": "code",
   "execution_count": 305,
   "metadata": {
    "collapsed": false
   },
   "outputs": [
    {
     "name": "stdout",
     "output_type": "stream",
     "text": [
      " x  <class 'numpy.ndarray'>\n",
      "[[1 2]\n",
      " [3 4]]\n",
      " m  <class 'numpy.matrixlib.defmatrix.matrix'>\n",
      "[[ 1 99]\n",
      " [ 3  4]]\n",
      "[[ 1 99]\n",
      " [ 3  4]]\n"
     ]
    }
   ],
   "source": [
    "import numpy as np\n",
    "\n",
    "x = np.array([[1, 2], [3, 4]])\n",
    "print(\" x \", type(x))\n",
    "m = np.asmatrix(x)\n",
    "print(m)\n",
    "print(\" m \", type(m))\n",
    "m[0,1] = 99\n",
    "print(x)\n",
    "print(m)"
   ]
  },
  {
   "cell_type": "code",
   "execution_count": 308,
   "metadata": {
    "collapsed": false
   },
   "outputs": [
    {
     "name": "stdout",
     "output_type": "stream",
     "text": [
      "128\n",
      "1\n",
      "[  1   2   3   4   5   6   7   8   9  10  11  12  13  14  15  16  17  18\n",
      "  19  20  21  22  23  24  25  26  27  28  29  30  31  32  33  34  35  36\n",
      "  37  38  39  40  41  42  43  44  45  46  47  48  49  50  51  52  53  54\n",
      "  55  56  57  58  59  60  61  62  63  64  65  66  67  68  69  70  71  72\n",
      "  73  74  75  76  77  78  79  80  81  82  83  84  85  86  87  88  89  90\n",
      "  91  92  93  94  95  96  97  98  99 100 101 102 103 104 105 106 107 108\n",
      " 109 110 111 112 113 114 115 116 117 118 119 120 121 122 123 124 125 126\n",
      " 127 128]\n",
      "[1 1 1 1 1 1 1 1 1 1 1 1 1 1 1 1 1 1 1 1 1 1 1 1 1 1 1 1 1 1 1 1 1 1 1 1 1\n",
      " 1 1 1 1 1 1 1 1 1 1 1 1 1 1 1 1 1 1 1 1 1 1 1 1 1 1 1 1 1 1 1 1 1 1 1 1 1\n",
      " 1 1 1 1 1 1 1 1 1 1 1 1 1 1 1 1 1 1 1 1 1 1 1 1 1 1 1 1 1 1 1 1 1 1 1 1 1\n",
      " 1 1 1 1 1 1 1 1 1 1 1 1 1 1 1 1 1]\n"
     ]
    }
   ],
   "source": [
    "import numpy as np\n",
    "\n",
    "print(np.ones(128, dtype=np.int16).sum(dtype=np.int16))\n",
    "print(np.ones(128, dtype=np.int16).prod(dtype=np.int16))\n",
    "\n",
    "print(np.ones(128, dtype=np.int16).cumsum(dtype=np.int16))\n",
    "print(np.ones(128, dtype=np.int16).cumprod(dtype=np.int16))"
   ]
  },
  {
   "cell_type": "code",
   "execution_count": 311,
   "metadata": {
    "collapsed": false
   },
   "outputs": [
    {
     "name": "stdout",
     "output_type": "stream",
     "text": [
      "[1 1 1 1 1 1 1 1 1 1 1 1 1 1 1 1 1 1 1 1 1 1 1 1 1 1 1 1 1 1 1 1 1 1 1 1 1\n",
      " 1 1 1 1 1 1 1 1 1 1 1 1 1 1 1 1 1 1 1 1 1 1 1 1 1 1 1 1 1 1 1 1 1 1 1 1 1\n",
      " 1 1 1 1 1 1 1 1 1 1 1 1 1 1 1 1 1 1 1 1 1 1 1 1 1 1 1 1 1 1 1 1 1 1 1 1 1\n",
      " 1 1 1 1 1 1 1 1 1 1 1 1 1 1 1 1 1]\n",
      "[100 100 100 100 100 100 100 100 100 100 100 100 100 100 100 100 100 100\n",
      " 100 100 100 100 100 100 100 100 100 100 100 100 100 100 100 100 100 100\n",
      " 100 100 100 100 100 100 100 100 100 100 100 100 100 100 100 100 100 100\n",
      " 100 100 100 100 100 100 100 100 100 100 100 100 100 100 100 100 100 100\n",
      " 100 100 100 100 100 100 100 100 100 100 100 100 100 100 100 100 100 100\n",
      " 100 100 100 100 100 100 100 100 100 100 100 100 100 100 100 100 100 100\n",
      " 100 100 100 100 100 100 100 100 100 100 100 100 100 100 100 100 100 100\n",
      " 100 100]\n"
     ]
    }
   ],
   "source": [
    "import numpy as np\n",
    "\n",
    "a = np.ones(128, dtype=np.int16)\n",
    "print(a)\n",
    "a.fill(100)\n",
    "print(a)"
   ]
  },
  {
   "cell_type": "code",
   "execution_count": 316,
   "metadata": {
    "collapsed": false
   },
   "outputs": [
    {
     "name": "stdout",
     "output_type": "stream",
     "text": [
      "[array([ True,  True,  True, False, False, False, False, False, False, False], dtype=bool)]\n",
      "[array([0, 1, 2, 3, 4, 5, 6, 7, 8, 9])]\n",
      "[0 1 2 0 0 0 0 0 0 0]\n"
     ]
    }
   ],
   "source": [
    "\n",
    "import numpy as np\n",
    "\n",
    "x = np.arange(10)\n",
    "condlist = [x<3]\n",
    "print(condlist)\n",
    "\n",
    "choicelist = [x]\n",
    "print(choicelist)\n",
    "\n",
    "print(np.select(condlist, choicelist))\n"
   ]
  },
  {
   "cell_type": "code",
   "execution_count": 323,
   "metadata": {
    "collapsed": false
   },
   "outputs": [
    {
     "name": "stdout",
     "output_type": "stream",
     "text": [
      "3.16227766017\n",
      "3.16227766017\n",
      "12.0830459736\n"
     ]
    }
   ],
   "source": [
    "import numpy as np\n",
    "from numpy import linalg as LA\n",
    "\n",
    "a = np.array([1,3],dtype=np.int64)\n",
    "b = np.array([4,8],dtype=np.int64)\n",
    "\n",
    "print(LA.norm(a))\n",
    "print(np.sqrt(a[0]**2 + a[1]**2))\n",
    "print(LA.norm(a+b))"
   ]
  },
  {
   "cell_type": "code",
   "execution_count": 325,
   "metadata": {
    "collapsed": false
   },
   "outputs": [
    {
     "name": "stdout",
     "output_type": "stream",
     "text": [
      "28\n",
      "28\n"
     ]
    }
   ],
   "source": [
    "import numpy as np\n",
    "\n",
    "a = np.array([1,3],dtype=np.int64)\n",
    "b = np.array([4,8],dtype=np.int64)\n",
    "\n",
    "print(np.inner(a,b))\n",
    "print(np.dot(a,b))"
   ]
  },
  {
   "cell_type": "code",
   "execution_count": 333,
   "metadata": {
    "collapsed": false
   },
   "outputs": [
    {
     "name": "stdout",
     "output_type": "stream",
     "text": [
      "-4\n",
      "-4\n",
      "[-17  11  -4]\n",
      "[-17  11  -4]\n"
     ]
    }
   ],
   "source": [
    "import numpy as np\n",
    "\n",
    "a = np.array([1,3],dtype=np.int64)\n",
    "b = np.array([4,8],dtype=np.int64)\n",
    "\n",
    "print(np.cross(a,b))\n",
    "print(a[0]*b[1] - a[1]*b[0])\n",
    "\n",
    "c = np.array([1,3,4],dtype=np.int64)\n",
    "d = np.array([4,8,5],dtype=np.int64)\n",
    "print(np.cross(c,d))\n",
    "print(np.array([ c[1]*d[2]-c[2]*d[1], \n",
    "                c[2]*d[0]-c[0]*d[2], \n",
    "                c[0]*d[1]-c[1]*d[0] ]))"
   ]
  },
  {
   "cell_type": "code",
   "execution_count": 334,
   "metadata": {
    "collapsed": false
   },
   "outputs": [
    {
     "name": "stdout",
     "output_type": "stream",
     "text": [
      "[[1 3]\n",
      " [4 5]]\n",
      "2\n",
      "(2, 2)\n"
     ]
    }
   ],
   "source": [
    "import numpy as np\n",
    "\n",
    "a = np.array([[1,3],[4,5]],dtype=np.int64)\n",
    "\n",
    "print(a)\n",
    "print(a.ndim)\n",
    "print(a.shape)"
   ]
  },
  {
   "cell_type": "code",
   "execution_count": 335,
   "metadata": {
    "collapsed": false
   },
   "outputs": [
    {
     "name": "stdout",
     "output_type": "stream",
     "text": [
      "[[12 16]\n",
      " [18 20]]\n",
      "[[10 10]\n",
      " [10 10]]\n",
      "[[11 39]\n",
      " [56 75]]\n",
      "[[ 0.09090909  0.23076923]\n",
      " [ 0.28571429  0.33333333]]\n"
     ]
    }
   ],
   "source": [
    "import numpy as np\n",
    "\n",
    "a = np.array([[1,3],[4,5]],dtype=np.int64)\n",
    "b = np.array([[11,13],[14,15]],dtype=np.int64)\n",
    "\n",
    "print(np.add(a,b))\n",
    "print(np.subtract(b,a))\n",
    "print(np.multiply(a,b))\n",
    "print(np.divide(a,b))"
   ]
  },
  {
   "cell_type": "code",
   "execution_count": 336,
   "metadata": {
    "collapsed": false
   },
   "outputs": [
    {
     "name": "stdout",
     "output_type": "stream",
     "text": [
      "[[ 53  58]\n",
      " [114 127]]\n"
     ]
    }
   ],
   "source": [
    "import numpy as np\n",
    "\n",
    "a = np.array([[1,3],[4,5]],dtype=np.int64)\n",
    "b = np.array([[11,13],[14,15]],dtype=np.int64)\n",
    "\n",
    "print(np.dot(a,b))"
   ]
  },
  {
   "cell_type": "code",
   "execution_count": 350,
   "metadata": {
    "collapsed": false
   },
   "outputs": [
    {
     "name": "stdout",
     "output_type": "stream",
     "text": [
      "[[-40  40 -20]\n",
      " [-40  40 -10]]\n",
      "[-40  40 -20]\n",
      "[-40  40 -10]\n"
     ]
    }
   ],
   "source": [
    "import numpy as np\n",
    "\n",
    "a = np.array([[1,3,4],[4,5,4]],dtype=np.int64)\n",
    "b = np.array([[11,13,4],[14,15,4]],dtype=np.int64)\n",
    "\n",
    "print(np.cross(a,b))\n",
    "\n",
    "print(np.cross(a[0],b[0]))\n",
    "print(np.cross(a[1],b[1]))"
   ]
  },
  {
   "cell_type": "code",
   "execution_count": 346,
   "metadata": {
    "collapsed": false
   },
   "outputs": [
    {
     "name": "stdout",
     "output_type": "stream",
     "text": [
      "[[ 50  59]\n",
      " [109 131]]\n",
      "50\n",
      "59\n",
      "109\n",
      "131\n",
      "(2, 2)\n"
     ]
    }
   ],
   "source": [
    "import numpy as np\n",
    "\n",
    "a = np.array([[1,3],[4,5]],dtype=np.int64)\n",
    "b = np.array([[11,13],[14,15]],dtype=np.int64)\n",
    "\n",
    "print(np.inner(a,b))\n",
    "print(np.dot(a[0],b[0]))\n",
    "print(np.dot(a[0],b[1]))\n",
    "print(np.dot(a[1],b[0]))\n",
    "print(np.dot(a[1],b[1]))\n",
    "print(a.shape[:-1] + b.shape[:-1])\n"
   ]
  },
  {
   "cell_type": "code",
   "execution_count": 353,
   "metadata": {
    "collapsed": false
   },
   "outputs": [
    {
     "name": "stdout",
     "output_type": "stream",
     "text": [
      "Help on function tensordot in module numpy.core.numeric:\n",
      "\n",
      "tensordot(a, b, axes=2)\n",
      "    Compute tensor dot product along specified axes for arrays >= 1-D.\n",
      "    \n",
      "    Given two tensors (arrays of dimension greater than or equal to one),\n",
      "    `a` and `b`, and an array_like object containing two array_like\n",
      "    objects, ``(a_axes, b_axes)``, sum the products of `a`'s and `b`'s\n",
      "    elements (components) over the axes specified by ``a_axes`` and\n",
      "    ``b_axes``. The third argument can be a single non-negative\n",
      "    integer_like scalar, ``N``; if it is such, then the last ``N``\n",
      "    dimensions of `a` and the first ``N`` dimensions of `b` are summed\n",
      "    over.\n",
      "    \n",
      "    Parameters\n",
      "    ----------\n",
      "    a, b : array_like, len(shape) >= 1\n",
      "        Tensors to \"dot\".\n",
      "    \n",
      "    axes : int or (2,) array_like\n",
      "        * integer_like\n",
      "          If an int N, sum over the last N axes of `a` and the first N axes\n",
      "          of `b` in order. The sizes of the corresponding axes must match.\n",
      "        * (2,) array_like\n",
      "          Or, a list of axes to be summed over, first sequence applying to `a`,\n",
      "          second to `b`. Both elements array_like must be of the same length.\n",
      "    \n",
      "    See Also\n",
      "    --------\n",
      "    dot, einsum\n",
      "    \n",
      "    Notes\n",
      "    -----\n",
      "    Three common use cases are:\n",
      "        * ``axes = 0`` : tensor product :math:`a\\otimes b`\n",
      "        * ``axes = 1`` : tensor dot product :math:`a\\cdot b`\n",
      "        * ``axes = 2`` : (default) tensor double contraction :math:`a:b`\n",
      "    \n",
      "    When `axes` is integer_like, the sequence for evaluation will be: first\n",
      "    the -Nth axis in `a` and 0th axis in `b`, and the -1th axis in `a` and\n",
      "    Nth axis in `b` last.\n",
      "    \n",
      "    When there is more than one axis to sum over - and they are not the last\n",
      "    (first) axes of `a` (`b`) - the argument `axes` should consist of\n",
      "    two sequences of the same length, with the first axis to sum over given\n",
      "    first in both sequences, the second axis second, and so forth.\n",
      "    \n",
      "    Examples\n",
      "    --------\n",
      "    A \"traditional\" example:\n",
      "    \n",
      "    >>> a = np.arange(60.).reshape(3,4,5)\n",
      "    >>> b = np.arange(24.).reshape(4,3,2)\n",
      "    >>> c = np.tensordot(a,b, axes=([1,0],[0,1]))\n",
      "    >>> c.shape\n",
      "    (5, 2)\n",
      "    >>> c\n",
      "    array([[ 4400.,  4730.],\n",
      "           [ 4532.,  4874.],\n",
      "           [ 4664.,  5018.],\n",
      "           [ 4796.,  5162.],\n",
      "           [ 4928.,  5306.]])\n",
      "    >>> # A slower but equivalent way of computing the same...\n",
      "    >>> d = np.zeros((5,2))\n",
      "    >>> for i in range(5):\n",
      "    ...   for j in range(2):\n",
      "    ...     for k in range(3):\n",
      "    ...       for n in range(4):\n",
      "    ...         d[i,j] += a[k,n,i] * b[n,k,j]\n",
      "    >>> c == d\n",
      "    array([[ True,  True],\n",
      "           [ True,  True],\n",
      "           [ True,  True],\n",
      "           [ True,  True],\n",
      "           [ True,  True]], dtype=bool)\n",
      "    \n",
      "    An extended example taking advantage of the overloading of + and \\*:\n",
      "    \n",
      "    >>> a = np.array(range(1, 9))\n",
      "    >>> a.shape = (2, 2, 2)\n",
      "    >>> A = np.array(('a', 'b', 'c', 'd'), dtype=object)\n",
      "    >>> A.shape = (2, 2)\n",
      "    >>> a; A\n",
      "    array([[[1, 2],\n",
      "            [3, 4]],\n",
      "           [[5, 6],\n",
      "            [7, 8]]])\n",
      "    array([[a, b],\n",
      "           [c, d]], dtype=object)\n",
      "    \n",
      "    >>> np.tensordot(a, A) # third argument default is 2 for double-contraction\n",
      "    array([abbcccdddd, aaaaabbbbbbcccccccdddddddd], dtype=object)\n",
      "    \n",
      "    >>> np.tensordot(a, A, 1)\n",
      "    array([[[acc, bdd],\n",
      "            [aaacccc, bbbdddd]],\n",
      "           [[aaaaacccccc, bbbbbdddddd],\n",
      "            [aaaaaaacccccccc, bbbbbbbdddddddd]]], dtype=object)\n",
      "    \n",
      "    >>> np.tensordot(a, A, 0) # tensor product (result too long to incl.)\n",
      "    array([[[[[a, b],\n",
      "              [c, d]],\n",
      "              ...\n",
      "    \n",
      "    >>> np.tensordot(a, A, (0, 1))\n",
      "    array([[[abbbbb, cddddd],\n",
      "            [aabbbbbb, ccdddddd]],\n",
      "           [[aaabbbbbbb, cccddddddd],\n",
      "            [aaaabbbbbbbb, ccccdddddddd]]], dtype=object)\n",
      "    \n",
      "    >>> np.tensordot(a, A, (2, 1))\n",
      "    array([[[abb, cdd],\n",
      "            [aaabbbb, cccdddd]],\n",
      "           [[aaaaabbbbbb, cccccdddddd],\n",
      "            [aaaaaaabbbbbbbb, cccccccdddddddd]]], dtype=object)\n",
      "    \n",
      "    >>> np.tensordot(a, A, ((0, 1), (0, 1)))\n",
      "    array([abbbcccccddddddd, aabbbbccccccdddddddd], dtype=object)\n",
      "    \n",
      "    >>> np.tensordot(a, A, ((2, 1), (1, 0)))\n",
      "    array([acccbbdddd, aaaaacccccccbbbbbbdddddddd], dtype=object)\n",
      "\n"
     ]
    }
   ],
   "source": [
    "help(np.tensordot)"
   ]
  },
  {
   "cell_type": "code",
   "execution_count": 355,
   "metadata": {
    "collapsed": false
   },
   "outputs": [
    {
     "name": "stdout",
     "output_type": "stream",
     "text": [
      "[[ 53  58]\n",
      " [114 127]]\n",
      "[[ 53  58]\n",
      " [114 127]]\n"
     ]
    }
   ],
   "source": [
    "import numpy as np\n",
    "\n",
    "a = np.array([[1,3],[4,5]],dtype=np.int64)\n",
    "b = np.array([[11,13],[14,15]],dtype=np.int64)\n",
    "\n",
    "print(np.dot(a,b))\n",
    "print(np.tensordot(a,b,axes=1))"
   ]
  },
  {
   "cell_type": "code",
   "execution_count": 359,
   "metadata": {
    "collapsed": false
   },
   "outputs": [
    {
     "name": "stdout",
     "output_type": "stream",
     "text": [
      "(2, 2, 2, 2)\n",
      "[[[[11 13]\n",
      "   [14 15]]\n",
      "\n",
      "  [[33 39]\n",
      "   [42 45]]]\n",
      "\n",
      "\n",
      " [[[44 52]\n",
      "   [56 60]]\n",
      "\n",
      "  [[55 65]\n",
      "   [70 75]]]]\n"
     ]
    }
   ],
   "source": [
    "import numpy as np\n",
    "\n",
    "a = np.array([[1,3],[4,5]],dtype=np.int64)\n",
    "b = np.array([[11,13],[14,15]],dtype=np.int64)\n",
    "\n",
    "c = np.tensordot(a,b,axes=0)\n",
    "print(c.shape)\n",
    "print(c)"
   ]
  },
  {
   "cell_type": "code",
   "execution_count": 363,
   "metadata": {
    "collapsed": false
   },
   "outputs": [
    {
     "name": "stdout",
     "output_type": "stream",
     "text": [
      "[[150 160]\n",
      " [374 400]]\n",
      "[[150 160]\n",
      " [374 400]]\n"
     ]
    }
   ],
   "source": [
    "import numpy as np\n",
    "\n",
    "a = np.arange(1,9).reshape(2,2,2) \n",
    "b = np.arange(11,19).reshape(2,2,2)\n",
    "\n",
    "print(np.dot(a.reshape(2,4),b.reshape(4,2)))\n",
    "print(np.tensordot(a,b,axes=2))"
   ]
  },
  {
   "cell_type": "code",
   "execution_count": 366,
   "metadata": {
    "collapsed": false
   },
   "outputs": [
    {
     "name": "stdout",
     "output_type": "stream",
     "text": [
      "{'A',\n",
      " 'A1',\n",
      " 'H',\n",
      " 'I',\n",
      " '__dict__',\n",
      " '__module__',\n",
      " '_align',\n",
      " '_collapse',\n",
      " 'getA',\n",
      " 'getA1',\n",
      " 'getH',\n",
      " 'getI',\n",
      " 'getT'}\n"
     ]
    }
   ],
   "source": [
    "import pprint\n",
    "import numpy as np\n",
    "\n",
    "m = set(dir(np.matrix))\n",
    "n = set(dir(np.ndarray))\n",
    "pprint.pprint(m -n)"
   ]
  },
  {
   "cell_type": "code",
   "execution_count": 368,
   "metadata": {
    "collapsed": false
   },
   "outputs": [
    {
     "name": "stdout",
     "output_type": "stream",
     "text": [
      "[[ 4  5  6]\n",
      " [ 8 10 12]\n",
      " [12 15 18]]\n",
      "[[ 4  5  6]\n",
      " [ 8 10 12]\n",
      " [12 15 18]]\n"
     ]
    }
   ],
   "source": [
    "import numpy as np\n",
    "\n",
    "print(np.multiply.outer([1, 2, 3], [4, 5, 6]))\n",
    "\n",
    "a = np.array([[1],[2],[3]])\n",
    "b = np.array([[4,5,6]])\n",
    "\n",
    "print(np.dot(a,b))"
   ]
  },
  {
   "cell_type": "code",
   "execution_count": 373,
   "metadata": {
    "collapsed": false
   },
   "outputs": [
    {
     "name": "stdout",
     "output_type": "stream",
     "text": [
      "[[ 1  0  0]\n",
      " [ 4  5  0]\n",
      " [ 7  8  9]\n",
      " [10 11 12]]\n",
      "[[ 0  0  0]\n",
      " [ 4  0  0]\n",
      " [ 7  8  0]\n",
      " [10 11 12]]\n"
     ]
    }
   ],
   "source": [
    "import numpy as np\n",
    "\n",
    "print(np.tril([[1,2,3],[4,5,6],[7,8,9],[10,11,12]]))\n",
    "\n",
    "print(np.tril([[1,2,3],[4,5,6],[7,8,9],[10,11,12]],-1))\n"
   ]
  },
  {
   "cell_type": "code",
   "execution_count": 374,
   "metadata": {
    "collapsed": false
   },
   "outputs": [
    {
     "name": "stdout",
     "output_type": "stream",
     "text": [
      "[[1 2 3]\n",
      " [0 5 6]\n",
      " [0 0 9]\n",
      " [0 0 0]]\n",
      "[[0 2 3]\n",
      " [0 0 6]\n",
      " [0 0 0]\n",
      " [0 0 0]]\n"
     ]
    }
   ],
   "source": [
    "import numpy as np\n",
    "\n",
    "print(np.triu([[1,2,3],[4,5,6],[7,8,9],[10,11,12]]))\n",
    "\n",
    "print(np.triu([[1,2,3],[4,5,6],[7,8,9],[10,11,12]],1))"
   ]
  },
  {
   "cell_type": "code",
   "execution_count": 380,
   "metadata": {
    "collapsed": false
   },
   "outputs": [
    {
     "name": "stdout",
     "output_type": "stream",
     "text": [
      "[(1,  2., b'Hello') (4,  5., b'World')]\n",
      "[1 4]\n",
      "(1,  2., b'Hello')\n"
     ]
    }
   ],
   "source": [
    "import numpy as np\n",
    "\n",
    "x = np.array([(1,2.,'Hello'), (4,5.,\"World\")],\n",
    "             dtype=[('foo', 'i4'),('bar', 'f4'), ('baz', 'S10')])\n",
    "\n",
    "print(x)\n",
    "print(x[\"foo\"])\n",
    "print(x[0])"
   ]
  },
  {
   "cell_type": "code",
   "execution_count": 384,
   "metadata": {
    "collapsed": false
   },
   "outputs": [
    {
     "name": "stdout",
     "output_type": "stream",
     "text": [
      "[([0, 0, 0],  0., [[ 0.,  0.,  0.], [ 0.,  0.,  0.]])\n",
      " ([0, 0, 0],  0., [[ 0.,  0.,  0.], [ 0.,  0.,  0.]])\n",
      " ([0, 0, 0],  0., [[ 0.,  0.,  0.], [ 0.,  0.,  0.]])]\n"
     ]
    }
   ],
   "source": [
    "import numpy as np\n",
    "\n",
    "x = np.zeros(3, dtype='3int8, float32, (2,3)float64')\n",
    "print(x)"
   ]
  },
  {
   "cell_type": "code",
   "execution_count": 382,
   "metadata": {
    "collapsed": false
   },
   "outputs": [
    {
     "name": "stdout",
     "output_type": "stream",
     "text": [
      "[([0, 0, 0],  0., [[ 0.,  0.,  0.], [ 0.,  0.,  0.]])\n",
      " ([0, 0, 0],  0., [[ 0.,  0.,  0.], [ 0.,  0.,  0.]])\n",
      " ([0, 0, 0],  0., [[ 0.,  0.,  0.], [ 0.,  0.,  0.]])]\n"
     ]
    }
   ],
   "source": [
    "print(x)"
   ]
  },
  {
   "cell_type": "code",
   "execution_count": 385,
   "metadata": {
    "collapsed": false
   },
   "outputs": [
    {
     "name": "stdout",
     "output_type": "stream",
     "text": [
      "[( 0.,  0., [[ 0.,  0.], [ 0.,  0.]]) ( 0.,  0., [[ 0.,  0.], [ 0.,  0.]])\n",
      " ( 0.,  0., [[ 0.,  0.], [ 0.,  0.]])]\n"
     ]
    }
   ],
   "source": [
    "import numpy as np\n",
    "\n",
    "x = np.zeros(3, dtype=[('x','f4'),('y',np.float32),('value','f4',(2,2))])\n",
    "\n",
    "print(x)"
   ]
  },
  {
   "cell_type": "code",
   "execution_count": 409,
   "metadata": {
    "collapsed": false
   },
   "outputs": [
    {
     "name": "stdout",
     "output_type": "stream",
     "text": [
      "[(0,  0.) (0,  0.) (0,  0.)]\n",
      "<class 'numpy.ndarray'>\n",
      "[('col1', '<i4'), ('col2', '<f4')]\n",
      "('col1', 'col2')\n",
      "{'col1': (dtype('int32'), 0), 'col2': (dtype('float32'), 4)}\n"
     ]
    }
   ],
   "source": [
    "import numpy as np\n",
    "\n",
    "x = np.zeros(3, dtype={'names':['col1', 'col2'], 'formats':['i4','f4']})\n",
    "\n",
    "print(x)\n",
    "print(type(x))\n",
    "print(x.dtype)\n",
    "print(x.dtype.names)\n",
    "print(x.dtype.fields)"
   ]
  },
  {
   "cell_type": "code",
   "execution_count": 391,
   "metadata": {
    "collapsed": false
   },
   "outputs": [
    {
     "data": {
      "text/plain": [
       "['__class__',\n",
       " '__delattr__',\n",
       " '__dir__',\n",
       " '__doc__',\n",
       " '__eq__',\n",
       " '__format__',\n",
       " '__ge__',\n",
       " '__getattribute__',\n",
       " '__getitem__',\n",
       " '__gt__',\n",
       " '__hash__',\n",
       " '__init__',\n",
       " '__le__',\n",
       " '__len__',\n",
       " '__lt__',\n",
       " '__mul__',\n",
       " '__ne__',\n",
       " '__new__',\n",
       " '__reduce__',\n",
       " '__reduce_ex__',\n",
       " '__repr__',\n",
       " '__rmul__',\n",
       " '__setattr__',\n",
       " '__setstate__',\n",
       " '__sizeof__',\n",
       " '__str__',\n",
       " '__subclasshook__',\n",
       " 'alignment',\n",
       " 'base',\n",
       " 'byteorder',\n",
       " 'char',\n",
       " 'descr',\n",
       " 'fields',\n",
       " 'flags',\n",
       " 'hasobject',\n",
       " 'isalignedstruct',\n",
       " 'isbuiltin',\n",
       " 'isnative',\n",
       " 'itemsize',\n",
       " 'kind',\n",
       " 'metadata',\n",
       " 'name',\n",
       " 'names',\n",
       " 'newbyteorder',\n",
       " 'num',\n",
       " 'shape',\n",
       " 'str',\n",
       " 'subdtype',\n",
       " 'type']"
      ]
     },
     "execution_count": 391,
     "metadata": {},
     "output_type": "execute_result"
    }
   ],
   "source": [
    "dir(x.dtype)"
   ]
  },
  {
   "cell_type": "code",
   "execution_count": 400,
   "metadata": {
    "collapsed": false
   },
   "outputs": [
    {
     "name": "stdout",
     "output_type": "stream",
     "text": [
      "(3, 2, 2)\n",
      "[[[ 1.  2.]\n",
      "  [ 1.  2.]]\n",
      "\n",
      " [[ 4.  5.]\n",
      "  [ 4.  5.]]\n",
      "\n",
      " [[ 2.  6.]\n",
      "  [ 2.  6.]]]\n"
     ]
    }
   ],
   "source": [
    "import numpy as np\n",
    "\n",
    "x = np.array([(1.5,2.5,(1.0,2.0)),(3.,4.,(4.,5.)),(1.,3.,(2.,6.))],\n",
    "        dtype=[('x','f4'),('y',np.float32),('value','f4',(2,2))])\n",
    "\n",
    "print(x[\"value\"].shape)\n",
    "print(x[\"value\"])"
   ]
  },
  {
   "cell_type": "code",
   "execution_count": 401,
   "metadata": {
    "collapsed": false
   },
   "outputs": [
    {
     "name": "stdout",
     "output_type": "stream",
     "text": [
      "[( 1.5,  2.5) ( 3. ,  4. ) ( 1. ,  3. )]\n",
      "[( 1.5,  2.5, [[ 1.,  2.], [ 1.,  2.]])\n",
      " ( 3. ,  4. , [[ 4.,  5.], [ 4.,  5.]])\n",
      " ( 1. ,  3. , [[ 2.,  6.], [ 2.,  6.]])]\n"
     ]
    }
   ],
   "source": [
    "import numpy as np\n",
    "\n",
    "x = np.array([(1.5,2.5,(1.0,2.0)),(3.,4.,(4.,5.)),(1.,3.,(2.,6.))],\n",
    "        dtype=[('x','f4'),('y',np.float32),('value','f4',(2,2))])\n",
    "\n",
    "print(x[['x','y']])\n",
    "print(x[['x','y','value']])\n"
   ]
  },
  {
   "cell_type": "code",
   "execution_count": 403,
   "metadata": {
    "collapsed": false
   },
   "outputs": [
    {
     "name": "stdout",
     "output_type": "stream",
     "text": [
      "[( 0.,  0.) ( 1.,  0.) ( 2.,  0.) ( 3.,  0.) ( 4.,  0.)]\n"
     ]
    }
   ],
   "source": [
    "import numpy as np\n",
    "\n",
    "arr = np.zeros((5,), dtype=[('var1','f8'),('var2','f8')])\n",
    "arr['var1'] = np.arange(5)\n",
    "\n",
    "print(arr)"
   ]
  },
  {
   "cell_type": "code",
   "execution_count": 408,
   "metadata": {
    "collapsed": false
   },
   "outputs": [
    {
     "name": "stdout",
     "output_type": "stream",
     "text": [
      "<class 'numpy.recarray'>\n",
      "[ 2.  3.]\n"
     ]
    }
   ],
   "source": [
    "import numpy as np\n",
    "\n",
    "recordarr = np.rec.array([(1,2.,'Hello'),(2,3.,\"World\")], \n",
    "                         dtype=[('foo', 'i4'),('bar', 'f4'), ('baz', 'S10')])\n",
    "\n",
    "print(type(recordarr))\n",
    "\n",
    "print(recordarr.bar)"
   ]
  },
  {
   "cell_type": "code",
   "execution_count": 416,
   "metadata": {
    "collapsed": false
   },
   "outputs": [
    {
     "name": "stdout",
     "output_type": "stream",
     "text": [
      "<class 'numpy.ndarray'>\n",
      "<class 'numpy.recarray'>\n",
      "[99 99]\n",
      "[1 2]\n"
     ]
    }
   ],
   "source": [
    "import numpy as np\n",
    "\n",
    "arr = np.array([(1,2.,'Hello'),(2,3.,\"World\")], \n",
    "             dtype=[('foo', 'i4'), ('bar', 'f4'), ('baz', 'S10')])\n",
    "    \n",
    "print(type(arr))\n",
    "\n",
    "recordarr = np.rec.array(arr)\n",
    "recordarr.foo = (99,99)\n",
    "print(type(recordarr))\n",
    "print(recordarr.foo)\n",
    "print(arr['foo'])"
   ]
  },
  {
   "cell_type": "code",
   "execution_count": 421,
   "metadata": {
    "collapsed": false
   },
   "outputs": [
    {
     "name": "stdout",
     "output_type": "stream",
     "text": [
      "<class 'numpy.matrixlib.defmatrix.matrix'>\n",
      "[[1 2]\n",
      " [3 9]]\n",
      "[[ 3.         -0.66666667]\n",
      " [-1.          0.33333333]]\n",
      "[[ 3.         -0.66666667]\n",
      " [-1.          0.33333333]]\n",
      "[[ 3.         -0.66666667]\n",
      " [-1.          0.33333333]]\n"
     ]
    }
   ],
   "source": [
    "import numpy as np\n",
    "from numpy import linalg as LA\n",
    "M = np.mat('1 2; 3 9')\n",
    "print(type(M))\n",
    "print(M)\n",
    "print(M.I)\n",
    "print(M.getI())\n",
    "print(LA.inv(M))"
   ]
  },
  {
   "cell_type": "code",
   "execution_count": 423,
   "metadata": {
    "collapsed": false
   },
   "outputs": [
    {
     "name": "stdout",
     "output_type": "stream",
     "text": [
      "<class 'numpy.matrixlib.defmatrix.matrix'>\n",
      "[[1 2]\n",
      " [3 9]]\n",
      "[[1 3]\n",
      " [2 9]]\n",
      "[[1 3]\n",
      " [2 9]]\n"
     ]
    }
   ],
   "source": [
    "import numpy as np\n",
    "from numpy import linalg as LA\n",
    "M = np.mat('1 2; 3 9')\n",
    "print(type(M))\n",
    "print(M)\n",
    "print(M.H)\n",
    "print(M.getH())\n"
   ]
  },
  {
   "cell_type": "code",
   "execution_count": 425,
   "metadata": {
    "collapsed": false
   },
   "outputs": [
    {
     "name": "stdout",
     "output_type": "stream",
     "text": [
      "<class 'numpy.matrixlib.defmatrix.matrix'>\n",
      "[[1 2]\n",
      " [3 9]]\n",
      "<class 'numpy.ndarray'>\n",
      "[[1 2]\n",
      " [3 9]]\n",
      "[[1 2]\n",
      " [3 9]]\n"
     ]
    }
   ],
   "source": [
    "import numpy as np\n",
    "from numpy import linalg as LA\n",
    "M = np.mat('1 2; 3 9')\n",
    "print(type(M))\n",
    "print(M)\n",
    "print(type(M.A))\n",
    "print(M.A)\n",
    "print(M.getA())"
   ]
  },
  {
   "cell_type": "code",
   "execution_count": 485,
   "metadata": {
    "collapsed": false
   },
   "outputs": [
    {
     "name": "stdout",
     "output_type": "stream",
     "text": [
      "<class 'numpy.matrixlib.defmatrix.matrix'>\n",
      "[[1 2 3]\n",
      " [4 5 6]\n",
      " [7 8 9]]\n",
      "[[ -3.  -6.  -3.]\n",
      " [ -6. -12.  -6.]\n",
      " [ -3.  -6.  -3.]]\n"
     ]
    }
   ],
   "source": [
    "import numpy as np\n",
    "from numpy import linalg as LA\n",
    "\n",
    "M = np.mat('1 2 3; 4 5 6; 7 8 9')\n",
    "print(type(M))\n",
    "print(M)\n",
    "\n",
    "a = []\n",
    "for i in range(0,3) : \n",
    "    for j in range(0,3) :\n",
    "        if (i == 0)  : \n",
    "            if j == 0 : \n",
    "                c00 = M[i+1: ,j+1:]\n",
    "            if j == 1  :\n",
    "                c00 = M[i+1: ,[j-1,j+1]]\n",
    "            if j == 2  :\n",
    "                c00 = M[i+1: ,[j-2,j-1]]\n",
    "        if (i == 1)  : \n",
    "            if j == 0 : \n",
    "                c00 = M[[i-1,i+1] ,j+1:]\n",
    "            if j == 1  :\n",
    "                c00 = M[[i-1,i+1] ,[[j-1],[j+1]]].T\n",
    "            if j == 2  :\n",
    "                c00 = M[[i-1,i+1] ,[[j-2],[j-1]]].T         \n",
    "        if (i == 2)  : \n",
    "            if j == 0 : \n",
    "                c00 = M[[i-2,i-1] ,j+1:]\n",
    "            if j == 1  :\n",
    "                c00 = M[[i-2,i-1] ,[[j-1],[j+1]]].T\n",
    "            if j == 2  :\n",
    "                c00 = M[[i-2,i-1] ,[[j-2],[j-1]]].T\n",
    "        a.append(LA.det(c00))\n",
    "        \n",
    "\n",
    "c = np.array(a).reshape(3,3)\n",
    "print(c)"
   ]
  },
  {
   "cell_type": "code",
   "execution_count": null,
   "metadata": {
    "collapsed": true
   },
   "outputs": [],
   "source": [
    "[[ -3.   6.  -3.]\n",
    " [  6. -12.   6.]\n",
    " [ -3.   6.  -3.]]"
   ]
  },
  {
   "cell_type": "code",
   "execution_count": 484,
   "metadata": {
    "collapsed": false
   },
   "outputs": [
    {
     "name": "stdout",
     "output_type": "stream",
     "text": [
      "[[9 5]\n",
      " [6 7]]\n",
      "[[3 5]\n",
      " [8 7]]\n",
      "[[3 9]\n",
      " [8 6]]\n",
      "[[2 3]\n",
      " [6 7]]\n",
      "[[1 3]\n",
      " [8 7]]\n",
      "[[1 2]\n",
      " [8 6]]\n",
      "[[2 3]\n",
      " [9 5]]\n",
      "[[1 3]\n",
      " [3 5]]\n",
      "[[1 2]\n",
      " [3 9]]\n"
     ]
    }
   ],
   "source": [
    "import numpy as np\n",
    "from numpy import linalg as LA\n",
    "\n",
    "M = np.mat('1 2 3; 3 9 5; 8 6 7')\n",
    "\n",
    "for i in range(0,3) : \n",
    "    for j in range(0,3) :\n",
    "        if (i == 0)  : \n",
    "            if j == 0 : \n",
    "                c00 = M[i+1: ,j+1:]\n",
    "            if j == 1  :\n",
    "                c00 = M[i+1: ,[j-1,j+1]]\n",
    "            if j == 2  :\n",
    "                c00 = M[i+1: ,[j-2,j-1]]\n",
    "        if (i == 1)  : \n",
    "            if j == 0 : \n",
    "                c00 = M[[i-1,i+1] ,j+1:]\n",
    "            if j == 1  :\n",
    "                c00 = M[[i-1,i+1] ,[[j-1],[j+1]]].T\n",
    "            if j == 2  :\n",
    "                c00 = M[[i-1,i+1] ,[[j-2],[j-1]]].T         \n",
    "        if (i == 2)  : \n",
    "            if j == 0 : \n",
    "                c00 = M[[i-2,i-1] ,j+1:]\n",
    "            if j == 1  :\n",
    "                c00 = M[[i-2,i-1] ,[[j-1],[j+1]]].T\n",
    "            if j == 2  :\n",
    "                c00 = M[[i-2,i-1] ,[[j-2],[j-1]]].T\n",
    "        print(c00)"
   ]
  },
  {
   "cell_type": "code",
   "execution_count": 435,
   "metadata": {
    "collapsed": false
   },
   "outputs": [
    {
     "name": "stdout",
     "output_type": "stream",
     "text": [
      "9\n",
      "9.0\n"
     ]
    }
   ],
   "source": [
    "def solve(matrix, mul):\n",
    "    width = len(matrix)\n",
    "    if width == 1:\n",
    "        return mul * matrix[0][0]\n",
    "    else:\n",
    "        sign = -1\n",
    "        total = 0\n",
    "        for i in range(width):\n",
    "            m = []\n",
    "            for j in range(1, width):\n",
    "                buff = []\n",
    "                for k in range(width):\n",
    "                    if k != i:\n",
    "                        buff.append(matrix[j][k])\n",
    "                m.append(buff)\n",
    "            sign *= -1\n",
    "            total += mul * solve(m, sign * matrix[0][i])\n",
    "        return total\n",
    "\n",
    "    \n",
    "matrixs = [[1,-2,3],[0,-3,-4],[0,0,-3]]\n",
    "print(solve(matrixs, 1))\n",
    "\n",
    "print(LA.det(matrixs))"
   ]
  },
  {
   "cell_type": "code",
   "execution_count": null,
   "metadata": {
    "collapsed": true
   },
   "outputs": [],
   "source": []
  }
 ],
 "metadata": {
  "anaconda-cloud": {},
  "kernelspec": {
   "display_name": "Python [conda root]",
   "language": "python",
   "name": "conda-root-py"
  },
  "language_info": {
   "codemirror_mode": {
    "name": "ipython",
    "version": 3
   },
   "file_extension": ".py",
   "mimetype": "text/x-python",
   "name": "python",
   "nbconvert_exporter": "python",
   "pygments_lexer": "ipython3",
   "version": "3.5.2"
  }
 },
 "nbformat": 4,
 "nbformat_minor": 1
}
